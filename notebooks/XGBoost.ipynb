{
 "cells": [
  {
   "cell_type": "code",
   "execution_count": 1,
   "metadata": {},
   "outputs": [],
   "source": [
    "import pandas as pd\n",
    "from xgboost import XGBRegressor\n",
    "from sklearn.model_selection import train_test_split\n",
    "from sklearn.preprocessing import LabelEncoder"
   ]
  },
  {
   "cell_type": "code",
   "execution_count": 2,
   "metadata": {},
   "outputs": [],
   "source": [
    "# Read in data\n",
    "df = pd.read_csv('../data/df_clean.csv', index_col=0, parse_dates=True)"
   ]
  },
  {
   "cell_type": "markdown",
   "metadata": {},
   "source": [
    "## Categoricals"
   ]
  },
  {
   "cell_type": "code",
   "execution_count": 3,
   "metadata": {},
   "outputs": [],
   "source": [
    "# Get Categorical columns\n",
    "categorical = df.select_dtypes(include='object')\n",
    "\n",
    "# Instationate LabelEncoder, fit and transform on wind_direction cols\n",
    "wind_dir_coder = LabelEncoder()\n",
    "wind_dir_coder.fit(df['wind_madrid'])\n",
    "for col in categorical.filter(regex='wind').columns:\n",
    "    df[col] = wind_dir_coder.transform(df[col])\n",
    "    \n",
    "\n",
    "# Stack condition columns into single col\n",
    "stacked_conditions = categorical.filter(regex='condition').stack()\n",
    "\n",
    "# Instantiate Label encoder, fit and transform on condition cols\n",
    "condition_coder = LabelEncoder()\n",
    "condition_coder.fit(stacked_conditions)\n",
    "for col in categorical.filter(regex='condition').columns:\n",
    "    df[col] = condition_coder.transform(df[col])"
   ]
  },
  {
   "cell_type": "code",
   "execution_count": 4,
   "metadata": {
    "scrolled": true
   },
   "outputs": [
    {
     "name": "stdout",
     "output_type": "stream",
     "text": [
      "<class 'pandas.core.frame.DataFrame'>\n",
      "DatetimeIndex: 61040 entries, 2015-01-01 00:00:00 to 2021-12-30 23:00:00\n",
      "Data columns (total 64 columns):\n",
      " #   Column                                       Non-Null Count  Dtype  \n",
      "---  ------                                       --------------  -----  \n",
      " 0   generation biomass                           61040 non-null  float64\n",
      " 1   generation fossil brown coal/lignite         61040 non-null  float64\n",
      " 2   generation fossil gas                        61040 non-null  float64\n",
      " 3   generation fossil hard coal                  61040 non-null  float64\n",
      " 4   generation fossil oil                        61040 non-null  float64\n",
      " 5   generation hydro pumped storage consumption  61040 non-null  float64\n",
      " 6   generation hydro run-of-river and poundage   61040 non-null  float64\n",
      " 7   generation hydro water reservoir             61040 non-null  float64\n",
      " 8   generation nuclear                           61040 non-null  float64\n",
      " 9   generation other                             61040 non-null  float64\n",
      " 10  generation other renewable                   61040 non-null  float64\n",
      " 11  generation solar                             61040 non-null  float64\n",
      " 12  generation waste                             61040 non-null  float64\n",
      " 13  generation wind onshore                      61040 non-null  float64\n",
      " 14  forecast solar day ahead                     61040 non-null  float64\n",
      " 15  forecast wind onshore day ahead              61040 non-null  float64\n",
      " 16  total load forecast                          61040 non-null  float64\n",
      " 17  total load actual                            61040 non-null  float64\n",
      " 18  price day ahead                              61040 non-null  float64\n",
      " 19  price actual                                 61040 non-null  float64\n",
      " 20  generation total                             61040 non-null  float64\n",
      " 21  diff                                         61040 non-null  float64\n",
      " 22  generation_scheduled                         61040 non-null  float64\n",
      " 23  consumption_scheduled                        61040 non-null  float64\n",
      " 24  transmission_ps                              61040 non-null  float64\n",
      " 25  transmission_sp                              61040 non-null  float64\n",
      " 26  transmission_fs                              61040 non-null  float64\n",
      " 27  transmission_sf                              61040 non-null  float64\n",
      " 28  temp_madrid                                  61040 non-null  float64\n",
      " 29  dew_point_madrid                             61040 non-null  float64\n",
      " 30  humidities_madrid                            61040 non-null  float64\n",
      " 31  wind_madrid                                  61040 non-null  int32  \n",
      " 32  wind_speeds_madrid                           61040 non-null  float64\n",
      " 33  pressures_madrid                             61040 non-null  float64\n",
      " 34  condition_madrid                             61040 non-null  int32  \n",
      " 35  temp_seville                                 61040 non-null  float64\n",
      " 36  dew_point_seville                            61040 non-null  float64\n",
      " 37  humidities_seville                           61040 non-null  float64\n",
      " 38  wind_seville                                 61040 non-null  int32  \n",
      " 39  wind_speeds_seville                          61040 non-null  float64\n",
      " 40  pressures_seville                            61040 non-null  float64\n",
      " 41  condition_seville                            61040 non-null  int32  \n",
      " 42  temp_barcelona                               61040 non-null  float64\n",
      " 43  dew_point_barcelona                          61040 non-null  float64\n",
      " 44  humidities_barcelona                         61040 non-null  float64\n",
      " 45  wind_barcelona                               61040 non-null  int32  \n",
      " 46  wind_speeds_barcelona                        61040 non-null  float64\n",
      " 47  pressures_barcelona                          61040 non-null  float64\n",
      " 48  condition_barcelona                          61040 non-null  int32  \n",
      " 49  temp_bilbao                                  61040 non-null  float64\n",
      " 50  dew_point_bilbao                             61040 non-null  float64\n",
      " 51  humidities_bilbao                            61040 non-null  float64\n",
      " 52  wind_bilbao                                  61040 non-null  int32  \n",
      " 53  wind_speeds_bilbao                           61040 non-null  float64\n",
      " 54  pressures_bilbao                             61040 non-null  float64\n",
      " 55  condition_bilbao                             61040 non-null  int32  \n",
      " 56  temp_valencia                                61040 non-null  float64\n",
      " 57  dew_point_valencia                           61040 non-null  float64\n",
      " 58  humidities_valencia                          61040 non-null  float64\n",
      " 59  wind_valencia                                61040 non-null  int32  \n",
      " 60  wind_speeds_valencia                         61040 non-null  float64\n",
      " 61  pressures_valencia                           61040 non-null  float64\n",
      " 62  condition_valencia                           61040 non-null  int32  \n",
      " 63  price tomorrow                               61040 non-null  float64\n",
      "dtypes: float64(54), int32(10)\n",
      "memory usage: 30.0 MB\n"
     ]
    }
   ],
   "source": [
    "df.info()"
   ]
  },
  {
   "cell_type": "markdown",
   "metadata": {},
   "source": [
    "## Split Data"
   ]
  },
  {
   "cell_type": "code",
   "execution_count": 6,
   "metadata": {},
   "outputs": [],
   "source": [
    "X_train, X_test, y_train, y_test = train_test_split(df.drop(columns=['price tomorrow']), df['price tomorrow'], test_size=.3,\n",
    "                                                    random_state=17)\n",
    "X_test, X_val, y_test, y_val = train_test_split(X_test, y_test, test_size=.5, random_state=17)"
   ]
  },
  {
   "cell_type": "markdown",
   "metadata": {},
   "source": [
    "## Model"
   ]
  },
  {
   "cell_type": "code",
   "execution_count": 24,
   "metadata": {},
   "outputs": [],
   "source": [
    "xgb_0 = XGBRegressor(random_state=17)\n",
    "xgb_0.fit(X_train, y_train)\n",
    "train_preds_0 = xgb_0.predict(X_train)\n",
    "val_preds_0 = xgb_0.predict(X_val)\n"
   ]
  },
  {
   "cell_type": "code",
   "execution_count": 35,
   "metadata": {},
   "outputs": [
    {
     "name": "stdout",
     "output_type": "stream",
     "text": [
      "r-squared train: 0.9871055598257437\n",
      "r-squared val: 0.9570112146169001\n"
     ]
    }
   ],
   "source": [
    "print('r-squared train:', xgb_0.score(X_train,y_train))\n",
    "print('r-squared val:', xgb_0.score(X_val,y_val))"
   ]
  },
  {
   "cell_type": "code",
   "execution_count": null,
   "metadata": {},
   "outputs": [],
   "source": []
  }
 ],
 "metadata": {
  "kernelspec": {
   "display_name": "learn-env",
   "language": "python",
   "name": "learn-env"
  },
  "language_info": {
   "codemirror_mode": {
    "name": "ipython",
    "version": 3
   },
   "file_extension": ".py",
   "mimetype": "text/x-python",
   "name": "python",
   "nbconvert_exporter": "python",
   "pygments_lexer": "ipython3",
   "version": "3.8.5"
  }
 },
 "nbformat": 4,
 "nbformat_minor": 4
}
