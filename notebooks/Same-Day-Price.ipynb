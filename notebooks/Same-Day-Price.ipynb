{
 "cells": [
  {
   "cell_type": "markdown",
   "metadata": {},
   "source": [
    "### Does the Weather Affect same day Price?"
   ]
  },
  {
   "cell_type": "code",
   "execution_count": 1,
   "metadata": {},
   "outputs": [],
   "source": [
    "# Libraries for data cleaning, massaging:\n",
    "import pandas as pd\n",
    "import numpy as np\n",
    "from sklearn.preprocessing import LabelEncoder\n",
    "import datetime as dt\n",
    "\n",
    "\n",
    "# Modeling Libraries\n",
    "from xgboost import XGBRegressor\n",
    "from sklearn.multioutput import MultiOutputRegressor\n",
    "from sklearn.feature_selection import RFE\n",
    "from sklearn.linear_model import Lasso\n",
    "\n",
    "import tensorflow as tf\n",
    "from tensorflow import keras\n",
    "from keras import layers, models, regularizers\n",
    "from tensorflow.keras.layers import TimeDistributed\n",
    "from sklearn.preprocessing import MinMaxScaler\n",
    "\n",
    "# Save Models\n",
    "import pickle\n",
    "\n",
    "# Plotting\n",
    "import matplotlib.pyplot as plt\n",
    "import seaborn as sns\n",
    "\n",
    "# Manipulate directories \n",
    "import os\n",
    "\n",
    "# Import custom functions\n",
    "os.chdir('../scripts')\n",
    "from functions import split_data, sMAPE, SMAPE, compute_metrics, r2,impute_immediate_mean\n",
    "from functions import resample, plot_metric_range, compile_fit, ensemble_nn\n",
    "os.chdir('../notebooks')"
   ]
  },
  {
   "cell_type": "code",
   "execution_count": 2,
   "metadata": {},
   "outputs": [],
   "source": [
    "# Import the data\n",
    "df = pd.read_csv('../data/clean/df_clean.csv', parse_dates=True, index_col=0)"
   ]
  },
  {
   "cell_type": "code",
   "execution_count": 3,
   "metadata": {},
   "outputs": [],
   "source": [
    "# Remove the price components cols\n",
    "price_drop = df.filter(regex='price').columns.to_list()\n",
    "price_drop.remove('price_actual')\n",
    "df.drop(columns=price_drop, inplace=True)"
   ]
  },
  {
   "cell_type": "markdown",
   "metadata": {},
   "source": [
    "Encode categorical columns"
   ]
  },
  {
   "cell_type": "code",
   "execution_count": 4,
   "metadata": {},
   "outputs": [],
   "source": [
    "# Get Categorical columns\n",
    "categorical = df.select_dtypes(include='object')\n",
    "\n",
    "# Instationate wind_dir_coder LabelEncoder, fit\n",
    "wind_dir_coder = LabelEncoder()\n",
    "wind_dir_coder.fit(df['wind_madrid'])\n",
    "\n",
    "# Transform wind_direction cols\n",
    "for col in categorical.filter(regex='wind').columns:\n",
    "    df[col] = wind_dir_coder.transform(df[col])\n",
    "    \n",
    "\n",
    "# Stack condition columns into single col\n",
    "stacked_conditions = categorical.filter(regex='condition').stack()\n",
    "\n",
    "# Instantiate condition_coder LabelEncoder, fit on stacked conditions\n",
    "condition_coder = LabelEncoder()\n",
    "condition_coder.fit(stacked_conditions)\n",
    "\n",
    "# Transform condition cols\n",
    "for col in categorical.filter(regex='condition').columns:\n",
    "    df[col] = condition_coder.transform(df[col])"
   ]
  },
  {
   "cell_type": "markdown",
   "metadata": {},
   "source": [
    "Split data, train, and compute lasso"
   ]
  },
  {
   "cell_type": "code",
   "execution_count": 7,
   "metadata": {},
   "outputs": [
    {
     "data": {
      "text/plain": [
       "['vanilla', 11.187, 29.509, 0.708, 0.594]"
      ]
     },
     "execution_count": 7,
     "metadata": {},
     "output_type": "execute_result"
    }
   ],
   "source": [
    "X_train, y_train, X_val, y_val = split_data(df, 2020, 'price_actual')\n",
    "\n",
    "lr = Lasso(max_iter=10000, random_state=17)\n",
    "lr.fit(X_train, y_train)\n",
    "compute_metrics(lr, 'vanilla', (X_train, y_train), (X_val, y_val))"
   ]
  },
  {
   "cell_type": "markdown",
   "metadata": {},
   "source": [
    "Look at Lasso model coefficients"
   ]
  },
  {
   "cell_type": "code",
   "execution_count": 8,
   "metadata": {},
   "outputs": [],
   "source": [
    "lr_coefs = pd.DataFrame({'Coefficients':lr.coef_}, index=X_val.columns)\n",
    "lr_coefs['Key'] = lr_coefs.Coefficients.apply(lambda x: 'Negative' if x<0 else 'Positive')\n",
    "lr_coefs.Coefficients = abs(lr_coefs.Coefficients)"
   ]
  },
  {
   "cell_type": "code",
   "execution_count": 9,
   "metadata": {},
   "outputs": [
    {
     "data": {
      "text/html": [
       "<div>\n",
       "<style scoped>\n",
       "    .dataframe tbody tr th:only-of-type {\n",
       "        vertical-align: middle;\n",
       "    }\n",
       "\n",
       "    .dataframe tbody tr th {\n",
       "        vertical-align: top;\n",
       "    }\n",
       "\n",
       "    .dataframe thead th {\n",
       "        text-align: right;\n",
       "    }\n",
       "</style>\n",
       "<table border=\"1\" class=\"dataframe\">\n",
       "  <thead>\n",
       "    <tr style=\"text-align: right;\">\n",
       "      <th></th>\n",
       "      <th>Coefficients</th>\n",
       "      <th>Key</th>\n",
       "    </tr>\n",
       "  </thead>\n",
       "  <tbody>\n",
       "    <tr>\n",
       "      <th>renewable</th>\n",
       "      <td>0.256503</td>\n",
       "      <td>Positive</td>\n",
       "    </tr>\n",
       "    <tr>\n",
       "      <th>dew_point_barcelona</th>\n",
       "      <td>0.065515</td>\n",
       "      <td>Negative</td>\n",
       "    </tr>\n",
       "    <tr>\n",
       "      <th>condition_bilbao</th>\n",
       "      <td>0.036635</td>\n",
       "      <td>Negative</td>\n",
       "    </tr>\n",
       "    <tr>\n",
       "      <th>other</th>\n",
       "      <td>0.031813</td>\n",
       "      <td>Positive</td>\n",
       "    </tr>\n",
       "    <tr>\n",
       "      <th>wind_bilbao</th>\n",
       "      <td>0.025159</td>\n",
       "      <td>Negative</td>\n",
       "    </tr>\n",
       "    <tr>\n",
       "      <th>wind_seville</th>\n",
       "      <td>0.022924</td>\n",
       "      <td>Negative</td>\n",
       "    </tr>\n",
       "    <tr>\n",
       "      <th>humidities_madrid</th>\n",
       "      <td>0.017798</td>\n",
       "      <td>Positive</td>\n",
       "    </tr>\n",
       "    <tr>\n",
       "      <th>biomass</th>\n",
       "      <td>0.011691</td>\n",
       "      <td>Positive</td>\n",
       "    </tr>\n",
       "    <tr>\n",
       "      <th>condition_barcelona</th>\n",
       "      <td>0.009297</td>\n",
       "      <td>Positive</td>\n",
       "    </tr>\n",
       "    <tr>\n",
       "      <th>temp_bilbao</th>\n",
       "      <td>0.008292</td>\n",
       "      <td>Negative</td>\n",
       "    </tr>\n",
       "  </tbody>\n",
       "</table>\n",
       "</div>"
      ],
      "text/plain": [
       "                     Coefficients       Key\n",
       "renewable                0.256503  Positive\n",
       "dew_point_barcelona      0.065515  Negative\n",
       "condition_bilbao         0.036635  Negative\n",
       "other                    0.031813  Positive\n",
       "wind_bilbao              0.025159  Negative\n",
       "wind_seville             0.022924  Negative\n",
       "humidities_madrid        0.017798  Positive\n",
       "biomass                  0.011691  Positive\n",
       "condition_barcelona      0.009297  Positive\n",
       "temp_bilbao              0.008292  Negative"
      ]
     },
     "execution_count": 9,
     "metadata": {},
     "output_type": "execute_result"
    }
   ],
   "source": [
    "lr_coefs.sort_values(by='Coefficients', ascending=False).head(10)"
   ]
  },
  {
   "cell_type": "markdown",
   "metadata": {},
   "source": [
    "### Determining if the model is only noise\n",
    "Let's explore if that 0.59 r-squared is just noise or the model is actually catching on to a relationship.  Below I'll use RFE to select the most important features, then run a model and display it's performance.  Next, run another model with the least most important features.  If the model with important features significantly outperforms the model with less important features, we can be sure that 0.59 r-squared is not just random noise.\n",
    "\n",
    "To start, I'll RFE and then plot the results by number of features:"
   ]
  },
  {
   "cell_type": "code",
   "execution_count": 10,
   "metadata": {
    "scrolled": true
   },
   "outputs": [],
   "source": [
    "sMAPE_lasso = []\n",
    "for i in range(1, len(X_train.columns)):\n",
    "    lasso_temp = Lasso(max_iter = 10000, random_state=17)\n",
    "    selector = RFE(lasso_temp, n_features_to_select=i)\n",
    "    selector = selector.fit(X_train, y_train)\n",
    "    cols = X_train.columns[selector.support_]\n",
    "    lasso_temp.fit(X_train[cols], y_train)\n",
    "\n",
    "    preds = lasso_temp.predict(X_val[cols])\n",
    "    sMAPE_lasso.append(sMAPE(y_val, preds))"
   ]
  },
  {
   "cell_type": "code",
   "execution_count": 11,
   "metadata": {},
   "outputs": [
    {
     "data": {
      "image/png": "[encoded data removed]",
      "text/plain": [
       "<Figure size 1080x576 with 1 Axes>"
      ]
     },
     "metadata": {
      "needs_background": "light"
     },
     "output_type": "display_data"
    }
   ],
   "source": [
    "fig = plt.figure(figsize=(15,8))\n",
    "plt.plot(range(1, len(X_train.columns)), sMAPE_lasso);\n",
    "plt.xticks(range(1,len(X_train.columns)));\n",
    "plt.xlabel('Number of Features');\n",
    "plt.ylabel('val_SMAPE');\n",
    "plt.title(\"SMAPE v. Number of Features\");\n",
    "#plt.savefig('../images/RFE_LassoRegression')"
   ]
  },
  {
   "cell_type": "markdown",
   "metadata": {},
   "source": [
    "Great, it looks like model most improves when run on thetop 13 features. I'll get those top 13 features, and fit a model below and compute the metrics."
   ]
  },
  {
   "cell_type": "code",
   "execution_count": 12,
   "metadata": {},
   "outputs": [
    {
     "data": {
      "text/plain": [
       "29.508831211931316"
      ]
     },
     "execution_count": 12,
     "metadata": {},
     "output_type": "execute_result"
    }
   ],
   "source": [
    "lasso_13 = Lasso(max_iter = 10000, random_state=17)\n",
    "selector = RFE(lasso_13, n_features_to_select=13)\n",
    "selector = selector.fit(X_train, y_train)\n",
    "cols = X_train.columns[selector.support_]\n",
    "lasso_13.fit(X_train[cols], y_train)\n",
    "preds_13 = lasso_13.predict(X_val[cols])\n",
    "sMAPE(y_val, preds)"
   ]
  },
  {
   "cell_type": "markdown",
   "metadata": {},
   "source": [
    "Run model using \"less important\" columns, compute SMAPE on validation set"
   ]
  },
  {
   "cell_type": "code",
   "execution_count": 13,
   "metadata": {},
   "outputs": [
    {
     "data": {
      "text/plain": [
       "24.61709112931429"
      ]
     },
     "execution_count": 13,
     "metadata": {},
     "output_type": "execute_result"
    }
   ],
   "source": [
    "# Get the other columns not included in lasso_13\n",
    "other_cols = list(set(X_train.columns.to_list()) - set(cols))\n",
    "\n",
    "# Run model on remaining \"unimportant\" columns\n",
    "lasso_other = Lasso(max_iter=10000)\n",
    "lasso_other.fit(X_train[other_cols], y_train)\n",
    "preds_other = lasso_other.predict(X_val[other_cols])\n",
    "sMAPE(y_val, preds_other)"
   ]
  },
  {
   "cell_type": "markdown",
   "metadata": {},
   "source": [
    "lasso_other model with \"less\" important features actually performs better than model run on \"more\" important features.\n",
    "\n",
    "**Conclusion**: Without the `price_day_ahead` variable, our other columns are mostly just noisy, having little information on the current day's price."
   ]
  },
  {
   "cell_type": "code",
   "execution_count": 28,
   "metadata": {},
   "outputs": [
    {
     "data": {
      "image/png": "[encoded data removed]",
      "text/plain": [
       "<Figure size 1080x360 with 1 Axes>"
      ]
     },
     "metadata": {
      "needs_background": "light"
     },
     "output_type": "display_data"
    }
   ],
   "source": [
    "df_preds = pd.DataFrame({'lr_preds':lr_preds, 'actual':y_val})\n",
    "df_preds.plot(figsize=(15,5));"
   ]
  },
  {
   "cell_type": "markdown",
   "metadata": {},
   "source": [
    "Fit XGBoost Regressor and compute metrics"
   ]
  },
  {
   "cell_type": "code",
   "execution_count": 6,
   "metadata": {},
   "outputs": [
    {
     "data": {
      "text/plain": [
       "['vanilla', 4.035, 26.849, 0.959, 0.417]"
      ]
     },
     "execution_count": 6,
     "metadata": {},
     "output_type": "execute_result"
    }
   ],
   "source": [
    "x = XGBRegressor()\n",
    "x.fit(X_train, y_train)\n",
    "compute_metrics(x, 'vanilla', (X_train, y_train), (X_val, y_val))"
   ]
  },
  {
   "cell_type": "markdown",
   "metadata": {},
   "source": [
    "Scale categorical data for neural networks"
   ]
  },
  {
   "cell_type": "code",
   "execution_count": 7,
   "metadata": {},
   "outputs": [],
   "source": [
    "# Copy the dataframe for neural networks\n",
    "df_nn = df.copy()\n",
    "continuous = df_nn.select_dtypes(exclude='object').filter(regex='^(?!.*price).*').columns\n",
    "\n",
    "# Get rid of negatives\n",
    "time = dt.datetime(2021,3,24,22)\n",
    "df_nn.loc[time, 'dew_point_bilbao'] = impute_immediate_mean(df_nn['dew_point_bilbao'], time)\n",
    "\n",
    "# Rescale data [-1,1]\n",
    "scaler = MinMaxScaler(feature_range=(-1, 1))\n",
    "df_nn[continuous] = scaler.fit_transform(df_nn[continuous])"
   ]
  },
  {
   "cell_type": "markdown",
   "metadata": {},
   "source": [
    "Define simple neural net, compile, fit, and compute metrics"
   ]
  },
  {
   "cell_type": "code",
   "execution_count": 8,
   "metadata": {
    "scrolled": true
   },
   "outputs": [
    {
     "name": "stdout",
     "output_type": "stream",
     "text": [
      "Epoch 1/200\n",
      "1370/1370 [==============================] - 2s 2ms/step - loss: 56.7885 - SMAPE: 200.0000 - val_loss: 39.1089 - val_SMAPE: 200.0000\n",
      "Epoch 2/200\n",
      "1370/1370 [==============================] - 2s 1ms/step - loss: 56.7886 - SMAPE: 200.0000 - val_loss: 39.1089 - val_SMAPE: 200.0000\n",
      "Epoch 3/200\n",
      "1370/1370 [==============================] - 2s 1ms/step - loss: 56.7886 - SMAPE: 200.0000 - val_loss: 39.1089 - val_SMAPE: 200.0000\n",
      "Epoch 4/200\n",
      "1370/1370 [==============================] - 2s 1ms/step - loss: 56.7886 - SMAPE: 200.0000 - val_loss: 39.1089 - val_SMAPE: 200.0000\n",
      "Epoch 5/200\n",
      "1370/1370 [==============================] - 2s 1ms/step - loss: 56.7886 - SMAPE: 200.0000 - val_loss: 39.1089 - val_SMAPE: 200.0000\n",
      "Epoch 6/200\n",
      "1370/1370 [==============================] - 2s 1ms/step - loss: 56.7885 - SMAPE: 200.0000 - val_loss: 39.1089 - val_SMAPE: 200.0000\n",
      "Epoch 7/200\n",
      "1370/1370 [==============================] - 2s 1ms/step - loss: 56.7886 - SMAPE: 200.0000 - val_loss: 39.1089 - val_SMAPE: 200.0000\n",
      "Epoch 8/200\n",
      "1370/1370 [==============================] - 2s 2ms/step - loss: 56.7885 - SMAPE: 200.0000 - val_loss: 39.1089 - val_SMAPE: 200.0000\n",
      "Epoch 9/200\n",
      "1370/1370 [==============================] - 2s 2ms/step - loss: 56.7886 - SMAPE: 200.0000 - val_loss: 39.1089 - val_SMAPE: 200.0000\n",
      "Epoch 10/200\n",
      "1370/1370 [==============================] - 2s 2ms/step - loss: 56.7886 - SMAPE: 200.0000 - val_loss: 39.1089 - val_SMAPE: 200.0000\n",
      "Epoch 11/200\n",
      "1370/1370 [==============================] - 2s 1ms/step - loss: 56.7886 - SMAPE: 200.0000 - val_loss: 39.1089 - val_SMAPE: 200.0000\n"
     ]
    },
    {
     "name": "stderr",
     "output_type": "stream",
     "text": [
      "C:\\Users\\holde\\anaconda3\\lib\\site-packages\\numpy\\lib\\function_base.py:2559: RuntimeWarning: invalid value encountered in true_divide\n",
      "  c /= stddev[:, None]\n",
      "C:\\Users\\holde\\anaconda3\\lib\\site-packages\\numpy\\lib\\function_base.py:2560: RuntimeWarning: invalid value encountered in true_divide\n",
      "  c /= stddev[None, :]\n"
     ]
    },
    {
     "data": {
      "text/plain": [
       "['1-to-1', 200.0, 200.0, nan, nan]"
      ]
     },
     "execution_count": 8,
     "metadata": {},
     "output_type": "execute_result"
    }
   ],
   "source": [
    "# Define input_shape\n",
    "input_shape = (X_train.shape[1],)\n",
    "\n",
    "# Instantiate model and build layers\n",
    "nn = models.Sequential()\n",
    "nn.add(layers.Dense(59, activation='relu', input_shape=input_shape))\n",
    "nn.add(layers.Dense(239, activation='relu'))\n",
    "nn.add(layers.Dense(162, activation='relu'))\n",
    "nn.add(layers.Dense(1, activation='relu'))\n",
    "\n",
    "# Compile and Fit\n",
    "nn10 = compile_fit(nn, (X_train,y_train), (X_val, y_val), patience=10,\n",
    "                  loss = tf.keras.metrics.mean_absolute_error)\n",
    "\n",
    "# Compute metrics, add to table\n",
    "compute_metrics(nn10, '1-to-1', (X_train,y_train), (X_val, y_val))"
   ]
  },
  {
   "cell_type": "markdown",
   "metadata": {},
   "source": [
    "Neural network 24-to-24"
   ]
  },
  {
   "cell_type": "code",
   "execution_count": 9,
   "metadata": {
    "scrolled": true
   },
   "outputs": [
    {
     "name": "stdout",
     "output_type": "stream",
     "text": [
      "Epoch 1/200\n",
      "58/58 [==============================] - 1s 6ms/step - loss: 26.2745 - SMAPE: 72.2827 - val_loss: 14.5480 - val_SMAPE: 33.6830\n",
      "Epoch 2/200\n",
      "58/58 [==============================] - 0s 4ms/step - loss: 7.2611 - SMAPE: 14.0760 - val_loss: 10.5521 - val_SMAPE: 26.0518\n",
      "Epoch 3/200\n",
      "58/58 [==============================] - 0s 4ms/step - loss: 6.7586 - SMAPE: 12.8824 - val_loss: 10.9245 - val_SMAPE: 26.5871\n",
      "Epoch 4/200\n",
      "58/58 [==============================] - 0s 4ms/step - loss: 6.4132 - SMAPE: 12.0346 - val_loss: 13.1368 - val_SMAPE: 30.7375\n",
      "Epoch 5/200\n",
      "58/58 [==============================] - 0s 4ms/step - loss: 6.2548 - SMAPE: 11.7899 - val_loss: 9.1679 - val_SMAPE: 23.0653\n",
      "Epoch 6/200\n",
      "58/58 [==============================] - 0s 4ms/step - loss: 6.2105 - SMAPE: 11.5716 - val_loss: 10.1062 - val_SMAPE: 24.9829\n",
      "Epoch 7/200\n",
      "58/58 [==============================] - 0s 4ms/step - loss: 5.7861 - SMAPE: 10.7788 - val_loss: 10.9657 - val_SMAPE: 26.7102\n",
      "Epoch 8/200\n",
      "58/58 [==============================] - 0s 4ms/step - loss: 5.7651 - SMAPE: 10.7987 - val_loss: 12.6929 - val_SMAPE: 29.8911\n",
      "Epoch 9/200\n",
      "58/58 [==============================] - 0s 4ms/step - loss: 5.6293 - SMAPE: 10.4879 - val_loss: 10.6511 - val_SMAPE: 26.0909\n",
      "Epoch 10/200\n",
      "58/58 [==============================] - 0s 4ms/step - loss: 5.5278 - SMAPE: 10.3078 - val_loss: 13.1427 - val_SMAPE: 30.7587\n",
      "Epoch 11/200\n",
      "58/58 [==============================] - 0s 4ms/step - loss: 5.4332 - SMAPE: 10.3170 - val_loss: 12.8410 - val_SMAPE: 30.1751\n",
      "Epoch 12/200\n",
      "58/58 [==============================] - 0s 4ms/step - loss: 5.5306 - SMAPE: 10.3424 - val_loss: 15.9182 - val_SMAPE: 35.7326\n",
      "Epoch 13/200\n",
      "58/58 [==============================] - 0s 4ms/step - loss: 5.3336 - SMAPE: 9.9780 - val_loss: 13.9823 - val_SMAPE: 32.1334\n",
      "Epoch 14/200\n",
      "58/58 [==============================] - 0s 4ms/step - loss: 5.3652 - SMAPE: 10.0303 - val_loss: 13.3818 - val_SMAPE: 31.2299\n",
      "Epoch 15/200\n",
      "58/58 [==============================] - 0s 4ms/step - loss: 5.2599 - SMAPE: 9.9413 - val_loss: 13.2883 - val_SMAPE: 31.0577\n"
     ]
    },
    {
     "data": {
      "text/plain": [
       "['24-to-24', 11.72, 23.572, 0.702, 0.54]"
      ]
     },
     "execution_count": 9,
     "metadata": {},
     "output_type": "execute_result"
    }
   ],
   "source": [
    "# Split Data\n",
    "X_train, y_train, X_val, y_val = split_data(df_nn, 2020, 'price_actual')\n",
    "\n",
    "# Reorganize the training and testing data into batches\n",
    "X_train, y_train = resample((X_train, y_train), 24, 24, 24)\n",
    "X_val, y_val = resample((X_val,y_val), 24, 24, 24)\n",
    "\n",
    "# Define input_shape\n",
    "input_shape = (X_train.shape[1], X_train.shape[2])\n",
    "\n",
    "# Instantiate model and build layers\n",
    "nn = models.Sequential()\n",
    "nn.add(layers.Dense(59, activation='relu', input_shape=input_shape))\n",
    "nn.add(layers.Dense(239, activation='relu'))\n",
    "nn.add(layers.Dense(162, activation='relu'))\n",
    "nn.add(TimeDistributed(layers.Dense(1)))\n",
    "\n",
    "# Compile and Fit\n",
    "nn3 = compile_fit(nn, (X_train, y_train), (X_val, y_val))\n",
    "\n",
    "# Compute metrics and add to table\n",
    "compute_metrics(nn3, '24-to-24', (X_train,y_train), (X_val, y_val))"
   ]
  },
  {
   "cell_type": "markdown",
   "metadata": {},
   "source": [
    "LSTM network"
   ]
  },
  {
   "cell_type": "code",
   "execution_count": 10,
   "metadata": {
    "scrolled": true
   },
   "outputs": [
    {
     "name": "stdout",
     "output_type": "stream",
     "text": [
      "Epoch 1/200\n",
      "58/58 [==============================] - 6s 67ms/step - loss: 52.2956 - SMAPE: 168.9717 - val_loss: 31.8128 - val_SMAPE: 133.0735\n",
      "Epoch 2/200\n",
      "58/58 [==============================] - 3s 60ms/step - loss: 48.5411 - SMAPE: 146.3428 - val_loss: 29.9475 - val_SMAPE: 119.6757\n",
      "Epoch 3/200\n",
      "58/58 [==============================] - 4s 62ms/step - loss: 46.8424 - SMAPE: 137.2450 - val_loss: 28.3482 - val_SMAPE: 109.1294\n",
      "Epoch 4/200\n",
      "58/58 [==============================] - 4s 63ms/step - loss: 45.2719 - SMAPE: 128.8193 - val_loss: 26.8187 - val_SMAPE: 99.7285\n",
      "Epoch 5/200\n",
      "58/58 [==============================] - 4s 72ms/step - loss: 43.7509 - SMAPE: 121.8019 - val_loss: 25.3340 - val_SMAPE: 91.1839\n",
      "Epoch 6/200\n",
      "58/58 [==============================] - 4s 76ms/step - loss: 42.2629 - SMAPE: 114.7334 - val_loss: 23.8848 - val_SMAPE: 83.3453\n",
      "Epoch 7/200\n",
      "58/58 [==============================] - 4s 73ms/step - loss: 40.7986 - SMAPE: 108.4918 - val_loss: 22.4738 - val_SMAPE: 76.1527\n",
      "Epoch 8/200\n",
      "58/58 [==============================] - 4s 72ms/step - loss: 39.3562 - SMAPE: 102.1572 - val_loss: 21.0937 - val_SMAPE: 69.4988\n",
      "Epoch 9/200\n",
      "58/58 [==============================] - 4s 75ms/step - loss: 37.9317 - SMAPE: 96.7261 - val_loss: 19.7546 - val_SMAPE: 63.3813\n",
      "Epoch 10/200\n",
      "58/58 [==============================] - 5s 81ms/step - loss: 36.5263 - SMAPE: 90.9634 - val_loss: 18.4575 - val_SMAPE: 57.7568\n",
      "Epoch 11/200\n",
      "58/58 [==============================] - 4s 75ms/step - loss: 35.1360 - SMAPE: 85.9330 - val_loss: 17.2050 - val_SMAPE: 52.5979\n",
      "Epoch 12/200\n",
      "58/58 [==============================] - 5s 82ms/step - loss: 33.7589 - SMAPE: 81.1191 - val_loss: 16.0087 - val_SMAPE: 47.8986\n",
      "Epoch 13/200\n",
      "58/58 [==============================] - 4s 77ms/step - loss: 32.3955 - SMAPE: 76.4324 - val_loss: 14.8759 - val_SMAPE: 43.6463\n",
      "Epoch 14/200\n",
      "58/58 [==============================] - 4s 77ms/step - loss: 31.0446 - SMAPE: 71.8827 - val_loss: 13.8127 - val_SMAPE: 39.8285\n",
      "Epoch 15/200\n",
      "58/58 [==============================] - 4s 74ms/step - loss: 29.7114 - SMAPE: 67.3662 - val_loss: 12.8213 - val_SMAPE: 36.4082\n",
      "Epoch 16/200\n",
      "58/58 [==============================] - 4s 74ms/step - loss: 28.3974 - SMAPE: 63.4474 - val_loss: 11.9264 - val_SMAPE: 33.4329\n",
      "Epoch 17/200\n",
      "58/58 [==============================] - 4s 74ms/step - loss: 27.1044 - SMAPE: 59.3318 - val_loss: 11.1485 - val_SMAPE: 30.9302\n",
      "Epoch 18/200\n",
      "58/58 [==============================] - 4s 76ms/step - loss: 25.8543 - SMAPE: 55.9500 - val_loss: 10.5014 - val_SMAPE: 28.9068\n",
      "Epoch 19/200\n",
      "58/58 [==============================] - 4s 77ms/step - loss: 24.6129 - SMAPE: 52.3599 - val_loss: 9.9778 - val_SMAPE: 27.3025\n",
      "Epoch 20/200\n",
      "58/58 [==============================] - 4s 76ms/step - loss: 23.3967 - SMAPE: 49.2087 - val_loss: 9.5852 - val_SMAPE: 26.1090\n",
      "Epoch 21/200\n",
      "58/58 [==============================] - 4s 77ms/step - loss: 22.2120 - SMAPE: 46.0853 - val_loss: 9.3106 - val_SMAPE: 25.2651\n",
      "Epoch 22/200\n",
      "58/58 [==============================] - 4s 74ms/step - loss: 21.0646 - SMAPE: 43.0898 - val_loss: 9.1482 - val_SMAPE: 24.7316\n",
      "Epoch 23/200\n",
      "58/58 [==============================] - 4s 77ms/step - loss: 19.9557 - SMAPE: 40.1127 - val_loss: 9.0854 - val_SMAPE: 24.4675\n",
      "Epoch 24/200\n",
      "58/58 [==============================] - 4s 76ms/step - loss: 18.8991 - SMAPE: 37.6998 - val_loss: 9.1246 - val_SMAPE: 24.4676\n",
      "Epoch 25/200\n",
      "58/58 [==============================] - 4s 75ms/step - loss: 17.9003 - SMAPE: 34.9867 - val_loss: 9.2623 - val_SMAPE: 24.7006\n",
      "Epoch 26/200\n",
      "58/58 [==============================] - 4s 76ms/step - loss: 16.9698 - SMAPE: 32.9699 - val_loss: 9.5031 - val_SMAPE: 25.1583\n",
      "Epoch 27/200\n",
      "58/58 [==============================] - 4s 76ms/step - loss: 16.1054 - SMAPE: 30.8130 - val_loss: 9.8249 - val_SMAPE: 25.7788\n",
      "Epoch 28/200\n",
      "58/58 [==============================] - 4s 76ms/step - loss: 15.3178 - SMAPE: 28.9265 - val_loss: 10.2203 - val_SMAPE: 26.5385\n",
      "Epoch 29/200\n",
      "58/58 [==============================] - 4s 78ms/step - loss: 14.6192 - SMAPE: 27.7197 - val_loss: 10.6555 - val_SMAPE: 27.3673\n",
      "Epoch 30/200\n",
      "58/58 [==============================] - 4s 75ms/step - loss: 13.9848 - SMAPE: 26.3750 - val_loss: 11.1435 - val_SMAPE: 28.2862\n",
      "Epoch 31/200\n",
      "58/58 [==============================] - 4s 75ms/step - loss: 13.4312 - SMAPE: 25.1534 - val_loss: 11.6524 - val_SMAPE: 29.2323\n",
      "Epoch 32/200\n",
      "58/58 [==============================] - 4s 77ms/step - loss: 12.9466 - SMAPE: 23.9985 - val_loss: 12.1773 - val_SMAPE: 30.1964\n",
      "Epoch 33/200\n",
      "58/58 [==============================] - 5s 78ms/step - loss: 12.5347 - SMAPE: 23.1809 - val_loss: 12.7037 - val_SMAPE: 31.1512\n"
     ]
    },
    {
     "data": {
      "text/plain": [
       "['LSTM, 7-day input', 38.736, 24.2, 0.006, 0.007]"
      ]
     },
     "execution_count": 10,
     "metadata": {},
     "output_type": "execute_result"
    }
   ],
   "source": [
    "# Split the data into train and validation\n",
    "X_train, y_train, X_val, y_val = split_data(df_nn, 2020, 'price_actual')\n",
    "\n",
    "# Reorganize the training and testing data into batches\n",
    "X_train, y_train = resample((X_train, y_train), 24*7, 24, 24)\n",
    "X_val, y_val = resample((X_val,y_val), 24*7, 24, 24)\n",
    "\n",
    "# Input Shape\n",
    "input_shape = (X_train.shape[1], X_train.shape[2])\n",
    "\n",
    "# Instantiate model and build layers\n",
    "nn = models.Sequential()\n",
    "nn.add(layers.LSTM(60, activation='tanh', input_shape=input_shape))\n",
    "nn.add(layers.RepeatVector(y_train.shape[1]))\n",
    "nn.add(layers.LSTM(24, activation='tanh', return_sequences=True))\n",
    "nn.add(TimeDistributed(layers.Dense(1)))\n",
    "\n",
    "# Compile Fit\n",
    "nn4 = compile_fit(nn, (X_train, y_train), (X_val, y_val))\n",
    "\n",
    "# Compute metrics, add to table\n",
    "compute_metrics(nn4, 'LSTM, 7-day input', (X_train,y_train), (X_val,y_val))"
   ]
  },
  {
   "cell_type": "markdown",
   "metadata": {},
   "source": [
    "DNN-LSTM"
   ]
  },
  {
   "cell_type": "code",
   "execution_count": 17,
   "metadata": {
    "scrolled": true
   },
   "outputs": [
    {
     "name": "stdout",
     "output_type": "stream",
     "text": [
      "Epoch 1/200\n",
      "58/58 [==============================] - 1s 6ms/step - loss: 36.5175 - SMAPE: 108.6519 - val_loss: 11.9756 - val_SMAPE: 28.4987\n",
      "Epoch 2/200\n",
      "58/58 [==============================] - 0s 4ms/step - loss: 7.8168 - SMAPE: 14.8408 - val_loss: 14.2115 - val_SMAPE: 32.1070\n",
      "Epoch 3/200\n",
      "58/58 [==============================] - 0s 4ms/step - loss: 7.6294 - SMAPE: 14.6597 - val_loss: 13.2966 - val_SMAPE: 30.5499\n",
      "Epoch 4/200\n",
      "58/58 [==============================] - 0s 4ms/step - loss: 7.7165 - SMAPE: 14.6538 - val_loss: 14.0084 - val_SMAPE: 31.7661\n",
      "Epoch 5/200\n",
      "58/58 [==============================] - 0s 4ms/step - loss: 7.5364 - SMAPE: 14.2818 - val_loss: 14.7610 - val_SMAPE: 33.0473\n",
      "Epoch 6/200\n",
      "58/58 [==============================] - 0s 4ms/step - loss: 7.4967 - SMAPE: 14.3276 - val_loss: 15.8258 - val_SMAPE: 34.9478\n",
      "Epoch 7/200\n",
      "58/58 [==============================] - 0s 4ms/step - loss: 7.4726 - SMAPE: 14.2172 - val_loss: 14.5819 - val_SMAPE: 32.7343\n",
      "Epoch 8/200\n",
      "58/58 [==============================] - 0s 4ms/step - loss: 7.4800 - SMAPE: 14.0948 - val_loss: 14.9276 - val_SMAPE: 33.3953\n",
      "Epoch 9/200\n",
      "58/58 [==============================] - 0s 4ms/step - loss: 7.3949 - SMAPE: 14.3163 - val_loss: 13.7790 - val_SMAPE: 31.3921\n",
      "Epoch 10/200\n",
      "58/58 [==============================] - 0s 4ms/step - loss: 7.4267 - SMAPE: 14.0705 - val_loss: 14.4345 - val_SMAPE: 32.4308\n",
      "Epoch 11/200\n",
      "58/58 [==============================] - 0s 4ms/step - loss: 7.4022 - SMAPE: 14.0667 - val_loss: 14.6159 - val_SMAPE: 32.8061\n",
      "Epoch 1/200\n",
      "58/58 [==============================] - 4s 27ms/step - loss: 52.2596 - SMAPE: 168.8529 - val_loss: 32.2514 - val_SMAPE: 136.3594\n",
      "Epoch 2/200\n",
      "58/58 [==============================] - 1s 18ms/step - loss: 48.9680 - SMAPE: 148.6040 - val_loss: 30.3887 - val_SMAPE: 122.7115\n",
      "Epoch 3/200\n",
      "58/58 [==============================] - 1s 19ms/step - loss: 47.2984 - SMAPE: 139.1646 - val_loss: 28.8144 - val_SMAPE: 112.1142\n",
      "Epoch 4/200\n",
      "58/58 [==============================] - 1s 19ms/step - loss: 45.7503 - SMAPE: 131.3113 - val_loss: 27.3009 - val_SMAPE: 102.6172\n",
      "Epoch 5/200\n",
      "58/58 [==============================] - 1s 19ms/step - loss: 44.2428 - SMAPE: 124.1153 - val_loss: 25.8239 - val_SMAPE: 93.9384\n",
      "Epoch 6/200\n",
      "58/58 [==============================] - 1s 18ms/step - loss: 42.7630 - SMAPE: 117.2730 - val_loss: 24.3786 - val_SMAPE: 85.9593\n",
      "Epoch 7/200\n",
      "58/58 [==============================] - 1s 19ms/step - loss: 41.3053 - SMAPE: 110.3527 - val_loss: 22.9665 - val_SMAPE: 78.6149\n",
      "Epoch 8/200\n",
      "58/58 [==============================] - 1s 18ms/step - loss: 39.8664 - SMAPE: 104.5089 - val_loss: 21.5859 - val_SMAPE: 71.8281\n",
      "Epoch 9/200\n",
      "58/58 [==============================] - 1s 19ms/step - loss: 38.4445 - SMAPE: 98.6547 - val_loss: 20.2374 - val_SMAPE: 65.5474\n",
      "Epoch 10/200\n",
      "58/58 [==============================] - 1s 19ms/step - loss: 37.0399 - SMAPE: 92.7016 - val_loss: 18.9287 - val_SMAPE: 59.7636\n",
      "Epoch 11/200\n",
      "58/58 [==============================] - 1s 19ms/step - loss: 35.6492 - SMAPE: 87.8610 - val_loss: 17.6677 - val_SMAPE: 54.4723\n",
      "Epoch 12/200\n",
      "58/58 [==============================] - 1s 19ms/step - loss: 34.2733 - SMAPE: 82.2935 - val_loss: 16.4522 - val_SMAPE: 49.6141\n",
      "Epoch 13/200\n",
      "58/58 [==============================] - 1s 19ms/step - loss: 32.9152 - SMAPE: 78.2570 - val_loss: 15.3031 - val_SMAPE: 45.2265\n",
      "Epoch 14/200\n",
      "58/58 [==============================] - 1s 19ms/step - loss: 31.5649 - SMAPE: 73.3243 - val_loss: 14.2154 - val_SMAPE: 41.2546\n",
      "Epoch 15/200\n",
      "58/58 [==============================] - 1s 20ms/step - loss: 30.2281 - SMAPE: 69.0771 - val_loss: 13.1975 - val_SMAPE: 37.6899\n",
      "Epoch 16/200\n",
      "58/58 [==============================] - 1s 19ms/step - loss: 28.9091 - SMAPE: 64.8441 - val_loss: 12.2662 - val_SMAPE: 34.5491\n",
      "Epoch 17/200\n",
      "58/58 [==============================] - 1s 20ms/step - loss: 27.6128 - SMAPE: 60.7442 - val_loss: 11.4383 - val_SMAPE: 31.8531\n",
      "Epoch 18/200\n",
      "58/58 [==============================] - 1s 22ms/step - loss: 26.3377 - SMAPE: 57.1614 - val_loss: 10.7366 - val_SMAPE: 29.6361\n",
      "Epoch 19/200\n",
      "58/58 [==============================] - 1s 24ms/step - loss: 25.0874 - SMAPE: 53.4759 - val_loss: 10.1646 - val_SMAPE: 27.8718\n",
      "Epoch 20/200\n",
      "58/58 [==============================] - 1s 24ms/step - loss: 23.8805 - SMAPE: 49.8161 - val_loss: 9.7304 - val_SMAPE: 26.5501\n",
      "Epoch 21/200\n",
      "58/58 [==============================] - 1s 23ms/step - loss: 22.6950 - SMAPE: 46.8264 - val_loss: 9.4104 - val_SMAPE: 25.5745\n",
      "Epoch 22/200\n",
      "58/58 [==============================] - 1s 23ms/step - loss: 21.5366 - SMAPE: 43.7918 - val_loss: 9.2034 - val_SMAPE: 24.9200\n",
      "Epoch 23/200\n",
      "58/58 [==============================] - 1s 24ms/step - loss: 20.4156 - SMAPE: 41.1409 - val_loss: 9.0990 - val_SMAPE: 24.5439\n",
      "Epoch 24/200\n",
      "58/58 [==============================] - 1s 24ms/step - loss: 19.3333 - SMAPE: 38.7980 - val_loss: 9.0945 - val_SMAPE: 24.4341\n",
      "Epoch 25/200\n",
      "58/58 [==============================] - 1s 24ms/step - loss: 18.3043 - SMAPE: 36.0079 - val_loss: 9.1928 - val_SMAPE: 24.5764\n",
      "Epoch 26/200\n",
      "58/58 [==============================] - 1s 23ms/step - loss: 17.3437 - SMAPE: 33.9338 - val_loss: 9.3916 - val_SMAPE: 24.9441\n",
      "Epoch 27/200\n",
      "58/58 [==============================] - 1s 24ms/step - loss: 16.4514 - SMAPE: 31.7662 - val_loss: 9.6839 - val_SMAPE: 25.5068\n",
      "Epoch 28/200\n",
      "58/58 [==============================] - 1s 23ms/step - loss: 15.6297 - SMAPE: 29.8027 - val_loss: 10.0488 - val_SMAPE: 26.2097\n",
      "Epoch 29/200\n",
      "58/58 [==============================] - 1s 23ms/step - loss: 14.8886 - SMAPE: 28.3852 - val_loss: 10.4770 - val_SMAPE: 27.0278\n",
      "Epoch 30/200\n",
      "58/58 [==============================] - 1s 23ms/step - loss: 14.2262 - SMAPE: 26.7867 - val_loss: 10.9483 - val_SMAPE: 27.9205\n",
      "Epoch 31/200\n",
      "58/58 [==============================] - 1s 23ms/step - loss: 13.6405 - SMAPE: 25.6564 - val_loss: 11.4447 - val_SMAPE: 28.8470\n",
      "Epoch 32/200\n",
      "58/58 [==============================] - 1s 23ms/step - loss: 13.1317 - SMAPE: 24.4053 - val_loss: 11.9673 - val_SMAPE: 29.8124\n",
      "Epoch 33/200\n",
      "58/58 [==============================] - 1s 23ms/step - loss: 12.6992 - SMAPE: 23.8981 - val_loss: 12.4828 - val_SMAPE: 30.7517\n",
      "Epoch 34/200\n",
      "58/58 [==============================] - 1s 23ms/step - loss: 12.3291 - SMAPE: 22.9342 - val_loss: 12.9993 - val_SMAPE: 31.6822\n",
      "Epoch 1/200\n",
      "58/58 [==============================] - 3s 17ms/step - loss: 77.0106 - SMAPE: 200.0000 - val_loss: 46.6366 - val_SMAPE: 200.0000\n",
      "Epoch 2/200\n",
      "58/58 [==============================] - 0s 7ms/step - loss: 49.9294 - SMAPE: 153.2471 - val_loss: 17.8702 - val_SMAPE: 58.4169\n",
      "Epoch 3/200\n",
      "58/58 [==============================] - 1s 9ms/step - loss: 19.5338 - SMAPE: 41.2864 - val_loss: 13.1842 - val_SMAPE: 30.9100\n",
      "Epoch 4/200\n",
      "58/58 [==============================] - 1s 10ms/step - loss: 8.2374 - SMAPE: 15.4190 - val_loss: 15.6352 - val_SMAPE: 35.1862\n",
      "Epoch 5/200\n",
      "58/58 [==============================] - 1s 10ms/step - loss: 8.1973 - SMAPE: 15.3288 - val_loss: 15.7621 - val_SMAPE: 35.3809\n",
      "Epoch 6/200\n",
      "58/58 [==============================] - 1s 10ms/step - loss: 8.1931 - SMAPE: 15.4744 - val_loss: 15.2997 - val_SMAPE: 34.5643\n",
      "Epoch 7/200\n",
      "58/58 [==============================] - 1s 10ms/step - loss: 8.1751 - SMAPE: 15.3697 - val_loss: 15.1212 - val_SMAPE: 34.2271\n",
      "Epoch 8/200\n",
      "58/58 [==============================] - 1s 10ms/step - loss: 8.1737 - SMAPE: 15.3127 - val_loss: 15.4590 - val_SMAPE: 34.7758\n",
      "Epoch 9/200\n",
      "58/58 [==============================] - 1s 10ms/step - loss: 8.1489 - SMAPE: 15.2290 - val_loss: 15.3757 - val_SMAPE: 34.5904\n",
      "Epoch 10/200\n",
      "58/58 [==============================] - 1s 10ms/step - loss: 8.1251 - SMAPE: 15.2030 - val_loss: 15.3113 - val_SMAPE: 34.4443\n",
      "Epoch 11/200\n",
      "58/58 [==============================] - 1s 11ms/step - loss: 8.1037 - SMAPE: 15.2050 - val_loss: 15.5334 - val_SMAPE: 34.7833\n",
      "Epoch 12/200\n",
      "58/58 [==============================] - 1s 11ms/step - loss: 8.0878 - SMAPE: 15.2071 - val_loss: 14.9840 - val_SMAPE: 33.8191\n",
      "Epoch 13/200\n",
      "58/58 [==============================] - 1s 10ms/step - loss: 8.0660 - SMAPE: 15.1425 - val_loss: 15.6125 - val_SMAPE: 34.8799\n"
     ]
    },
    {
     "data": {
      "text/plain": [
       "['dnn-lstm, 1-day input', 15.992, 31.549, 0.46, 0.365]"
      ]
     },
     "execution_count": 17,
     "metadata": {},
     "output_type": "execute_result"
    }
   ],
   "source": [
    "# Split the data into train and validation\n",
    "X_train, y_train, X_val, y_val = split_data(df_nn, 2020, 'price_actual')\n",
    "\n",
    "# Get the x cols for lstm network, lagged cols\n",
    "X_train_dnn = X_train.filter(regex='forecast')\n",
    "X_train_lstm = X_train.drop(columns=X_train_dnn.columns)\n",
    "\n",
    "\n",
    "# Get the x cols for dnn network, forecast cols\n",
    "X_val_dnn = X_val.filter(regex='forecast')\n",
    "X_val_lstm = X_val.drop(columns=X_val_dnn.columns)\n",
    "\n",
    "\n",
    "# Reorganize the training and testing data into batches\n",
    "X_train_dnn, y_train_dnn = resample((X_train_dnn, y_train), 24, 24, 24)\n",
    "X_val_dnn, y_val_dnn = resample((X_val_dnn, y_val), 24, 24, 24)\n",
    "\n",
    "# LSTM\n",
    "X_train_lstm, y_train_lstm = resample((X_train_lstm, y_train), 24, 24, 24)\n",
    "X_val_lstm, y_val_lstm = resample((X_val_lstm, y_val), 24, 24, 24)\n",
    "\n",
    "# Instantiate, compiled and fit dnn\n",
    "input_shape = (X_train_dnn.shape[1], X_train_dnn.shape[2])\n",
    "nn = models.Sequential()\n",
    "nn.add(layers.Dense(59, activation='relu', input_shape=input_shape))\n",
    "nn.add(layers.Dense(239, activation='relu'))\n",
    "nn.add(layers.Dense(162, activation='relu'))\n",
    "nn.add(TimeDistributed(layers.Dense(1)))\n",
    "dnn = compile_fit(nn, (X_train_dnn, y_train_dnn), (X_val_dnn, y_val_dnn))\n",
    "\n",
    "\n",
    "# Instantiate, compiled and fit lstm\n",
    "input_shape = (X_train_lstm.shape[1], X_train_lstm.shape[2])\n",
    "nn = models.Sequential()\n",
    "nn.add(layers.LSTM(83, activation='tanh', input_shape=input_shape))\n",
    "nn.add(layers.RepeatVector(y_train_lstm.shape[1]))\n",
    "nn.add(layers.LSTM(24, activation='tanh', return_sequences=True))\n",
    "nn.add(TimeDistributed(layers.Dense(1)))\n",
    "lstm = compile_fit(nn, (X_train_lstm, y_train_lstm), (X_val_lstm, y_val_lstm))\n",
    "\n",
    "# Create ensemble to combine dnn and lstm, compile and fit\n",
    "LSTM_DNN = ensemble_nn([dnn, lstm])\n",
    "nn6 = compile_fit(LSTM_DNN, ([X_train_dnn, X_train_lstm], y_train_dnn), ([X_val_dnn, X_val_lstm], y_val_dnn))\n",
    "\n",
    "# Compute metrics, add to table\n",
    "compute_metrics(nn6,\n",
    "                'dnn-lstm, 1-day input',\n",
    "                ([X_train_dnn, X_train_lstm],y_train),\n",
    "                ([X_val_dnn, X_val_lstm],y_val))"
   ]
  },
  {
   "cell_type": "code",
   "execution_count": null,
   "metadata": {},
   "outputs": [],
   "source": []
  }
 ],
 "metadata": {
  "kernelspec": {
   "display_name": "learn-env",
   "language": "python",
   "name": "learn-env"
  },
  "language_info": {
   "codemirror_mode": {
    "name": "ipython",
    "version": 3
   },
   "file_extension": ".py",
   "mimetype": "text/x-python",
   "name": "python",
   "nbconvert_exporter": "python",
   "pygments_lexer": "ipython3",
   "version": "3.8.5"
  }
 },
 "nbformat": 4,
 "nbformat_minor": 4
}
