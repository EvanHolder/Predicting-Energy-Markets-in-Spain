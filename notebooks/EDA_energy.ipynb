{
 "cells": [
  {
   "cell_type": "markdown",
   "metadata": {},
   "source": [
    "# Can we predict tomorrow's electricity price? Random Forrest Model"
   ]
  },
  {
   "cell_type": "code",
   "execution_count": 1,
   "metadata": {},
   "outputs": [],
   "source": [
    "import pandas as pd\n",
    "import numpy as np\n",
    "import matplotlib.pyplot as plt\n",
    "import datetime as dt\n",
    "import seaborn as sns\n",
    "\n",
    "from statsmodels.tsa.stattools import adfuller\n",
    "from statsmodels.tsa.seasonal import seasonal_decompose\n",
    "\n",
    "from sklearn.preprocessing import LabelEncoder\n",
    "from sklearn.model_selection import train_test_split\n",
    "from sklearn.ensemble import RandomForestRegressor\n",
    "from sklearn.metrics import r2_score"
   ]
  },
  {
   "cell_type": "code",
   "execution_count": 31,
   "metadata": {
    "scrolled": true
   },
   "outputs": [],
   "source": [
    "# Import data\n",
    "df = pd.read_csv('../data/df_clean.csv', index_col=0, parse_dates=True)\n",
    "\n",
    "# Copy actual price to new series\n",
    "tomorrow = df['price actual'].copy()\n",
    "\n",
    "# Shift the actual price index by a single day backwards\n",
    "tomorrow = tomorrow.shift(-1, freq='D')\n",
    "\n",
    "# Copy the df and merge tomorrows price into each row\n",
    "\n",
    "df = df.join(tomorrow, how='inner', rsuffix='_tomorrow')\n",
    "df.rename(columns={'price actual_tomorrow':'price tomorrow'}, inplace=True)\n",
    "\n",
    "df_weather = df.dropna().copy()"
   ]
  },
  {
   "cell_type": "markdown",
   "metadata": {},
   "source": [
    "## Random Forrest with Weather"
   ]
  },
  {
   "cell_type": "code",
   "execution_count": 22,
   "metadata": {},
   "outputs": [],
   "source": [
    "X = df_weather.drop(columns = 'price tomorrow')\n",
    "y = df_weather['price tomorrow'].copy()"
   ]
  },
  {
   "cell_type": "code",
   "execution_count": 20,
   "metadata": {},
   "outputs": [],
   "source": [
    "# Fit RF model\n",
    "def fit_train(x, y):\n",
    "    rf = RandomForestRegressor()\n",
    "    if len(x.shape)==1:\n",
    "        x = x.to_numpy().reshape(-1,1)\n",
    "    rf.fit(x,y)\n",
    "    preds = rf.predict(x)\n",
    "    results = pd.DataFrame({'pred':preds, 'true':y})\n",
    "    print('r2: ',(results.corr()**2).iloc[0,1])\n",
    "    return rf"
   ]
  },
  {
   "cell_type": "markdown",
   "metadata": {},
   "source": [
    "### rf_1"
   ]
  },
  {
   "cell_type": "code",
   "execution_count": 23,
   "metadata": {},
   "outputs": [
    {
     "name": "stdout",
     "output_type": "stream",
     "text": [
      "r2:  0.9820846669785955\n"
     ]
    }
   ],
   "source": [
    "# Train model and show results\n",
    "rf_1 = fit_train(X, y)"
   ]
  },
  {
   "cell_type": "code",
   "execution_count": 25,
   "metadata": {},
   "outputs": [
    {
     "data": {
      "text/html": [
       "<div>\n",
       "<style scoped>\n",
       "    .dataframe tbody tr th:only-of-type {\n",
       "        vertical-align: middle;\n",
       "    }\n",
       "\n",
       "    .dataframe tbody tr th {\n",
       "        vertical-align: top;\n",
       "    }\n",
       "\n",
       "    .dataframe thead th {\n",
       "        text-align: right;\n",
       "    }\n",
       "</style>\n",
       "<table border=\"1\" class=\"dataframe\">\n",
       "  <thead>\n",
       "    <tr style=\"text-align: right;\">\n",
       "      <th></th>\n",
       "      <th>features</th>\n",
       "      <th>importance</th>\n",
       "    </tr>\n",
       "  </thead>\n",
       "  <tbody>\n",
       "    <tr>\n",
       "      <th>19</th>\n",
       "      <td>price actual</td>\n",
       "      <td>0.692992</td>\n",
       "    </tr>\n",
       "    <tr>\n",
       "      <th>18</th>\n",
       "      <td>price day ahead</td>\n",
       "      <td>0.012929</td>\n",
       "    </tr>\n",
       "    <tr>\n",
       "      <th>4</th>\n",
       "      <td>generation fossil oil</td>\n",
       "      <td>0.010647</td>\n",
       "    </tr>\n",
       "    <tr>\n",
       "      <th>8</th>\n",
       "      <td>generation nuclear</td>\n",
       "      <td>0.010318</td>\n",
       "    </tr>\n",
       "    <tr>\n",
       "      <th>3</th>\n",
       "      <td>generation fossil hard coal</td>\n",
       "      <td>0.009850</td>\n",
       "    </tr>\n",
       "  </tbody>\n",
       "</table>\n",
       "</div>"
      ],
      "text/plain": [
       "                       features  importance\n",
       "19                 price actual    0.692992\n",
       "18              price day ahead    0.012929\n",
       "4         generation fossil oil    0.010647\n",
       "8            generation nuclear    0.010318\n",
       "3   generation fossil hard coal    0.009850"
      ]
     },
     "execution_count": 25,
     "metadata": {},
     "output_type": "execute_result"
    }
   ],
   "source": [
    "# See feature importances\n",
    "results = pd.DataFrame({'features':X.columns, 'importance':rf_1.feature_importances_})\n",
    "results.sort_values(by='importance', ascending=False).head()"
   ]
  },
  {
   "cell_type": "markdown",
   "metadata": {},
   "source": [
    "<u>Notes</u>: R2 is very high actually. Seems as though price of the day before is by far the most important feature. Since price tomorrow is just price actual shifted by one day, lets remove it and see if the model still performs okay.\n",
    "### rf_2"
   ]
  },
  {
   "cell_type": "code",
   "execution_count": 26,
   "metadata": {},
   "outputs": [
    {
     "name": "stdout",
     "output_type": "stream",
     "text": [
      "r2:  0.9824072519283841\n"
     ]
    }
   ],
   "source": [
    "# Split data and target\n",
    "X = df_weather.drop(columns = ['price tomorrow', 'price actual'])\n",
    "rf_2 = fit_train(X, y)"
   ]
  },
  {
   "cell_type": "code",
   "execution_count": 27,
   "metadata": {
    "scrolled": true
   },
   "outputs": [
    {
     "data": {
      "text/html": [
       "<div>\n",
       "<style scoped>\n",
       "    .dataframe tbody tr th:only-of-type {\n",
       "        vertical-align: middle;\n",
       "    }\n",
       "\n",
       "    .dataframe tbody tr th {\n",
       "        vertical-align: top;\n",
       "    }\n",
       "\n",
       "    .dataframe thead th {\n",
       "        text-align: right;\n",
       "    }\n",
       "</style>\n",
       "<table border=\"1\" class=\"dataframe\">\n",
       "  <thead>\n",
       "    <tr style=\"text-align: right;\">\n",
       "      <th></th>\n",
       "      <th>features</th>\n",
       "      <th>importance</th>\n",
       "    </tr>\n",
       "  </thead>\n",
       "  <tbody>\n",
       "    <tr>\n",
       "      <th>18</th>\n",
       "      <td>price day ahead</td>\n",
       "      <td>0.408299</td>\n",
       "    </tr>\n",
       "    <tr>\n",
       "      <th>42</th>\n",
       "      <td>pressure_Bilbao</td>\n",
       "      <td>0.029109</td>\n",
       "    </tr>\n",
       "    <tr>\n",
       "      <th>8</th>\n",
       "      <td>generation nuclear</td>\n",
       "      <td>0.028649</td>\n",
       "    </tr>\n",
       "    <tr>\n",
       "      <th>6</th>\n",
       "      <td>generation hydro run-of-river and poundage</td>\n",
       "      <td>0.024591</td>\n",
       "    </tr>\n",
       "    <tr>\n",
       "      <th>15</th>\n",
       "      <td>forecast wind onshore day ahead</td>\n",
       "      <td>0.024293</td>\n",
       "    </tr>\n",
       "  </tbody>\n",
       "</table>\n",
       "</div>"
      ],
      "text/plain": [
       "                                      features  importance\n",
       "18                             price day ahead    0.408299\n",
       "42                             pressure_Bilbao    0.029109\n",
       "8                           generation nuclear    0.028649\n",
       "6   generation hydro run-of-river and poundage    0.024591\n",
       "15             forecast wind onshore day ahead    0.024293"
      ]
     },
     "execution_count": 27,
     "metadata": {},
     "output_type": "execute_result"
    }
   ],
   "source": [
    "# See feature importances\n",
    "results = pd.DataFrame({'features':X.columns, 'importance':rf_2.feature_importances_})\n",
    "results.sort_values(by='importance', ascending=False).head()"
   ]
  },
  {
   "cell_type": "markdown",
   "metadata": {},
   "source": [
    "<u>Notes</u>: The model still performed very well even without `price actual` which is great. Now `price day ahead` is clearly the most important feature which makes sense as it's the forecast for tomorrows price.  Is it possible that our other variables aren't even helping that much? Let's check by running a model with the `price day ahead` as the only variable and see how well the model can predict price.\n",
    "#### rf_3"
   ]
  },
  {
   "cell_type": "code",
   "execution_count": 29,
   "metadata": {},
   "outputs": [
    {
     "name": "stdout",
     "output_type": "stream",
     "text": [
      "r2:  0.5280599676256542\n"
     ]
    }
   ],
   "source": [
    "# Split data and target\n",
    "X = df_weather.loc[:,'price day ahead']\n",
    "\n",
    "rf_3 = fit_train(X, y)"
   ]
  },
  {
   "cell_type": "markdown",
   "metadata": {},
   "source": [
    "<u>Notes</u>: The model r2 decreased drastically, meaning that the other variables were actually important in predicting the price for tomorrow.  Up to this point, I have not split the data into testing and training.  Let's do that next and see if the model can generalize to unseen data.  I'll split out one continous year's worth of data and try to predict the missing year.  For the predictors, I'll continue to use all columns except for the `price actual` column.\n",
    "#### rf_4"
   ]
  },
  {
   "cell_type": "code",
   "execution_count": 32,
   "metadata": {},
   "outputs": [],
   "source": [
    "df_weather.drop(columns='price actual', inplace=True)"
   ]
  },
  {
   "cell_type": "code",
   "execution_count": 33,
   "metadata": {},
   "outputs": [],
   "source": [
    "# Fit RF model\n",
    "def fit_train(x_train, x_test, y_train, y_test):\n",
    "    rf = RandomForestRegressor(random_state=17)\n",
    "    if len(x_train.shape)==1:\n",
    "        x_train = x_train.to_numpy().reshape(-1,1)\n",
    "        x_test = x_test.to_numpy().reshape(-1,1)\n",
    "    rf.fit(x_train,y_train)\n",
    "    preds_train = rf.predict(x_train)\n",
    "    preds_test = rf.predict(x_test)\n",
    "    results_train = pd.DataFrame({'pred':preds_train, 'true':y_train})\n",
    "    results_test = pd.DataFrame({'pred':preds_test, 'true':y_test})\n",
    "    print('r2_train: ',(results_train.corr()**2).iloc[0,1])\n",
    "    print('r2_test: ',(results_test.corr()**2).iloc[0,1])\n",
    "    return rf"
   ]
  },
  {
   "cell_type": "code",
   "execution_count": 46,
   "metadata": {},
   "outputs": [
    {
     "name": "stdout",
     "output_type": "stream",
     "text": [
      "r2_train:  0.9999984813203489\n",
      "r2_test:  0.9999996875698951\n"
     ]
    }
   ],
   "source": [
    "# Split data and target\n",
    "X_train = df_weather.loc['2015':'2017'].drop(columns='price day ahead')\n",
    "X_test  = df_weather.loc['2018'].drop(columns='price day ahead')\n",
    "\n",
    "y_train = df_weather.loc['2015':'2017','price tomorrow']\n",
    "y_test = df_weather.loc['2018','price tomorrow']\n",
    "\n",
    "rf_4 = fit_train(X_train, X_test, y_train, y_test)"
   ]
  },
  {
   "cell_type": "markdown",
   "metadata": {},
   "source": [
    "<u>Notes</u>: The model r2 is very very high. Let's remove all features except `price day ahead` to make sure the other features are important.\n",
    "#### rf_5"
   ]
  },
  {
   "cell_type": "code",
   "execution_count": 35,
   "metadata": {},
   "outputs": [
    {
     "name": "stdout",
     "output_type": "stream",
     "text": [
      "r2_train:  0.5378585780152443\n",
      "r2_test:  0.18852230471236708\n"
     ]
    }
   ],
   "source": [
    "# Split data and target\n",
    "X_train = df_weather.loc['2015':'2017', 'price day ahead']\n",
    "X_test  = df_weather.loc['2018', 'price day ahead']\n",
    "\n",
    "y_train = df_weather.loc['2015':'2017','price tomorrow']\n",
    "y_test = df_weather.loc['2018','price tomorrow']\n",
    "\n",
    "rf_5 = fit_train(X_train, X_test, y_train, y_test)"
   ]
  },
  {
   "cell_type": "code",
   "execution_count": 26,
   "metadata": {},
   "outputs": [
    {
     "name": "stdout",
     "output_type": "stream",
     "text": [
      "r2_train:  0.9796928115385211\n",
      "r2_test:  0.24724548570986396\n"
     ]
    }
   ],
   "source": [
    "OLD rf_5"
   ]
  },
  {
   "cell_type": "markdown",
   "metadata": {},
   "source": [
    "<u>Notes</u>: Model r2 decreased substaintially on the testing set, which was to be expected since we only used `price day ahead` in this model. Next let's split the data randomly instead of testing on a continuous year.\n",
    "#### rf_6"
   ]
  },
  {
   "cell_type": "code",
   "execution_count": 38,
   "metadata": {},
   "outputs": [
    {
     "name": "stdout",
     "output_type": "stream",
     "text": [
      "r2_train:  0.9999976526245771\n",
      "r2_test:  0.9999914911149841\n"
     ]
    }
   ],
   "source": [
    "# train test split the data and rerun \n",
    "X_train, X_test, y_train, y_test = train_test_split(df_weather.drop(columns='price day ahead'), \n",
    "                                                    df_weather['price tomorrow'],\n",
    "                                                    test_size=.25, \n",
    "                                                    random_state=17)\n",
    "\n",
    "rf_6 = fit_train(X_train, X_test, y_train, y_test)"
   ]
  },
  {
   "cell_type": "code",
   "execution_count": 27,
   "metadata": {},
   "outputs": [
    {
     "name": "stdout",
     "output_type": "stream",
     "text": [
      "r2_train:  0.9805822563248657\n",
      "r2_test:  0.8239157439853783\n"
     ]
    }
   ],
   "source": [
    "old rf_6"
   ]
  },
  {
   "cell_type": "markdown",
   "metadata": {},
   "source": [
    "<u>Notes</u>: Model r2 is very good.  Let's try again but only use `price day ahead`. \n",
    "#### rf_7"
   ]
  },
  {
   "cell_type": "code",
   "execution_count": 39,
   "metadata": {},
   "outputs": [
    {
     "name": "stdout",
     "output_type": "stream",
     "text": [
      "r2_train:  0.5550053011989637\n",
      "r2_test:  0.3152489759033701\n"
     ]
    }
   ],
   "source": [
    "# train test split the data and rerun \n",
    "X_train, X_test, y_train, y_test = train_test_split(df_weather['price day ahead'], \n",
    "                                                    df_weather['price tomorrow'],\n",
    "                                                    test_size=.25, \n",
    "                                                    random_state=17)\n",
    "\n",
    "rf_7 = fit_train(X_train, X_test, y_train, y_test)"
   ]
  },
  {
   "cell_type": "code",
   "execution_count": 28,
   "metadata": {},
   "outputs": [
    {
     "name": "stdout",
     "output_type": "stream",
     "text": [
      "r2_train:  0.5462970180903489\n",
      "r2_test:  0.3265396852844339\n"
     ]
    }
   ],
   "source": [
    "OLD rf_7"
   ]
  },
  {
   "cell_type": "markdown",
   "metadata": {},
   "source": [
    "#### Why does splitting out the year 2018 do so poorly?"
   ]
  },
  {
   "cell_type": "code",
   "execution_count": null,
   "metadata": {},
   "outputs": [],
   "source": [
    "rf_4 = all cols, split 2018\n",
    "rf_5 = price day ahead only, split 2018\n",
    "rf_6 = all cols, random split\n",
    "rf_7 = price day ahead only, random split"
   ]
  },
  {
   "cell_type": "code",
   "execution_count": 58,
   "metadata": {},
   "outputs": [
    {
     "data": {
      "image/png": "[encoded data removed]",
      "text/plain": [
       "<Figure size 1080x360 with 1 Axes>"
      ]
     },
     "metadata": {
      "needs_background": "light"
     },
     "output_type": "display_data"
    }
   ],
   "source": [
    "X_train = df_weather.loc['2015':'2017'].drop(columns='price day ahead')\n",
    "X_test  = df_weather.loc['2018'].drop(columns='price day ahead')\n",
    "\n",
    "y_train = df_weather.loc['2015':'2017','price tomorrow']\n",
    "y_test = df_weather.loc['2018','price tomorrow']\n",
    "\n",
    "start = dt.datetime(2018, 1, 1)\n",
    "stop = dt.datetime(2018, 12, 31, 23)\n",
    "rf4_results = pd.DataFrame({'preds':rf_4.predict(X_test), \n",
    "                            'true':y_test}, \n",
    "                           index=pd.date_range(start, stop, freq='H')\n",
    "                           )\n",
    "rf4_results['residuals'] = rf4_results.true - rf4_results.preds\n",
    "rf4_results.plot(figsize=(15,5));"
   ]
  },
  {
   "cell_type": "code",
   "execution_count": 59,
   "metadata": {},
   "outputs": [
    {
     "data": {
      "image/png": "[encoded data removed]",
      "text/plain": [
       "<Figure size 1080x360 with 1 Axes>"
      ]
     },
     "metadata": {
      "needs_background": "light"
     },
     "output_type": "display_data"
    }
   ],
   "source": [
    "df_weather['price tomorrow'].loc['2015'].reset_index()['price tomorrow'].rolling(window=168).mean().plot(figsize=(15,5))\n",
    "df_weather['price tomorrow'].loc['2016'].reset_index()['price tomorrow'].rolling(window=168).mean().plot(figsize=(15,5))\n",
    "df_weather['price tomorrow'].loc['2017'].reset_index()['price tomorrow'].rolling(window=168).mean().plot(figsize=(15,5), legend=True)\n",
    "df_weather['price tomorrow'].loc['2018'].reset_index()['price tomorrow'].rolling(window=168).mean().plot(figsize=(15,5));"
   ]
  },
  {
   "cell_type": "code",
   "execution_count": 60,
   "metadata": {
    "scrolled": true
   },
   "outputs": [
    {
     "data": {
      "text/html": [
       "<div>\n",
       "<style scoped>\n",
       "    .dataframe tbody tr th:only-of-type {\n",
       "        vertical-align: middle;\n",
       "    }\n",
       "\n",
       "    .dataframe tbody tr th {\n",
       "        vertical-align: top;\n",
       "    }\n",
       "\n",
       "    .dataframe thead th {\n",
       "        text-align: right;\n",
       "    }\n",
       "</style>\n",
       "<table border=\"1\" class=\"dataframe\">\n",
       "  <thead>\n",
       "    <tr style=\"text-align: right;\">\n",
       "      <th></th>\n",
       "      <th>features</th>\n",
       "      <th>importance</th>\n",
       "    </tr>\n",
       "  </thead>\n",
       "  <tbody>\n",
       "    <tr>\n",
       "      <th>76</th>\n",
       "      <td>price tomorrow</td>\n",
       "      <td>9.999897e-01</td>\n",
       "    </tr>\n",
       "    <tr>\n",
       "      <th>19</th>\n",
       "      <td>diff</td>\n",
       "      <td>1.103654e-06</td>\n",
       "    </tr>\n",
       "    <tr>\n",
       "      <th>11</th>\n",
       "      <td>generation solar</td>\n",
       "      <td>9.665699e-07</td>\n",
       "    </tr>\n",
       "    <tr>\n",
       "      <th>15</th>\n",
       "      <td>forecast wind onshore day ahead</td>\n",
       "      <td>5.427651e-07</td>\n",
       "    </tr>\n",
       "    <tr>\n",
       "      <th>53</th>\n",
       "      <td>wind_speed_Madrid</td>\n",
       "      <td>4.098092e-07</td>\n",
       "    </tr>\n",
       "    <tr>\n",
       "      <th>9</th>\n",
       "      <td>generation other</td>\n",
       "      <td>3.987496e-07</td>\n",
       "    </tr>\n",
       "    <tr>\n",
       "      <th>70</th>\n",
       "      <td>generation_scheduled</td>\n",
       "      <td>3.797870e-07</td>\n",
       "    </tr>\n",
       "    <tr>\n",
       "      <th>4</th>\n",
       "      <td>generation fossil oil</td>\n",
       "      <td>3.694020e-07</td>\n",
       "    </tr>\n",
       "    <tr>\n",
       "      <th>75</th>\n",
       "      <td>transmission_sf</td>\n",
       "      <td>3.253684e-07</td>\n",
       "    </tr>\n",
       "    <tr>\n",
       "      <th>60</th>\n",
       "      <td>temp_Valencia</td>\n",
       "      <td>2.851397e-07</td>\n",
       "    </tr>\n",
       "    <tr>\n",
       "      <th>30</th>\n",
       "      <td>temp_ Barcelona</td>\n",
       "      <td>2.848043e-07</td>\n",
       "    </tr>\n",
       "    <tr>\n",
       "      <th>74</th>\n",
       "      <td>transmission_fs</td>\n",
       "      <td>2.841238e-07</td>\n",
       "    </tr>\n",
       "    <tr>\n",
       "      <th>1</th>\n",
       "      <td>generation fossil brown coal/lignite</td>\n",
       "      <td>2.553142e-07</td>\n",
       "    </tr>\n",
       "    <tr>\n",
       "      <th>33</th>\n",
       "      <td>wind_speed_ Barcelona</td>\n",
       "      <td>2.441414e-07</td>\n",
       "    </tr>\n",
       "    <tr>\n",
       "      <th>43</th>\n",
       "      <td>wind_speed_Bilbao</td>\n",
       "      <td>2.247271e-07</td>\n",
       "    </tr>\n",
       "    <tr>\n",
       "      <th>22</th>\n",
       "      <td>humidity_Seville</td>\n",
       "      <td>2.114852e-07</td>\n",
       "    </tr>\n",
       "    <tr>\n",
       "      <th>62</th>\n",
       "      <td>humidity_Valencia</td>\n",
       "      <td>1.886507e-07</td>\n",
       "    </tr>\n",
       "    <tr>\n",
       "      <th>2</th>\n",
       "      <td>generation fossil gas</td>\n",
       "      <td>1.854627e-07</td>\n",
       "    </tr>\n",
       "    <tr>\n",
       "      <th>51</th>\n",
       "      <td>pressure_Madrid</td>\n",
       "      <td>1.807281e-07</td>\n",
       "    </tr>\n",
       "    <tr>\n",
       "      <th>24</th>\n",
       "      <td>wind_deg_Seville</td>\n",
       "      <td>1.785443e-07</td>\n",
       "    </tr>\n",
       "  </tbody>\n",
       "</table>\n",
       "</div>"
      ],
      "text/plain": [
       "                                features    importance\n",
       "76                        price tomorrow  9.999897e-01\n",
       "19                                  diff  1.103654e-06\n",
       "11                      generation solar  9.665699e-07\n",
       "15       forecast wind onshore day ahead  5.427651e-07\n",
       "53                     wind_speed_Madrid  4.098092e-07\n",
       "9                       generation other  3.987496e-07\n",
       "70                  generation_scheduled  3.797870e-07\n",
       "4                  generation fossil oil  3.694020e-07\n",
       "75                       transmission_sf  3.253684e-07\n",
       "60                         temp_Valencia  2.851397e-07\n",
       "30                       temp_ Barcelona  2.848043e-07\n",
       "74                       transmission_fs  2.841238e-07\n",
       "1   generation fossil brown coal/lignite  2.553142e-07\n",
       "33                 wind_speed_ Barcelona  2.441414e-07\n",
       "43                     wind_speed_Bilbao  2.247271e-07\n",
       "22                      humidity_Seville  2.114852e-07\n",
       "62                     humidity_Valencia  1.886507e-07\n",
       "2                  generation fossil gas  1.854627e-07\n",
       "51                       pressure_Madrid  1.807281e-07\n",
       "24                      wind_deg_Seville  1.785443e-07"
      ]
     },
     "execution_count": 60,
     "metadata": {},
     "output_type": "execute_result"
    }
   ],
   "source": [
    "results = pd.DataFrame({'features':X_train.columns, 'importance':rf_4.feature_importances_})\n",
    "results.sort_values(by='importance', ascending=False).head(20)"
   ]
  },
  {
   "cell_type": "code",
   "execution_count": 61,
   "metadata": {},
   "outputs": [
    {
     "name": "stdout",
     "output_type": "stream",
     "text": [
      "-10.978213470319584\n",
      "-7.8245286885245875\n",
      "-6.9789440639269325\n",
      "-6.261739726027396\n"
     ]
    }
   ],
   "source": [
    "resid_2015 = df_weather.loc['2015', 'price day ahead'] - df_weather.loc['2015', 'price tomorrow']\n",
    "resid_2016 = df_weather.loc['2016', 'price day ahead'] - df_weather.loc['2016', 'price tomorrow']\n",
    "resid_2017 = df_weather.loc['2017', 'price day ahead'] - df_weather.loc['2017', 'price tomorrow']\n",
    "resid_2018 = df_weather.loc['2018', 'price day ahead'] - df_weather.loc['2018', 'price tomorrow']\n",
    "print(resid_2015.mean())\n",
    "print(resid_2016.mean())\n",
    "print(resid_2017.mean())\n",
    "print(resid_2018.mean())"
   ]
  },
  {
   "cell_type": "code",
   "execution_count": 63,
   "metadata": {},
   "outputs": [
    {
     "data": {
      "text/plain": [
       "generation fossil gas                   6\n",
       "total load forecast                     6\n",
       "temp_Seville                            5\n",
       "temp_ Barcelona                         5\n",
       "price day ahead                         5\n",
       "total load actual                       5\n",
       "temp_Valencia                           5\n",
       "temp_Madrid                             5\n",
       "temp_Bilbao                             5\n",
       "generation fossil brown coal/lignite    4\n",
       "generation fossil hard coal             4\n",
       "generation total                        4\n",
       "generation_scheduled                    4\n",
       "humidity_ Barcelona                     2\n",
       "generation biomass                      2\n",
       "humidity_Seville                        2\n",
       "humidity_Madrid                         2\n",
       "pressure_Valencia                       2\n",
       "humidity_Valencia                       2\n",
       "consumption_scheduled                   2\n",
       "dtype: int64"
      ]
     },
     "execution_count": 63,
     "metadata": {},
     "output_type": "execute_result"
    }
   ],
   "source": [
    "(df_weather.corr()>.5).sum().sort_values(ascending=False).head(20)"
   ]
  },
  {
   "cell_type": "code",
   "execution_count": 64,
   "metadata": {
    "scrolled": true
   },
   "outputs": [
    {
     "data": {
      "text/plain": [
       "generation fossil gas                   1.000000\n",
       "price day ahead                         0.640941\n",
       "total load actual                       0.549000\n",
       "total load forecast                     0.543792\n",
       "generation fossil hard coal             0.542379\n",
       "generation fossil brown coal/lignite    0.500410\n",
       "generation total                        0.454143\n",
       "generation_scheduled                    0.453185\n",
       "price tomorrow                          0.376294\n",
       "generation other renewable              0.336596\n",
       "Name: generation fossil gas, dtype: float64"
      ]
     },
     "execution_count": 64,
     "metadata": {},
     "output_type": "execute_result"
    }
   ],
   "source": [
    "df_weather.corr()['generation fossil gas'].sort_values(ascending=False).head(10)"
   ]
  },
  {
   "cell_type": "code",
   "execution_count": 65,
   "metadata": {},
   "outputs": [
    {
     "data": {
      "text/plain": [
       "temp_ Barcelona             1.000000\n",
       "temp_Valencia               0.917515\n",
       "temp_Madrid                 0.903999\n",
       "temp_Bilbao                 0.866736\n",
       "temp_Seville                0.841916\n",
       "forecast solar day ahead    0.391631\n",
       "generation solar            0.386561\n",
       "wind_deg_Seville            0.208402\n",
       "diff                        0.191430\n",
       "total load actual           0.167296\n",
       "Name: temp_ Barcelona, dtype: float64"
      ]
     },
     "execution_count": 65,
     "metadata": {},
     "output_type": "execute_result"
    }
   ],
   "source": [
    "df_weather.corr()['temp_ Barcelona'].sort_values(ascending=False).head(10)"
   ]
  },
  {
   "cell_type": "code",
   "execution_count": 66,
   "metadata": {},
   "outputs": [
    {
     "data": {
      "text/plain": [
       "price day ahead                         1.000000\n",
       "generation fossil hard coal             0.672286\n",
       "generation fossil gas                   0.640941\n",
       "price tomorrow                          0.623742\n",
       "generation fossil brown coal/lignite    0.568483\n",
       "total load forecast                     0.474786\n",
       "total load actual                       0.474458\n",
       "diff                                    0.434762\n",
       "generation other renewable              0.429283\n",
       "generation waste                        0.369069\n",
       "Name: price day ahead, dtype: float64"
      ]
     },
     "execution_count": 66,
     "metadata": {},
     "output_type": "execute_result"
    }
   ],
   "source": [
    "df_weather.corr()['price day ahead'].sort_values(ascending=False).head(10)"
   ]
  },
  {
   "cell_type": "markdown",
   "metadata": {},
   "source": [
    "#### Each year to predict the others 2015, 2016, 2017"
   ]
  },
  {
   "cell_type": "code",
   "execution_count": 102,
   "metadata": {},
   "outputs": [],
   "source": [
    "# Split data and target\n",
    "X_train = df_weather.loc['2015':'2017'].drop(columns='price day ahead')\n",
    "X_test  = df_weather.loc['2018'].drop(columns='price day ahead')\n",
    "\n",
    "y_train = df_weather.loc['2015':'2017','price tomorrow']\n",
    "y_test = df_weather.loc['2018','price tomorrow']\n",
    "\n",
    "rf_4 = fit_train(X_train, X_test, y_train, y_test)"
   ]
  },
  {
   "cell_type": "code",
   "execution_count": 103,
   "metadata": {},
   "outputs": [],
   "source": [
    "df_3 = df_2.loc[:,cols].copy()"
   ]
  },
  {
   "cell_type": "code",
   "execution_count": 105,
   "metadata": {},
   "outputs": [
    {
     "name": "stdout",
     "output_type": "stream",
     "text": [
      "r2_train:  0.9764353201781485\n",
      "r2_test:  0.7782548846422505\n"
     ]
    }
   ],
   "source": [
    "# train test split the data and rerun \n",
    "x_train, x_test, y_train, y_test = train_test_split(df_3.loc[:,:'transmission_sf'].drop(columns='price actual'), \n",
    "                                                    df_3['price tomorrow'],\n",
    "                                                    test_size=.2, \n",
    "                                                    random_state=17)\n",
    "\n",
    "rf_8 = fit_train(x_train, x_test, y_train, y_test)"
   ]
  },
  {
   "cell_type": "markdown",
   "metadata": {},
   "source": [
    "## Predict 2015 based on 2016-18"
   ]
  },
  {
   "cell_type": "code",
   "execution_count": 73,
   "metadata": {},
   "outputs": [
    {
     "name": "stdout",
     "output_type": "stream",
     "text": [
      "r2_train:  0.9999986307383766\n",
      "r2_test:  0.9999996150294732\n"
     ]
    }
   ],
   "source": [
    "# Split data and target\n",
    "X_train = df_weather.loc['2016':'2018'].drop(columns='price day ahead')\n",
    "X_test  = df_weather.loc['2015'].drop(columns='price day ahead')\n",
    "\n",
    "y_train = df_weather.loc['2016':'2018','price tomorrow']\n",
    "y_test = df_weather.loc['2015','price tomorrow']\n",
    "\n",
    "rf_8 = fit_train(X_train, X_test, y_train, y_test)"
   ]
  },
  {
   "cell_type": "markdown",
   "metadata": {},
   "source": [
    "## Predict 2016 based on 2015, 2017-18"
   ]
  },
  {
   "cell_type": "code",
   "execution_count": 80,
   "metadata": {},
   "outputs": [
    {
     "name": "stdout",
     "output_type": "stream",
     "text": [
      "r2_train:  0.9999968190982327\n",
      "r2_test:  0.9999819954780711\n"
     ]
    }
   ],
   "source": [
    "# Split data and target\n",
    "X_train = df_weather.loc['2015' and '2017':].drop(columns='price day ahead')\n",
    "X_test  = df_weather.loc['2016'].drop(columns='price day ahead')\n",
    "\n",
    "y_train = df_weather.loc['2015' and '2017':,'price tomorrow']\n",
    "y_test = df_weather.loc['2016', 'price tomorrow']\n",
    "\n",
    "rf_9 = fit_train(X_train, X_test, y_train, y_test)"
   ]
  },
  {
   "cell_type": "code",
   "execution_count": 126,
   "metadata": {},
   "outputs": [
    {
     "name": "stdout",
     "output_type": "stream",
     "text": [
      "r2_train:  0.9821400983041421\n",
      "r2_test:  0.2317754666017054\n"
     ]
    }
   ],
   "source": [
    "OLD"
   ]
  },
  {
   "cell_type": "markdown",
   "metadata": {},
   "source": [
    "## Predict 2017 based on 2015-16, 2018"
   ]
  },
  {
   "cell_type": "code",
   "execution_count": 81,
   "metadata": {},
   "outputs": [
    {
     "name": "stdout",
     "output_type": "stream",
     "text": [
      "r2_train:  0.9999989850175339\n",
      "r2_test:  0.9999948255485296\n"
     ]
    }
   ],
   "source": [
    "# Split data and target\n",
    "X_train = df_weather.loc[:'2016' and '2018'].drop(columns='price day ahead')\n",
    "X_test  = df_weather.loc['2017'].drop(columns='price day ahead')\n",
    "\n",
    "y_train = df_weather.loc[:'2015' and '2018','price tomorrow']\n",
    "y_test = df_weather.loc['2017', 'price tomorrow']\n",
    "\n",
    "rf_9 = fit_train(X_train, X_test, y_train, y_test)"
   ]
  },
  {
   "cell_type": "code",
   "execution_count": 127,
   "metadata": {},
   "outputs": [
    {
     "name": "stdout",
     "output_type": "stream",
     "text": [
      "r2_train:  0.9827180491196578\n",
      "r2_test:  0.9796518362042905\n"
     ]
    }
   ],
   "source": [
    "OLD"
   ]
  },
  {
   "cell_type": "markdown",
   "metadata": {},
   "source": [
    "# Random Forrest without Weather"
   ]
  },
  {
   "cell_type": "code",
   "execution_count": 96,
   "metadata": {},
   "outputs": [],
   "source": [
    "X = df.loc[:,:'diff'].join(df.loc[:,'generation_scheduled':'transmission_sf'])\n",
    "y = df.loc[:,'price tomorrow']"
   ]
  },
  {
   "cell_type": "code",
   "execution_count": 102,
   "metadata": {},
   "outputs": [
    {
     "name": "stdout",
     "output_type": "stream",
     "text": [
      "r2_train:  0.9853288966135381\n",
      "r2_test:  0.4983591917811668\n"
     ]
    }
   ],
   "source": [
    "# Split data and target\n",
    "X_train = X.loc[:'2020', :].drop(columns='price day ahead')\n",
    "X_test  = X.loc['2021', :].drop(columns='price day ahead')\n",
    "\n",
    "y_train = y.loc[:'2020']\n",
    "y_test = y.loc['2021']\n",
    "\n",
    "rf_10 = fit_train(X_train, X_test, y_train, y_test)"
   ]
  },
  {
   "cell_type": "code",
   "execution_count": 104,
   "metadata": {},
   "outputs": [
    {
     "name": "stdout",
     "output_type": "stream",
     "text": [
      "r2_train:  0.9853484739851249\n",
      "r2_test:  0.4942581451735512\n"
     ]
    }
   ],
   "source": [
    "# Split data and target\n",
    "X_train = X.loc[:'2020', :]\n",
    "X_test  = X.loc['2021', :]\n",
    "\n",
    "y_train = y.loc[:'2020']\n",
    "y_test = y.loc['2021']\n",
    "\n",
    "rf_11 = fit_train(X_train, X_test, y_train, y_test)"
   ]
  },
  {
   "cell_type": "code",
   "execution_count": null,
   "metadata": {},
   "outputs": [],
   "source": []
  }
 ],
 "metadata": {
  "kernelspec": {
   "display_name": "learn-env",
   "language": "python",
   "name": "learn-env"
  },
  "language_info": {
   "codemirror_mode": {
    "name": "ipython",
    "version": 3
   },
   "file_extension": ".py",
   "mimetype": "text/x-python",
   "name": "python",
   "nbconvert_exporter": "python",
   "pygments_lexer": "ipython3",
   "version": "3.8.5"
  }
 },
 "nbformat": 4,
 "nbformat_minor": 4
}
