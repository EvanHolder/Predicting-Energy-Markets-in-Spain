{
 "cells": [
  {
   "cell_type": "markdown",
   "metadata": {},
   "source": [
    "# Can we predict tomorrow's electricity price? Random Forest Model"
   ]
  },
  {
   "cell_type": "code",
   "execution_count": 3,
   "metadata": {},
   "outputs": [],
   "source": [
    "import pandas as pd\n",
    "import numpy as np\n",
    "import matplotlib.pyplot as plt\n",
    "import datetime as dt\n",
    "import seaborn as sns\n",
    "\n",
    "from statsmodels.tsa.stattools import adfuller\n",
    "from statsmodels.tsa.seasonal import seasonal_decompose\n",
    "\n",
    "from sklearn.preprocessing import LabelEncoder\n",
    "from sklearn.model_selection import train_test_split\n",
    "from sklearn.ensemble import RandomForestRegressor\n",
    "from sklearn.metrics import r2_score"
   ]
  },
  {
   "cell_type": "code",
   "execution_count": 4,
   "metadata": {
    "scrolled": true
   },
   "outputs": [],
   "source": [
    "# Import data\n",
    "df = pd.read_csv('../data/df_clean.csv', index_col=0, parse_dates=True)\n",
    "\n",
    "# Copy actual price to new series\n",
    "tomorrow = df['price actual'].copy()\n",
    "\n",
    "# Shift the actual price index by a single day backwards\n",
    "tomorrow = tomorrow.shift(-1, freq='D')\n",
    "\n",
    "# Copy the df and merge tomorrows price into each row\n",
    "\n",
    "df = df.join(tomorrow, how='inner', rsuffix='_tomorrow')\n",
    "df.rename(columns={'price actual_tomorrow':'price tomorrow'}, inplace=True)"
   ]
  },
  {
   "cell_type": "markdown",
   "metadata": {},
   "source": [
    "## LabelEncode Categoricals"
   ]
  },
  {
   "cell_type": "code",
   "execution_count": 6,
   "metadata": {},
   "outputs": [],
   "source": [
    "# Get Categorical columns\n",
    "categorical = df.select_dtypes(include='object')\n",
    "\n",
    "# Instationate LabelEncoder, fit and transform on wind_direction cols\n",
    "wind_dir_coder = LabelEncoder()\n",
    "wind_dir_coder.fit(df['wind_madrid'])\n",
    "for col in categorical.filter(regex='wind').columns:\n",
    "    df[col] = wind_dir_coder.transform(df[col])\n",
    "    \n",
    "\n",
    "# Stack condition columns into single col\n",
    "stacked_conditions = categorical.filter(regex='condition').stack()\n",
    "\n",
    "# Instantiate Label encoder, fit and transform on condition cols\n",
    "condition_coder = LabelEncoder()\n",
    "condition_coder.fit(stacked_conditions)\n",
    "for col in categorical.filter(regex='condition').columns:\n",
    "    df[col] = condition_coder.transform(df[col])"
   ]
  },
  {
   "cell_type": "markdown",
   "metadata": {},
   "source": [
    "## Random Forrest with Weather"
   ]
  },
  {
   "cell_type": "code",
   "execution_count": 7,
   "metadata": {},
   "outputs": [],
   "source": [
    "X = df.drop(columns = 'price tomorrow').copy()\n",
    "y = df['price tomorrow'].copy()"
   ]
  },
  {
   "cell_type": "code",
   "execution_count": 8,
   "metadata": {},
   "outputs": [],
   "source": [
    "# Fit RF model\n",
    "def fit_train(x, y):\n",
    "    rf = RandomForestRegressor()\n",
    "    if len(x.shape)==1:\n",
    "        x = x.to_numpy().reshape(-1,1)\n",
    "    rf.fit(x,y)\n",
    "    preds = rf.predict(x)\n",
    "    results = pd.DataFrame({'pred':preds, 'true':y})\n",
    "    print('r2: ',(results.corr()**2).iloc[0,1])\n",
    "    return rf"
   ]
  },
  {
   "cell_type": "markdown",
   "metadata": {},
   "source": [
    "### rf_1"
   ]
  },
  {
   "cell_type": "code",
   "execution_count": 9,
   "metadata": {},
   "outputs": [
    {
     "name": "stdout",
     "output_type": "stream",
     "text": [
      "r2:  0.9950354727195664\n"
     ]
    }
   ],
   "source": [
    "# Train model and show results\n",
    "rf_1 = fit_train(X, y)"
   ]
  },
  {
   "cell_type": "code",
   "execution_count": 10,
   "metadata": {},
   "outputs": [
    {
     "data": {
      "text/html": [
       "<div>\n",
       "<style scoped>\n",
       "    .dataframe tbody tr th:only-of-type {\n",
       "        vertical-align: middle;\n",
       "    }\n",
       "\n",
       "    .dataframe tbody tr th {\n",
       "        vertical-align: top;\n",
       "    }\n",
       "\n",
       "    .dataframe thead th {\n",
       "        text-align: right;\n",
       "    }\n",
       "</style>\n",
       "<table border=\"1\" class=\"dataframe\">\n",
       "  <thead>\n",
       "    <tr style=\"text-align: right;\">\n",
       "      <th></th>\n",
       "      <th>features</th>\n",
       "      <th>importance</th>\n",
       "    </tr>\n",
       "  </thead>\n",
       "  <tbody>\n",
       "    <tr>\n",
       "      <th>19</th>\n",
       "      <td>price actual</td>\n",
       "      <td>0.897426</td>\n",
       "    </tr>\n",
       "    <tr>\n",
       "      <th>18</th>\n",
       "      <td>price day ahead</td>\n",
       "      <td>0.017517</td>\n",
       "    </tr>\n",
       "    <tr>\n",
       "      <th>4</th>\n",
       "      <td>generation fossil oil</td>\n",
       "      <td>0.004244</td>\n",
       "    </tr>\n",
       "    <tr>\n",
       "      <th>3</th>\n",
       "      <td>generation fossil hard coal</td>\n",
       "      <td>0.004031</td>\n",
       "    </tr>\n",
       "    <tr>\n",
       "      <th>8</th>\n",
       "      <td>generation nuclear</td>\n",
       "      <td>0.003406</td>\n",
       "    </tr>\n",
       "  </tbody>\n",
       "</table>\n",
       "</div>"
      ],
      "text/plain": [
       "                       features  importance\n",
       "19                 price actual    0.897426\n",
       "18              price day ahead    0.017517\n",
       "4         generation fossil oil    0.004244\n",
       "3   generation fossil hard coal    0.004031\n",
       "8            generation nuclear    0.003406"
      ]
     },
     "execution_count": 10,
     "metadata": {},
     "output_type": "execute_result"
    }
   ],
   "source": [
    "# See feature importances\n",
    "results = pd.DataFrame({'features':X.columns, 'importance':rf_1.feature_importances_})\n",
    "results.sort_values(by='importance', ascending=False).head()"
   ]
  },
  {
   "cell_type": "markdown",
   "metadata": {},
   "source": [
    "<u>Notes</u>: R2 is very high actually. Seems as though price of the day before is by far the most important feature. Since price tomorrow is just price actual shifted by one day, lets remove it and see if the model still performs okay.\n",
    "### rf_2"
   ]
  },
  {
   "cell_type": "code",
   "execution_count": 11,
   "metadata": {},
   "outputs": [
    {
     "name": "stdout",
     "output_type": "stream",
     "text": [
      "r2:  0.9917164708726728\n"
     ]
    }
   ],
   "source": [
    "# Split data and target\n",
    "X = df.drop(columns = ['price tomorrow', 'price actual'])\n",
    "rf_2 = fit_train(X, y)"
   ]
  },
  {
   "cell_type": "code",
   "execution_count": 12,
   "metadata": {
    "scrolled": true
   },
   "outputs": [
    {
     "data": {
      "text/html": [
       "<div>\n",
       "<style scoped>\n",
       "    .dataframe tbody tr th:only-of-type {\n",
       "        vertical-align: middle;\n",
       "    }\n",
       "\n",
       "    .dataframe tbody tr th {\n",
       "        vertical-align: top;\n",
       "    }\n",
       "\n",
       "    .dataframe thead th {\n",
       "        text-align: right;\n",
       "    }\n",
       "</style>\n",
       "<table border=\"1\" class=\"dataframe\">\n",
       "  <thead>\n",
       "    <tr style=\"text-align: right;\">\n",
       "      <th></th>\n",
       "      <th>features</th>\n",
       "      <th>importance</th>\n",
       "    </tr>\n",
       "  </thead>\n",
       "  <tbody>\n",
       "    <tr>\n",
       "      <th>18</th>\n",
       "      <td>price day ahead</td>\n",
       "      <td>0.647819</td>\n",
       "    </tr>\n",
       "    <tr>\n",
       "      <th>4</th>\n",
       "      <td>generation fossil oil</td>\n",
       "      <td>0.032270</td>\n",
       "    </tr>\n",
       "    <tr>\n",
       "      <th>52</th>\n",
       "      <td>dew_point_bilbao</td>\n",
       "      <td>0.030682</td>\n",
       "    </tr>\n",
       "    <tr>\n",
       "      <th>8</th>\n",
       "      <td>generation nuclear</td>\n",
       "      <td>0.024915</td>\n",
       "    </tr>\n",
       "    <tr>\n",
       "      <th>12</th>\n",
       "      <td>generation waste</td>\n",
       "      <td>0.015906</td>\n",
       "    </tr>\n",
       "  </tbody>\n",
       "</table>\n",
       "</div>"
      ],
      "text/plain": [
       "                 features  importance\n",
       "18        price day ahead    0.647819\n",
       "4   generation fossil oil    0.032270\n",
       "52       dew_point_bilbao    0.030682\n",
       "8      generation nuclear    0.024915\n",
       "12       generation waste    0.015906"
      ]
     },
     "execution_count": 12,
     "metadata": {},
     "output_type": "execute_result"
    }
   ],
   "source": [
    "# See feature importances\n",
    "results = pd.DataFrame({'features':X.columns, 'importance':rf_2.feature_importances_})\n",
    "results.sort_values(by='importance', ascending=False).head()"
   ]
  },
  {
   "cell_type": "markdown",
   "metadata": {},
   "source": [
    "<u>Notes</u>: The model still performed very well even without `price actual` which is great. Now `price day ahead` is clearly the most important feature which makes sense as it's the forecast for tomorrows price.  Is it possible that our other variables aren't even helping that much? Let's check by running a model with the `price day ahead` as the only variable and see how well the model can predict price.\n",
    "#### rf_3"
   ]
  },
  {
   "cell_type": "code",
   "execution_count": 13,
   "metadata": {},
   "outputs": [
    {
     "name": "stdout",
     "output_type": "stream",
     "text": [
      "r2:  0.7999555209566865\n"
     ]
    }
   ],
   "source": [
    "# Split data and target\n",
    "X = df.loc[:,'price day ahead']\n",
    "\n",
    "rf_3 = fit_train(X, y)"
   ]
  },
  {
   "cell_type": "markdown",
   "metadata": {},
   "source": [
    "<u>Notes</u>: The model r2 decreased about .2, meaning that the other variables were actually important in predicting the price for tomorrow.  Up to this point, I have not split the data into testing and training.  Let's do that next and see if the model can generalize to unseen data.  I'll split out one continous year's worth of data and try to predict the missing year.  For the predictors, I'll continue to use all columns except for the `price actual` column.\n",
    "#### rf_4"
   ]
  },
  {
   "cell_type": "code",
   "execution_count": 14,
   "metadata": {},
   "outputs": [],
   "source": [
    "df.drop(columns='price actual', inplace=True)"
   ]
  },
  {
   "cell_type": "code",
   "execution_count": 30,
   "metadata": {},
   "outputs": [],
   "source": [
    "# Fit RF model\n",
    "def fit_train(x_train, x_test, y_train, y_test):\n",
    "    rf = RandomForestRegressor(random_state=17)\n",
    "    if len(x_train.shape)==1:\n",
    "        x_train = x_train.to_numpy().reshape(-1,1)\n",
    "        x_test = x_test.to_numpy().reshape(-1,1)\n",
    "    rf.fit(x_train,y_train)\n",
    "    preds_train = rf.predict(x_train)\n",
    "    preds_test = rf.predict(x_test)\n",
    "    results_train = pd.DataFrame({'pred':preds_train, 'true':y_train})\n",
    "    results_test = pd.DataFrame({'pred':preds_test, 'true':y_test})\n",
    "    print('r2_train: ',(results_train.corr()**2).iloc[0,1])\n",
    "    print('r2_test: ',(results_test.corr()**2).iloc[0,1])\n",
    "    return rf"
   ]
  },
  {
   "cell_type": "code",
   "execution_count": 32,
   "metadata": {},
   "outputs": [
    {
     "name": "stdout",
     "output_type": "stream",
     "text": [
      "r2_train:  0.9884514484125445\n",
      "r2_test:  0.10617790044691287\n"
     ]
    }
   ],
   "source": [
    "# Split data and target\n",
    "X_train = df.loc['2015':'2020'].drop(columns=['price day ahead', 'price tomorrow'])\n",
    "X_test  = df.loc['2021'].drop(columns=['price day ahead', 'price tomorrow'])\n",
    "\n",
    "y_train = df.loc['2015':'2020','price tomorrow']\n",
    "y_test = df.loc['2021','price tomorrow']\n",
    "\n",
    "rf_4 = fit_train(X_train, X_test, y_train, y_test)"
   ]
  },
  {
   "cell_type": "code",
   "execution_count": 33,
   "metadata": {
    "scrolled": true
   },
   "outputs": [
    {
     "data": {
      "text/html": [
       "<div>\n",
       "<style scoped>\n",
       "    .dataframe tbody tr th:only-of-type {\n",
       "        vertical-align: middle;\n",
       "    }\n",
       "\n",
       "    .dataframe tbody tr th {\n",
       "        vertical-align: top;\n",
       "    }\n",
       "\n",
       "    .dataframe thead th {\n",
       "        text-align: right;\n",
       "    }\n",
       "</style>\n",
       "<table border=\"1\" class=\"dataframe\">\n",
       "  <thead>\n",
       "    <tr style=\"text-align: right;\">\n",
       "      <th></th>\n",
       "      <th>features</th>\n",
       "      <th>importance</th>\n",
       "    </tr>\n",
       "  </thead>\n",
       "  <tbody>\n",
       "    <tr>\n",
       "      <th>3</th>\n",
       "      <td>generation fossil hard coal</td>\n",
       "      <td>0.385432</td>\n",
       "    </tr>\n",
       "    <tr>\n",
       "      <th>8</th>\n",
       "      <td>generation nuclear</td>\n",
       "      <td>0.036923</td>\n",
       "    </tr>\n",
       "    <tr>\n",
       "      <th>2</th>\n",
       "      <td>generation fossil gas</td>\n",
       "      <td>0.033663</td>\n",
       "    </tr>\n",
       "    <tr>\n",
       "      <th>21</th>\n",
       "      <td>consumption_scheduled</td>\n",
       "      <td>0.032351</td>\n",
       "    </tr>\n",
       "    <tr>\n",
       "      <th>4</th>\n",
       "      <td>generation fossil oil</td>\n",
       "      <td>0.031328</td>\n",
       "    </tr>\n",
       "    <tr>\n",
       "      <th>6</th>\n",
       "      <td>generation hydro run-of-river and poundage</td>\n",
       "      <td>0.031287</td>\n",
       "    </tr>\n",
       "    <tr>\n",
       "      <th>12</th>\n",
       "      <td>generation waste</td>\n",
       "      <td>0.025705</td>\n",
       "    </tr>\n",
       "    <tr>\n",
       "      <th>10</th>\n",
       "      <td>generation other renewable</td>\n",
       "      <td>0.025191</td>\n",
       "    </tr>\n",
       "    <tr>\n",
       "      <th>55</th>\n",
       "      <td>pressures_bilbao</td>\n",
       "      <td>0.023948</td>\n",
       "    </tr>\n",
       "    <tr>\n",
       "      <th>0</th>\n",
       "      <td>generation biomass</td>\n",
       "      <td>0.022387</td>\n",
       "    </tr>\n",
       "    <tr>\n",
       "      <th>31</th>\n",
       "      <td>pressures_madrid</td>\n",
       "      <td>0.018239</td>\n",
       "    </tr>\n",
       "    <tr>\n",
       "      <th>7</th>\n",
       "      <td>generation hydro water reservoir</td>\n",
       "      <td>0.016980</td>\n",
       "    </tr>\n",
       "    <tr>\n",
       "      <th>9</th>\n",
       "      <td>generation other</td>\n",
       "      <td>0.016253</td>\n",
       "    </tr>\n",
       "    <tr>\n",
       "      <th>17</th>\n",
       "      <td>total load actual</td>\n",
       "      <td>0.014146</td>\n",
       "    </tr>\n",
       "    <tr>\n",
       "      <th>14</th>\n",
       "      <td>forecast solar day ahead</td>\n",
       "      <td>0.012668</td>\n",
       "    </tr>\n",
       "    <tr>\n",
       "      <th>24</th>\n",
       "      <td>transmission_fs</td>\n",
       "      <td>0.012231</td>\n",
       "    </tr>\n",
       "    <tr>\n",
       "      <th>20</th>\n",
       "      <td>generation_scheduled</td>\n",
       "      <td>0.011178</td>\n",
       "    </tr>\n",
       "    <tr>\n",
       "      <th>47</th>\n",
       "      <td>pressures_barcelona</td>\n",
       "      <td>0.011069</td>\n",
       "    </tr>\n",
       "    <tr>\n",
       "      <th>51</th>\n",
       "      <td>dew_point_bilbao</td>\n",
       "      <td>0.010981</td>\n",
       "    </tr>\n",
       "    <tr>\n",
       "      <th>43</th>\n",
       "      <td>dew_point_barcelona</td>\n",
       "      <td>0.010218</td>\n",
       "    </tr>\n",
       "    <tr>\n",
       "      <th>39</th>\n",
       "      <td>pressures_seville</td>\n",
       "      <td>0.010128</td>\n",
       "    </tr>\n",
       "    <tr>\n",
       "      <th>15</th>\n",
       "      <td>forecast wind onshore day ahead</td>\n",
       "      <td>0.009384</td>\n",
       "    </tr>\n",
       "    <tr>\n",
       "      <th>1</th>\n",
       "      <td>generation fossil brown coal/lignite</td>\n",
       "      <td>0.009223</td>\n",
       "    </tr>\n",
       "    <tr>\n",
       "      <th>18</th>\n",
       "      <td>generation total</td>\n",
       "      <td>0.008974</td>\n",
       "    </tr>\n",
       "    <tr>\n",
       "      <th>35</th>\n",
       "      <td>dew_point_seville</td>\n",
       "      <td>0.008743</td>\n",
       "    </tr>\n",
       "    <tr>\n",
       "      <th>57</th>\n",
       "      <td>condition_bilbao</td>\n",
       "      <td>0.008565</td>\n",
       "    </tr>\n",
       "    <tr>\n",
       "      <th>63</th>\n",
       "      <td>pressures_valencia</td>\n",
       "      <td>0.008329</td>\n",
       "    </tr>\n",
       "    <tr>\n",
       "      <th>27</th>\n",
       "      <td>dew_point_madrid</td>\n",
       "      <td>0.008231</td>\n",
       "    </tr>\n",
       "    <tr>\n",
       "      <th>13</th>\n",
       "      <td>generation wind onshore</td>\n",
       "      <td>0.008198</td>\n",
       "    </tr>\n",
       "    <tr>\n",
       "      <th>59</th>\n",
       "      <td>dew_point_valencia</td>\n",
       "      <td>0.008145</td>\n",
       "    </tr>\n",
       "    <tr>\n",
       "      <th>19</th>\n",
       "      <td>diff</td>\n",
       "      <td>0.007940</td>\n",
       "    </tr>\n",
       "    <tr>\n",
       "      <th>16</th>\n",
       "      <td>total load forecast</td>\n",
       "      <td>0.007919</td>\n",
       "    </tr>\n",
       "    <tr>\n",
       "      <th>11</th>\n",
       "      <td>generation solar</td>\n",
       "      <td>0.007743</td>\n",
       "    </tr>\n",
       "    <tr>\n",
       "      <th>42</th>\n",
       "      <td>temp_barcelona</td>\n",
       "      <td>0.007488</td>\n",
       "    </tr>\n",
       "    <tr>\n",
       "      <th>5</th>\n",
       "      <td>generation hydro pumped storage consumption</td>\n",
       "      <td>0.007163</td>\n",
       "    </tr>\n",
       "    <tr>\n",
       "      <th>60</th>\n",
       "      <td>humidities_valencia</td>\n",
       "      <td>0.005662</td>\n",
       "    </tr>\n",
       "    <tr>\n",
       "      <th>50</th>\n",
       "      <td>temp_bilbao</td>\n",
       "      <td>0.005528</td>\n",
       "    </tr>\n",
       "    <tr>\n",
       "      <th>52</th>\n",
       "      <td>humidities_bilbao</td>\n",
       "      <td>0.005005</td>\n",
       "    </tr>\n",
       "    <tr>\n",
       "      <th>58</th>\n",
       "      <td>temp_valencia</td>\n",
       "      <td>0.004859</td>\n",
       "    </tr>\n",
       "    <tr>\n",
       "      <th>28</th>\n",
       "      <td>humidities_madrid</td>\n",
       "      <td>0.004837</td>\n",
       "    </tr>\n",
       "    <tr>\n",
       "      <th>34</th>\n",
       "      <td>temp_seville</td>\n",
       "      <td>0.004435</td>\n",
       "    </tr>\n",
       "    <tr>\n",
       "      <th>36</th>\n",
       "      <td>humidities_seville</td>\n",
       "      <td>0.004382</td>\n",
       "    </tr>\n",
       "    <tr>\n",
       "      <th>23</th>\n",
       "      <td>transmission_sp</td>\n",
       "      <td>0.004367</td>\n",
       "    </tr>\n",
       "    <tr>\n",
       "      <th>46</th>\n",
       "      <td>wind_speeds_barcelona</td>\n",
       "      <td>0.004334</td>\n",
       "    </tr>\n",
       "    <tr>\n",
       "      <th>22</th>\n",
       "      <td>transmission_ps</td>\n",
       "      <td>0.004125</td>\n",
       "    </tr>\n",
       "    <tr>\n",
       "      <th>44</th>\n",
       "      <td>humidities_barcelona</td>\n",
       "      <td>0.004095</td>\n",
       "    </tr>\n",
       "    <tr>\n",
       "      <th>26</th>\n",
       "      <td>temp_madrid</td>\n",
       "      <td>0.004071</td>\n",
       "    </tr>\n",
       "    <tr>\n",
       "      <th>53</th>\n",
       "      <td>wind_bilbao</td>\n",
       "      <td>0.003904</td>\n",
       "    </tr>\n",
       "    <tr>\n",
       "      <th>54</th>\n",
       "      <td>wind_speeds_bilbao</td>\n",
       "      <td>0.003808</td>\n",
       "    </tr>\n",
       "    <tr>\n",
       "      <th>30</th>\n",
       "      <td>wind_speeds_madrid</td>\n",
       "      <td>0.003439</td>\n",
       "    </tr>\n",
       "    <tr>\n",
       "      <th>62</th>\n",
       "      <td>wind_speeds_valencia</td>\n",
       "      <td>0.003380</td>\n",
       "    </tr>\n",
       "    <tr>\n",
       "      <th>25</th>\n",
       "      <td>transmission_sf</td>\n",
       "      <td>0.003361</td>\n",
       "    </tr>\n",
       "    <tr>\n",
       "      <th>38</th>\n",
       "      <td>wind_speeds_seville</td>\n",
       "      <td>0.003280</td>\n",
       "    </tr>\n",
       "    <tr>\n",
       "      <th>45</th>\n",
       "      <td>wind_barcelona</td>\n",
       "      <td>0.002792</td>\n",
       "    </tr>\n",
       "    <tr>\n",
       "      <th>37</th>\n",
       "      <td>wind_seville</td>\n",
       "      <td>0.002104</td>\n",
       "    </tr>\n",
       "    <tr>\n",
       "      <th>41</th>\n",
       "      <td>condition_seville</td>\n",
       "      <td>0.002033</td>\n",
       "    </tr>\n",
       "    <tr>\n",
       "      <th>29</th>\n",
       "      <td>wind_madrid</td>\n",
       "      <td>0.002011</td>\n",
       "    </tr>\n",
       "    <tr>\n",
       "      <th>61</th>\n",
       "      <td>wind_valencia</td>\n",
       "      <td>0.001969</td>\n",
       "    </tr>\n",
       "    <tr>\n",
       "      <th>33</th>\n",
       "      <td>condition_madrid</td>\n",
       "      <td>0.001564</td>\n",
       "    </tr>\n",
       "    <tr>\n",
       "      <th>65</th>\n",
       "      <td>condition_valencia</td>\n",
       "      <td>0.001187</td>\n",
       "    </tr>\n",
       "  </tbody>\n",
       "</table>\n",
       "</div>"
      ],
      "text/plain": [
       "                                       features  importance\n",
       "3                   generation fossil hard coal    0.385432\n",
       "8                            generation nuclear    0.036923\n",
       "2                         generation fossil gas    0.033663\n",
       "21                        consumption_scheduled    0.032351\n",
       "4                         generation fossil oil    0.031328\n",
       "6    generation hydro run-of-river and poundage    0.031287\n",
       "12                             generation waste    0.025705\n",
       "10                   generation other renewable    0.025191\n",
       "55                             pressures_bilbao    0.023948\n",
       "0                            generation biomass    0.022387\n",
       "31                             pressures_madrid    0.018239\n",
       "7              generation hydro water reservoir    0.016980\n",
       "9                              generation other    0.016253\n",
       "17                            total load actual    0.014146\n",
       "14                     forecast solar day ahead    0.012668\n",
       "24                              transmission_fs    0.012231\n",
       "20                         generation_scheduled    0.011178\n",
       "47                          pressures_barcelona    0.011069\n",
       "51                             dew_point_bilbao    0.010981\n",
       "43                          dew_point_barcelona    0.010218\n",
       "39                            pressures_seville    0.010128\n",
       "15              forecast wind onshore day ahead    0.009384\n",
       "1          generation fossil brown coal/lignite    0.009223\n",
       "18                             generation total    0.008974\n",
       "35                            dew_point_seville    0.008743\n",
       "57                             condition_bilbao    0.008565\n",
       "63                           pressures_valencia    0.008329\n",
       "27                             dew_point_madrid    0.008231\n",
       "13                      generation wind onshore    0.008198\n",
       "59                           dew_point_valencia    0.008145\n",
       "19                                         diff    0.007940\n",
       "16                          total load forecast    0.007919\n",
       "11                             generation solar    0.007743\n",
       "42                               temp_barcelona    0.007488\n",
       "5   generation hydro pumped storage consumption    0.007163\n",
       "60                          humidities_valencia    0.005662\n",
       "50                                  temp_bilbao    0.005528\n",
       "52                            humidities_bilbao    0.005005\n",
       "58                                temp_valencia    0.004859\n",
       "28                            humidities_madrid    0.004837\n",
       "34                                 temp_seville    0.004435\n",
       "36                           humidities_seville    0.004382\n",
       "23                              transmission_sp    0.004367\n",
       "46                        wind_speeds_barcelona    0.004334\n",
       "22                              transmission_ps    0.004125\n",
       "44                         humidities_barcelona    0.004095\n",
       "26                                  temp_madrid    0.004071\n",
       "53                                  wind_bilbao    0.003904\n",
       "54                           wind_speeds_bilbao    0.003808\n",
       "30                           wind_speeds_madrid    0.003439\n",
       "62                         wind_speeds_valencia    0.003380\n",
       "25                              transmission_sf    0.003361\n",
       "38                          wind_speeds_seville    0.003280\n",
       "45                               wind_barcelona    0.002792\n",
       "37                                 wind_seville    0.002104\n",
       "41                            condition_seville    0.002033\n",
       "29                                  wind_madrid    0.002011\n",
       "61                                wind_valencia    0.001969\n",
       "33                             condition_madrid    0.001564\n",
       "65                           condition_valencia    0.001187"
      ]
     },
     "execution_count": 33,
     "metadata": {},
     "output_type": "execute_result"
    }
   ],
   "source": [
    "# See feature importances\n",
    "results = pd.DataFrame({'features':X_train.columns, 'importance':rf_4.feature_importances_})\n",
    "results.sort_values(by='importance', ascending=False).head(60)"
   ]
  },
  {
   "cell_type": "markdown",
   "metadata": {},
   "source": [
    "<u>Notes</u>: The model r2 is very very high on the training set but low on the test set (as expected). Let's remove all features except `price day ahead` to make sure the other features are important.\n",
    "#### rf_5"
   ]
  },
  {
   "cell_type": "code",
   "execution_count": 19,
   "metadata": {},
   "outputs": [
    {
     "name": "stdout",
     "output_type": "stream",
     "text": [
      "r2_train:  0.5579448712161466\n",
      "r2_test:  0.26694719035626274\n"
     ]
    }
   ],
   "source": [
    "# Split data and target\n",
    "X_train = df.loc['2015':'2020', 'price day ahead']\n",
    "X_test  = df.loc['2021', 'price day ahead']\n",
    "\n",
    "y_train = df.loc['2015':'2020','price tomorrow']\n",
    "y_test = df.loc['2021','price tomorrow']\n",
    "\n",
    "rf_5 = fit_train(X_train, X_test, y_train, y_test)"
   ]
  },
  {
   "cell_type": "markdown",
   "metadata": {},
   "source": [
    "<u>Notes</u>: Model r2 decreased substaintially on the training and testing set, which was to be expected since we only used `price day ahead` in this model. Next let's split the data randomly instead of testing on a continuous year.\n",
    "## Predict with Random Split (all cols)"
   ]
  },
  {
   "cell_type": "code",
   "execution_count": 44,
   "metadata": {},
   "outputs": [
    {
     "name": "stdout",
     "output_type": "stream",
     "text": [
      "r2_train:  0.9909976728513216\n",
      "r2_test:  0.9280663631233073\n"
     ]
    }
   ],
   "source": [
    "# train test split the data and rerun \n",
    "X_train, X_test, y_train, y_test = train_test_split(df.drop(columns=['price day ahead', 'price tomorrow']), \n",
    "                                                    df['price tomorrow'],\n",
    "                                                    test_size=1/7, \n",
    "                                                    random_state=17)\n",
    "\n",
    "rf_6 = fit_train(X_train, X_test, y_train, y_test)"
   ]
  },
  {
   "cell_type": "markdown",
   "metadata": {},
   "source": [
    "<u>Notes</u>: Model r2 is very good.  Let's try again but only use `price day ahead`. \n",
    "## Predict with Random Split (`price day ahead`) only"
   ]
  },
  {
   "cell_type": "code",
   "execution_count": 21,
   "metadata": {},
   "outputs": [
    {
     "name": "stdout",
     "output_type": "stream",
     "text": [
      "r2_train:  0.8106322027798395\n",
      "r2_test:  0.594471716008973\n"
     ]
    }
   ],
   "source": [
    "# train test split the data and rerun \n",
    "X_train, X_test, y_train, y_test = train_test_split(df['price day ahead'], \n",
    "                                                    df['price tomorrow'],\n",
    "                                                    test_size=.25, \n",
    "                                                    random_state=17)\n",
    "\n",
    "rf_7 = fit_train(X_train, X_test, y_train, y_test)"
   ]
  },
  {
   "cell_type": "markdown",
   "metadata": {},
   "source": [
    "## Predict 2015"
   ]
  },
  {
   "cell_type": "code",
   "execution_count": 35,
   "metadata": {},
   "outputs": [
    {
     "name": "stdout",
     "output_type": "stream",
     "text": [
      "r2_train:  0.9924572688732581\n",
      "r2_test:  0.03276817303789933\n"
     ]
    }
   ],
   "source": [
    "# Split data and target\n",
    "X_train = df.loc['2016':'2021'].drop(columns=['price day ahead', 'price tomorrow'])\n",
    "X_test  = df.loc['2015'].drop(columns=['price day ahead', 'price tomorrow'])\n",
    "\n",
    "y_train = df.loc['2016':'2021','price tomorrow']\n",
    "y_test = df.loc['2015','price tomorrow']\n",
    "\n",
    "rf_8 = fit_train(X_train, X_test, y_train, y_test)"
   ]
  },
  {
   "cell_type": "markdown",
   "metadata": {},
   "source": [
    "## Predict 2016"
   ]
  },
  {
   "cell_type": "code",
   "execution_count": 36,
   "metadata": {},
   "outputs": [
    {
     "name": "stdout",
     "output_type": "stream",
     "text": [
      "r2_train:  0.9924612688058608\n",
      "r2_test:  0.013885687476640445\n"
     ]
    }
   ],
   "source": [
    "# Split data and target\n",
    "X_train = df.loc['2015' and '2017':].drop(columns=['price day ahead', 'price tomorrow'])\n",
    "X_test  = df.loc['2016'].drop(columns=['price day ahead', 'price tomorrow'])\n",
    "\n",
    "y_train = df.loc['2015' and '2017':,'price tomorrow']\n",
    "y_test = df.loc['2016', 'price tomorrow']\n",
    "\n",
    "rf_9 = fit_train(X_train, X_test, y_train, y_test)"
   ]
  },
  {
   "cell_type": "markdown",
   "metadata": {},
   "source": [
    "## Predict 2017"
   ]
  },
  {
   "cell_type": "code",
   "execution_count": 37,
   "metadata": {},
   "outputs": [
    {
     "name": "stdout",
     "output_type": "stream",
     "text": [
      "r2_train:  0.9858563561828706\n",
      "r2_test:  0.9843347391352916\n"
     ]
    }
   ],
   "source": [
    "# Split data and target\n",
    "X_train = df.loc[:'2016' and '2018':].drop(columns=['price day ahead', 'price tomorrow'])\n",
    "X_test  = df.loc['2017'].drop(columns=['price day ahead', 'price tomorrow'])\n",
    "\n",
    "y_train = df.loc[:'2015' and '2018':,'price tomorrow']\n",
    "y_test = df.loc['2017', 'price tomorrow']\n",
    "\n",
    "rf_9 = fit_train(X_train, X_test, y_train, y_test)"
   ]
  },
  {
   "cell_type": "markdown",
   "metadata": {},
   "source": [
    "## Predict 2018"
   ]
  },
  {
   "cell_type": "code",
   "execution_count": 38,
   "metadata": {},
   "outputs": [
    {
     "name": "stdout",
     "output_type": "stream",
     "text": [
      "r2_train:  0.9859410466892717\n",
      "r2_test:  0.9817010008392765\n"
     ]
    }
   ],
   "source": [
    "# Split data and target\n",
    "X_train = df.loc[:'2017' and '2019':].drop(columns=['price day ahead', 'price tomorrow'])\n",
    "X_test  = df.loc['2018'].drop(columns=['price day ahead', 'price tomorrow'])\n",
    "\n",
    "y_train = df.loc[:'2017' and '2019':,'price tomorrow']\n",
    "y_test = df.loc['2018', 'price tomorrow']\n",
    "\n",
    "rf_10 = fit_train(X_train, X_test, y_train, y_test)"
   ]
  },
  {
   "cell_type": "markdown",
   "metadata": {},
   "source": [
    "## Predict 2019"
   ]
  },
  {
   "cell_type": "code",
   "execution_count": 39,
   "metadata": {},
   "outputs": [
    {
     "name": "stdout",
     "output_type": "stream",
     "text": [
      "r2_train:  0.9884514484125445\n",
      "r2_test:  0.9838485962768635\n"
     ]
    }
   ],
   "source": [
    "# Split data and target\n",
    "X_train = df.loc[:'2018' and '2020':].drop(columns=['price day ahead', 'price tomorrow'])\n",
    "X_test  = df.loc['2019'].drop(columns=['price day ahead', 'price tomorrow'])\n",
    "\n",
    "y_train = df.loc[:'2018' and '2020':,'price tomorrow']\n",
    "y_test = df.loc['2019', 'price tomorrow']\n",
    "\n",
    "rf_11 = fit_train(X_train, X_test, y_train, y_test)"
   ]
  },
  {
   "cell_type": "code",
   "execution_count": 43,
   "metadata": {
    "scrolled": true
   },
   "outputs": [
    {
     "data": {
      "text/html": [
       "<div>\n",
       "<style scoped>\n",
       "    .dataframe tbody tr th:only-of-type {\n",
       "        vertical-align: middle;\n",
       "    }\n",
       "\n",
       "    .dataframe tbody tr th {\n",
       "        vertical-align: top;\n",
       "    }\n",
       "\n",
       "    .dataframe thead th {\n",
       "        text-align: right;\n",
       "    }\n",
       "</style>\n",
       "<table border=\"1\" class=\"dataframe\">\n",
       "  <thead>\n",
       "    <tr style=\"text-align: right;\">\n",
       "      <th></th>\n",
       "      <th>features</th>\n",
       "      <th>importance</th>\n",
       "    </tr>\n",
       "  </thead>\n",
       "  <tbody>\n",
       "    <tr>\n",
       "      <th>3</th>\n",
       "      <td>generation fossil hard coal</td>\n",
       "      <td>0.385432</td>\n",
       "    </tr>\n",
       "    <tr>\n",
       "      <th>8</th>\n",
       "      <td>generation nuclear</td>\n",
       "      <td>0.036923</td>\n",
       "    </tr>\n",
       "    <tr>\n",
       "      <th>2</th>\n",
       "      <td>generation fossil gas</td>\n",
       "      <td>0.033663</td>\n",
       "    </tr>\n",
       "    <tr>\n",
       "      <th>21</th>\n",
       "      <td>consumption_scheduled</td>\n",
       "      <td>0.032351</td>\n",
       "    </tr>\n",
       "    <tr>\n",
       "      <th>4</th>\n",
       "      <td>generation fossil oil</td>\n",
       "      <td>0.031328</td>\n",
       "    </tr>\n",
       "    <tr>\n",
       "      <th>6</th>\n",
       "      <td>generation hydro run-of-river and poundage</td>\n",
       "      <td>0.031287</td>\n",
       "    </tr>\n",
       "    <tr>\n",
       "      <th>12</th>\n",
       "      <td>generation waste</td>\n",
       "      <td>0.025705</td>\n",
       "    </tr>\n",
       "    <tr>\n",
       "      <th>10</th>\n",
       "      <td>generation other renewable</td>\n",
       "      <td>0.025191</td>\n",
       "    </tr>\n",
       "    <tr>\n",
       "      <th>55</th>\n",
       "      <td>pressures_bilbao</td>\n",
       "      <td>0.023948</td>\n",
       "    </tr>\n",
       "    <tr>\n",
       "      <th>0</th>\n",
       "      <td>generation biomass</td>\n",
       "      <td>0.022387</td>\n",
       "    </tr>\n",
       "    <tr>\n",
       "      <th>31</th>\n",
       "      <td>pressures_madrid</td>\n",
       "      <td>0.018239</td>\n",
       "    </tr>\n",
       "    <tr>\n",
       "      <th>7</th>\n",
       "      <td>generation hydro water reservoir</td>\n",
       "      <td>0.016980</td>\n",
       "    </tr>\n",
       "    <tr>\n",
       "      <th>9</th>\n",
       "      <td>generation other</td>\n",
       "      <td>0.016253</td>\n",
       "    </tr>\n",
       "    <tr>\n",
       "      <th>17</th>\n",
       "      <td>total load actual</td>\n",
       "      <td>0.014146</td>\n",
       "    </tr>\n",
       "    <tr>\n",
       "      <th>14</th>\n",
       "      <td>forecast solar day ahead</td>\n",
       "      <td>0.012668</td>\n",
       "    </tr>\n",
       "    <tr>\n",
       "      <th>24</th>\n",
       "      <td>transmission_fs</td>\n",
       "      <td>0.012231</td>\n",
       "    </tr>\n",
       "    <tr>\n",
       "      <th>20</th>\n",
       "      <td>generation_scheduled</td>\n",
       "      <td>0.011178</td>\n",
       "    </tr>\n",
       "    <tr>\n",
       "      <th>47</th>\n",
       "      <td>pressures_barcelona</td>\n",
       "      <td>0.011069</td>\n",
       "    </tr>\n",
       "    <tr>\n",
       "      <th>51</th>\n",
       "      <td>dew_point_bilbao</td>\n",
       "      <td>0.010981</td>\n",
       "    </tr>\n",
       "    <tr>\n",
       "      <th>43</th>\n",
       "      <td>dew_point_barcelona</td>\n",
       "      <td>0.010218</td>\n",
       "    </tr>\n",
       "    <tr>\n",
       "      <th>39</th>\n",
       "      <td>pressures_seville</td>\n",
       "      <td>0.010128</td>\n",
       "    </tr>\n",
       "    <tr>\n",
       "      <th>15</th>\n",
       "      <td>forecast wind onshore day ahead</td>\n",
       "      <td>0.009384</td>\n",
       "    </tr>\n",
       "    <tr>\n",
       "      <th>1</th>\n",
       "      <td>generation fossil brown coal/lignite</td>\n",
       "      <td>0.009223</td>\n",
       "    </tr>\n",
       "    <tr>\n",
       "      <th>18</th>\n",
       "      <td>generation total</td>\n",
       "      <td>0.008974</td>\n",
       "    </tr>\n",
       "    <tr>\n",
       "      <th>35</th>\n",
       "      <td>dew_point_seville</td>\n",
       "      <td>0.008743</td>\n",
       "    </tr>\n",
       "    <tr>\n",
       "      <th>57</th>\n",
       "      <td>condition_bilbao</td>\n",
       "      <td>0.008565</td>\n",
       "    </tr>\n",
       "    <tr>\n",
       "      <th>63</th>\n",
       "      <td>pressures_valencia</td>\n",
       "      <td>0.008329</td>\n",
       "    </tr>\n",
       "    <tr>\n",
       "      <th>27</th>\n",
       "      <td>dew_point_madrid</td>\n",
       "      <td>0.008231</td>\n",
       "    </tr>\n",
       "    <tr>\n",
       "      <th>13</th>\n",
       "      <td>generation wind onshore</td>\n",
       "      <td>0.008198</td>\n",
       "    </tr>\n",
       "    <tr>\n",
       "      <th>59</th>\n",
       "      <td>dew_point_valencia</td>\n",
       "      <td>0.008145</td>\n",
       "    </tr>\n",
       "    <tr>\n",
       "      <th>19</th>\n",
       "      <td>diff</td>\n",
       "      <td>0.007940</td>\n",
       "    </tr>\n",
       "    <tr>\n",
       "      <th>16</th>\n",
       "      <td>total load forecast</td>\n",
       "      <td>0.007919</td>\n",
       "    </tr>\n",
       "    <tr>\n",
       "      <th>11</th>\n",
       "      <td>generation solar</td>\n",
       "      <td>0.007743</td>\n",
       "    </tr>\n",
       "    <tr>\n",
       "      <th>42</th>\n",
       "      <td>temp_barcelona</td>\n",
       "      <td>0.007488</td>\n",
       "    </tr>\n",
       "    <tr>\n",
       "      <th>5</th>\n",
       "      <td>generation hydro pumped storage consumption</td>\n",
       "      <td>0.007163</td>\n",
       "    </tr>\n",
       "    <tr>\n",
       "      <th>60</th>\n",
       "      <td>humidities_valencia</td>\n",
       "      <td>0.005662</td>\n",
       "    </tr>\n",
       "    <tr>\n",
       "      <th>50</th>\n",
       "      <td>temp_bilbao</td>\n",
       "      <td>0.005528</td>\n",
       "    </tr>\n",
       "    <tr>\n",
       "      <th>52</th>\n",
       "      <td>humidities_bilbao</td>\n",
       "      <td>0.005005</td>\n",
       "    </tr>\n",
       "    <tr>\n",
       "      <th>58</th>\n",
       "      <td>temp_valencia</td>\n",
       "      <td>0.004859</td>\n",
       "    </tr>\n",
       "    <tr>\n",
       "      <th>28</th>\n",
       "      <td>humidities_madrid</td>\n",
       "      <td>0.004837</td>\n",
       "    </tr>\n",
       "    <tr>\n",
       "      <th>34</th>\n",
       "      <td>temp_seville</td>\n",
       "      <td>0.004435</td>\n",
       "    </tr>\n",
       "    <tr>\n",
       "      <th>36</th>\n",
       "      <td>humidities_seville</td>\n",
       "      <td>0.004382</td>\n",
       "    </tr>\n",
       "    <tr>\n",
       "      <th>23</th>\n",
       "      <td>transmission_sp</td>\n",
       "      <td>0.004367</td>\n",
       "    </tr>\n",
       "    <tr>\n",
       "      <th>46</th>\n",
       "      <td>wind_speeds_barcelona</td>\n",
       "      <td>0.004334</td>\n",
       "    </tr>\n",
       "    <tr>\n",
       "      <th>22</th>\n",
       "      <td>transmission_ps</td>\n",
       "      <td>0.004125</td>\n",
       "    </tr>\n",
       "    <tr>\n",
       "      <th>44</th>\n",
       "      <td>humidities_barcelona</td>\n",
       "      <td>0.004095</td>\n",
       "    </tr>\n",
       "    <tr>\n",
       "      <th>26</th>\n",
       "      <td>temp_madrid</td>\n",
       "      <td>0.004071</td>\n",
       "    </tr>\n",
       "    <tr>\n",
       "      <th>53</th>\n",
       "      <td>wind_bilbao</td>\n",
       "      <td>0.003904</td>\n",
       "    </tr>\n",
       "    <tr>\n",
       "      <th>54</th>\n",
       "      <td>wind_speeds_bilbao</td>\n",
       "      <td>0.003808</td>\n",
       "    </tr>\n",
       "    <tr>\n",
       "      <th>30</th>\n",
       "      <td>wind_speeds_madrid</td>\n",
       "      <td>0.003439</td>\n",
       "    </tr>\n",
       "    <tr>\n",
       "      <th>62</th>\n",
       "      <td>wind_speeds_valencia</td>\n",
       "      <td>0.003380</td>\n",
       "    </tr>\n",
       "    <tr>\n",
       "      <th>25</th>\n",
       "      <td>transmission_sf</td>\n",
       "      <td>0.003361</td>\n",
       "    </tr>\n",
       "    <tr>\n",
       "      <th>38</th>\n",
       "      <td>wind_speeds_seville</td>\n",
       "      <td>0.003280</td>\n",
       "    </tr>\n",
       "    <tr>\n",
       "      <th>45</th>\n",
       "      <td>wind_barcelona</td>\n",
       "      <td>0.002792</td>\n",
       "    </tr>\n",
       "    <tr>\n",
       "      <th>37</th>\n",
       "      <td>wind_seville</td>\n",
       "      <td>0.002104</td>\n",
       "    </tr>\n",
       "    <tr>\n",
       "      <th>41</th>\n",
       "      <td>condition_seville</td>\n",
       "      <td>0.002033</td>\n",
       "    </tr>\n",
       "    <tr>\n",
       "      <th>29</th>\n",
       "      <td>wind_madrid</td>\n",
       "      <td>0.002011</td>\n",
       "    </tr>\n",
       "    <tr>\n",
       "      <th>61</th>\n",
       "      <td>wind_valencia</td>\n",
       "      <td>0.001969</td>\n",
       "    </tr>\n",
       "    <tr>\n",
       "      <th>33</th>\n",
       "      <td>condition_madrid</td>\n",
       "      <td>0.001564</td>\n",
       "    </tr>\n",
       "    <tr>\n",
       "      <th>65</th>\n",
       "      <td>condition_valencia</td>\n",
       "      <td>0.001187</td>\n",
       "    </tr>\n",
       "  </tbody>\n",
       "</table>\n",
       "</div>"
      ],
      "text/plain": [
       "                                       features  importance\n",
       "3                   generation fossil hard coal    0.385432\n",
       "8                            generation nuclear    0.036923\n",
       "2                         generation fossil gas    0.033663\n",
       "21                        consumption_scheduled    0.032351\n",
       "4                         generation fossil oil    0.031328\n",
       "6    generation hydro run-of-river and poundage    0.031287\n",
       "12                             generation waste    0.025705\n",
       "10                   generation other renewable    0.025191\n",
       "55                             pressures_bilbao    0.023948\n",
       "0                            generation biomass    0.022387\n",
       "31                             pressures_madrid    0.018239\n",
       "7              generation hydro water reservoir    0.016980\n",
       "9                              generation other    0.016253\n",
       "17                            total load actual    0.014146\n",
       "14                     forecast solar day ahead    0.012668\n",
       "24                              transmission_fs    0.012231\n",
       "20                         generation_scheduled    0.011178\n",
       "47                          pressures_barcelona    0.011069\n",
       "51                             dew_point_bilbao    0.010981\n",
       "43                          dew_point_barcelona    0.010218\n",
       "39                            pressures_seville    0.010128\n",
       "15              forecast wind onshore day ahead    0.009384\n",
       "1          generation fossil brown coal/lignite    0.009223\n",
       "18                             generation total    0.008974\n",
       "35                            dew_point_seville    0.008743\n",
       "57                             condition_bilbao    0.008565\n",
       "63                           pressures_valencia    0.008329\n",
       "27                             dew_point_madrid    0.008231\n",
       "13                      generation wind onshore    0.008198\n",
       "59                           dew_point_valencia    0.008145\n",
       "19                                         diff    0.007940\n",
       "16                          total load forecast    0.007919\n",
       "11                             generation solar    0.007743\n",
       "42                               temp_barcelona    0.007488\n",
       "5   generation hydro pumped storage consumption    0.007163\n",
       "60                          humidities_valencia    0.005662\n",
       "50                                  temp_bilbao    0.005528\n",
       "52                            humidities_bilbao    0.005005\n",
       "58                                temp_valencia    0.004859\n",
       "28                            humidities_madrid    0.004837\n",
       "34                                 temp_seville    0.004435\n",
       "36                           humidities_seville    0.004382\n",
       "23                              transmission_sp    0.004367\n",
       "46                        wind_speeds_barcelona    0.004334\n",
       "22                              transmission_ps    0.004125\n",
       "44                         humidities_barcelona    0.004095\n",
       "26                                  temp_madrid    0.004071\n",
       "53                                  wind_bilbao    0.003904\n",
       "54                           wind_speeds_bilbao    0.003808\n",
       "30                           wind_speeds_madrid    0.003439\n",
       "62                         wind_speeds_valencia    0.003380\n",
       "25                              transmission_sf    0.003361\n",
       "38                          wind_speeds_seville    0.003280\n",
       "45                               wind_barcelona    0.002792\n",
       "37                                 wind_seville    0.002104\n",
       "41                            condition_seville    0.002033\n",
       "29                                  wind_madrid    0.002011\n",
       "61                                wind_valencia    0.001969\n",
       "33                             condition_madrid    0.001564\n",
       "65                           condition_valencia    0.001187"
      ]
     },
     "execution_count": 43,
     "metadata": {},
     "output_type": "execute_result"
    }
   ],
   "source": [
    "# See feature importances\n",
    "results = pd.DataFrame({'features':X_train.columns, 'importance':rf_11.feature_importances_})\n",
    "results.sort_values(by='importance', ascending=False).head(60)"
   ]
  },
  {
   "cell_type": "markdown",
   "metadata": {},
   "source": [
    "## Predict 2020"
   ]
  },
  {
   "cell_type": "code",
   "execution_count": 40,
   "metadata": {},
   "outputs": [
    {
     "name": "stdout",
     "output_type": "stream",
     "text": [
      "r2_train:  0.9921910595761831\n",
      "r2_test:  0.9033736643413425\n"
     ]
    }
   ],
   "source": [
    "# Split data and target\n",
    "X_train = df.loc[:'2019' and '2021'].drop(columns=['price day ahead', 'price tomorrow'])\n",
    "X_test  = df.loc['2020'].drop(columns=['price day ahead', 'price tomorrow'])\n",
    "\n",
    "y_train = df.loc[:'2019' and '2021','price tomorrow']\n",
    "y_test = df.loc['2020', 'price tomorrow']\n",
    "\n",
    "rf_12 = fit_train(X_train, X_test, y_train, y_test)"
   ]
  },
  {
   "cell_type": "code",
   "execution_count": 42,
   "metadata": {
    "scrolled": true
   },
   "outputs": [
    {
     "data": {
      "text/plain": [
       "<AxesSubplot:>"
      ]
     },
     "execution_count": 42,
     "metadata": {},
     "output_type": "execute_result"
    },
    {
     "data": {
      "image/png": "[encoded data removed]",
      "text/plain": [
       "<Figure size 1080x360 with 1 Axes>"
      ]
     },
     "metadata": {
      "needs_background": "light"
     },
     "output_type": "display_data"
    }
   ],
   "source": [
    "df['price tomorrow'].plot(figsize=(15,5));"
   ]
  },
  {
   "cell_type": "markdown",
   "metadata": {},
   "source": [
    "## Use price day ahead col, predict each year\n",
    "\n",
    "## Predict 2015"
   ]
  },
  {
   "cell_type": "code",
   "execution_count": 48,
   "metadata": {},
   "outputs": [
    {
     "name": "stdout",
     "output_type": "stream",
     "text": [
      "r2_train:  0.9922764513685587\n",
      "r2_test:  0.2880375468234349\n"
     ]
    }
   ],
   "source": [
    "# Split data and target\n",
    "X_train = df.loc['2016':].drop(columns=['price tomorrow'])\n",
    "X_test  = df.loc['2015'].drop(columns=['price tomorrow'])\n",
    "\n",
    "y_train = df.loc['2016':,'price tomorrow']\n",
    "y_test = df.loc['2015', 'price tomorrow']\n",
    "\n",
    "rf_13 = fit_train(X_train, X_test, y_train, y_test)"
   ]
  },
  {
   "cell_type": "markdown",
   "metadata": {},
   "source": [
    "## Predict 2016"
   ]
  },
  {
   "cell_type": "code",
   "execution_count": 49,
   "metadata": {},
   "outputs": [
    {
     "name": "stdout",
     "output_type": "stream",
     "text": [
      "r2_train:  0.9919359896280869\n",
      "r2_test:  0.19656441079271836\n"
     ]
    }
   ],
   "source": [
    "# Split data and target\n",
    "X_train = df.loc['2015' and '2017':].drop(columns=['price tomorrow'])\n",
    "X_test  = df.loc['2016'].drop(columns=['price tomorrow'])\n",
    "\n",
    "y_train = df.loc['2015' and '2017':,'price tomorrow']\n",
    "y_test = df.loc['2016', 'price tomorrow']\n",
    "\n",
    "rf_14 = fit_train(X_train, X_test, y_train, y_test)"
   ]
  },
  {
   "cell_type": "markdown",
   "metadata": {},
   "source": [
    "## Predict 2017"
   ]
  },
  {
   "cell_type": "code",
   "execution_count": 50,
   "metadata": {},
   "outputs": [
    {
     "name": "stdout",
     "output_type": "stream",
     "text": [
      "r2_train:  0.9829974278635967\n",
      "r2_test:  0.9808768370678527\n"
     ]
    }
   ],
   "source": [
    "# Split data and target\n",
    "X_train = df.loc[:'2016' and '2018':].drop(columns=['price tomorrow'])\n",
    "X_test  = df.loc['2017'].drop(columns=['price tomorrow'])\n",
    "\n",
    "y_train = df.loc[:'2016' and '2018':,'price tomorrow']\n",
    "y_test = df.loc['2017', 'price tomorrow']\n",
    "\n",
    "rf_15 = fit_train(X_train, X_test, y_train, y_test)"
   ]
  },
  {
   "cell_type": "markdown",
   "metadata": {},
   "source": [
    "## Predict 2018"
   ]
  },
  {
   "cell_type": "code",
   "execution_count": 51,
   "metadata": {},
   "outputs": [
    {
     "name": "stdout",
     "output_type": "stream",
     "text": [
      "r2_train:  0.984359864718261\n",
      "r2_test:  0.979574528605462\n"
     ]
    }
   ],
   "source": [
    "# Split data and target\n",
    "X_train = df.loc[:'2017' and '2019':].drop(columns=['price tomorrow'])\n",
    "X_test  = df.loc['2018'].drop(columns=['price tomorrow'])\n",
    "\n",
    "y_train = df.loc[:'2017' and '2019':,'price tomorrow']\n",
    "y_test = df.loc['2018', 'price tomorrow']\n",
    "\n",
    "rf_16 = fit_train(X_train, X_test, y_train, y_test)"
   ]
  },
  {
   "cell_type": "markdown",
   "metadata": {},
   "source": [
    "## Predict 2019"
   ]
  },
  {
   "cell_type": "code",
   "execution_count": 52,
   "metadata": {},
   "outputs": [
    {
     "name": "stdout",
     "output_type": "stream",
     "text": [
      "r2_train:  0.9872762249215412\n",
      "r2_test:  0.9782476744891457\n"
     ]
    }
   ],
   "source": [
    "# Split data and target\n",
    "X_train = df.loc[:'2018' and '2020':].drop(columns=['price tomorrow'])\n",
    "X_test  = df.loc['2019'].drop(columns=['price tomorrow'])\n",
    "\n",
    "y_train = df.loc[:'2018' and '2020':,'price tomorrow']\n",
    "y_test = df.loc['2019', 'price tomorrow']\n",
    "\n",
    "rf_17 = fit_train(X_train, X_test, y_train, y_test)"
   ]
  },
  {
   "cell_type": "markdown",
   "metadata": {},
   "source": [
    "## Predict 2020"
   ]
  },
  {
   "cell_type": "code",
   "execution_count": 53,
   "metadata": {},
   "outputs": [
    {
     "name": "stdout",
     "output_type": "stream",
     "text": [
      "r2_train:  0.9919496386666498\n",
      "r2_test:  0.9632457054305507\n"
     ]
    }
   ],
   "source": [
    "# Split data and target\n",
    "X_train = df.loc[:'2019' and '2021':].drop(columns=['price tomorrow'])\n",
    "X_test  = df.loc['2020'].drop(columns=['price tomorrow'])\n",
    "\n",
    "y_train = df.loc[:'2019' and '2021':,'price tomorrow']\n",
    "y_test = df.loc['2020', 'price tomorrow']\n",
    "\n",
    "rf_18 = fit_train(X_train, X_test, y_train, y_test)"
   ]
  },
  {
   "cell_type": "markdown",
   "metadata": {},
   "source": [
    "## Predict 2021"
   ]
  },
  {
   "cell_type": "code",
   "execution_count": 54,
   "metadata": {},
   "outputs": [
    {
     "name": "stdout",
     "output_type": "stream",
     "text": [
      "r2_train:  0.9872762249215412\n",
      "r2_test:  0.24898734483302826\n"
     ]
    }
   ],
   "source": [
    "# Split data and target\n",
    "X_train = df.loc[:'2020'].drop(columns=['price tomorrow'])\n",
    "X_test  = df.loc['2021'].drop(columns=['price tomorrow'])\n",
    "\n",
    "y_train = df.loc[:'2020':,'price tomorrow']\n",
    "y_test = df.loc['2021', 'price tomorrow']\n",
    "\n",
    "rf_19 = fit_train(X_train, X_test, y_train, y_test)"
   ]
  },
  {
   "cell_type": "markdown",
   "metadata": {},
   "source": [
    "## Column Analysis Year by Year"
   ]
  },
  {
   "cell_type": "code",
   "execution_count": 89,
   "metadata": {},
   "outputs": [],
   "source": [
    "year_groups = X.groupby(by = X.index.year).mean()"
   ]
  },
  {
   "cell_type": "code",
   "execution_count": 90,
   "metadata": {
    "scrolled": true
   },
   "outputs": [
    {
     "data": {
      "image/png": "[encoded data removed]",
      "text/plain": [
       "<Figure size 1080x4032 with 30 Axes>"
      ]
     },
     "metadata": {
      "needs_background": "light"
     },
     "output_type": "display_data"
    }
   ],
   "source": [
    "fig, ax = plt.subplots(nrows=len(X.columns)//3+1, ncols=3,figsize=(15, 2*len(X.columns)))\n",
    "for i, col in enumerate(X.columns):\n",
    "    r = i//3\n",
    "    c = i%3\n",
    "    ax[r][c].bar(x=year_groups.index, height = year_groups[col],);\n",
    "    ax[r][c].set_title(col);"
   ]
  },
  {
   "cell_type": "code",
   "execution_count": 76,
   "metadata": {},
   "outputs": [
    {
     "data": {
      "text/plain": [
       "0"
      ]
     },
     "execution_count": 76,
     "metadata": {},
     "output_type": "execute_result"
    }
   ],
   "source": [
    "0//3"
   ]
  },
  {
   "cell_type": "code",
   "execution_count": 77,
   "metadata": {},
   "outputs": [
    {
     "data": {
      "text/plain": [
       "0"
      ]
     },
     "execution_count": 77,
     "metadata": {},
     "output_type": "execute_result"
    }
   ],
   "source": [
    "1//3"
   ]
  },
  {
   "cell_type": "code",
   "execution_count": 78,
   "metadata": {},
   "outputs": [
    {
     "data": {
      "text/plain": [
       "0"
      ]
     },
     "execution_count": 78,
     "metadata": {},
     "output_type": "execute_result"
    }
   ],
   "source": [
    "2//3"
   ]
  },
  {
   "cell_type": "code",
   "execution_count": 79,
   "metadata": {},
   "outputs": [
    {
     "data": {
      "text/plain": [
       "1"
      ]
     },
     "execution_count": 79,
     "metadata": {},
     "output_type": "execute_result"
    }
   ],
   "source": [
    "3//3"
   ]
  },
  {
   "cell_type": "code",
   "execution_count": 80,
   "metadata": {},
   "outputs": [
    {
     "data": {
      "text/plain": [
       "1"
      ]
     },
     "execution_count": 80,
     "metadata": {},
     "output_type": "execute_result"
    }
   ],
   "source": [
    "4//3"
   ]
  },
  {
   "cell_type": "code",
   "execution_count": 81,
   "metadata": {},
   "outputs": [
    {
     "data": {
      "text/plain": [
       "1"
      ]
     },
     "execution_count": 81,
     "metadata": {},
     "output_type": "execute_result"
    }
   ],
   "source": [
    "5//3"
   ]
  },
  {
   "cell_type": "code",
   "execution_count": 105,
   "metadata": {},
   "outputs": [
    {
     "data": {
      "text/html": [
       "<div>\n",
       "<style scoped>\n",
       "    .dataframe tbody tr th:only-of-type {\n",
       "        vertical-align: middle;\n",
       "    }\n",
       "\n",
       "    .dataframe tbody tr th {\n",
       "        vertical-align: top;\n",
       "    }\n",
       "\n",
       "    .dataframe thead th {\n",
       "        text-align: right;\n",
       "    }\n",
       "</style>\n",
       "<table border=\"1\" class=\"dataframe\">\n",
       "  <thead>\n",
       "    <tr style=\"text-align: right;\">\n",
       "      <th></th>\n",
       "      <th>temp_Seville</th>\n",
       "      <th>pressure_Seville</th>\n",
       "      <th>humidity_Seville</th>\n",
       "      <th>wind_speed_Seville</th>\n",
       "      <th>wind_deg_Seville</th>\n",
       "      <th>rain_1h_Seville</th>\n",
       "      <th>rain_3h_Seville</th>\n",
       "      <th>snow_3h_Seville</th>\n",
       "      <th>clouds_all_Seville</th>\n",
       "      <th>description_Seville</th>\n",
       "    </tr>\n",
       "  </thead>\n",
       "  <tbody>\n",
       "    <tr>\n",
       "      <th>2015-01-01 00:00:00</th>\n",
       "      <td>273.375</td>\n",
       "      <td>1039.0</td>\n",
       "      <td>75.0</td>\n",
       "      <td>1.0</td>\n",
       "      <td>21.0</td>\n",
       "      <td>0.0</td>\n",
       "      <td>0.0</td>\n",
       "      <td>0.0</td>\n",
       "      <td>0.0</td>\n",
       "      <td>299.0</td>\n",
       "    </tr>\n",
       "    <tr>\n",
       "      <th>2015-01-01 01:00:00</th>\n",
       "      <td>273.375</td>\n",
       "      <td>1039.0</td>\n",
       "      <td>75.0</td>\n",
       "      <td>1.0</td>\n",
       "      <td>21.0</td>\n",
       "      <td>0.0</td>\n",
       "      <td>0.0</td>\n",
       "      <td>0.0</td>\n",
       "      <td>0.0</td>\n",
       "      <td>299.0</td>\n",
       "    </tr>\n",
       "    <tr>\n",
       "      <th>2015-01-01 02:00:00</th>\n",
       "      <td>274.086</td>\n",
       "      <td>1039.0</td>\n",
       "      <td>71.0</td>\n",
       "      <td>3.0</td>\n",
       "      <td>27.0</td>\n",
       "      <td>0.0</td>\n",
       "      <td>0.0</td>\n",
       "      <td>0.0</td>\n",
       "      <td>0.0</td>\n",
       "      <td>299.0</td>\n",
       "    </tr>\n",
       "    <tr>\n",
       "      <th>2015-01-01 03:00:00</th>\n",
       "      <td>274.086</td>\n",
       "      <td>1039.0</td>\n",
       "      <td>71.0</td>\n",
       "      <td>3.0</td>\n",
       "      <td>27.0</td>\n",
       "      <td>0.0</td>\n",
       "      <td>0.0</td>\n",
       "      <td>0.0</td>\n",
       "      <td>0.0</td>\n",
       "      <td>299.0</td>\n",
       "    </tr>\n",
       "    <tr>\n",
       "      <th>2015-01-01 04:00:00</th>\n",
       "      <td>274.086</td>\n",
       "      <td>1039.0</td>\n",
       "      <td>71.0</td>\n",
       "      <td>3.0</td>\n",
       "      <td>27.0</td>\n",
       "      <td>0.0</td>\n",
       "      <td>0.0</td>\n",
       "      <td>0.0</td>\n",
       "      <td>0.0</td>\n",
       "      <td>299.0</td>\n",
       "    </tr>\n",
       "    <tr>\n",
       "      <th>...</th>\n",
       "      <td>...</td>\n",
       "      <td>...</td>\n",
       "      <td>...</td>\n",
       "      <td>...</td>\n",
       "      <td>...</td>\n",
       "      <td>...</td>\n",
       "      <td>...</td>\n",
       "      <td>...</td>\n",
       "      <td>...</td>\n",
       "      <td>...</td>\n",
       "    </tr>\n",
       "    <tr>\n",
       "      <th>2021-12-30 19:00:00</th>\n",
       "      <td>NaN</td>\n",
       "      <td>NaN</td>\n",
       "      <td>NaN</td>\n",
       "      <td>NaN</td>\n",
       "      <td>NaN</td>\n",
       "      <td>NaN</td>\n",
       "      <td>NaN</td>\n",
       "      <td>NaN</td>\n",
       "      <td>NaN</td>\n",
       "      <td>NaN</td>\n",
       "    </tr>\n",
       "    <tr>\n",
       "      <th>2021-12-30 20:00:00</th>\n",
       "      <td>NaN</td>\n",
       "      <td>NaN</td>\n",
       "      <td>NaN</td>\n",
       "      <td>NaN</td>\n",
       "      <td>NaN</td>\n",
       "      <td>NaN</td>\n",
       "      <td>NaN</td>\n",
       "      <td>NaN</td>\n",
       "      <td>NaN</td>\n",
       "      <td>NaN</td>\n",
       "    </tr>\n",
       "    <tr>\n",
       "      <th>2021-12-30 21:00:00</th>\n",
       "      <td>NaN</td>\n",
       "      <td>NaN</td>\n",
       "      <td>NaN</td>\n",
       "      <td>NaN</td>\n",
       "      <td>NaN</td>\n",
       "      <td>NaN</td>\n",
       "      <td>NaN</td>\n",
       "      <td>NaN</td>\n",
       "      <td>NaN</td>\n",
       "      <td>NaN</td>\n",
       "    </tr>\n",
       "    <tr>\n",
       "      <th>2021-12-30 22:00:00</th>\n",
       "      <td>NaN</td>\n",
       "      <td>NaN</td>\n",
       "      <td>NaN</td>\n",
       "      <td>NaN</td>\n",
       "      <td>NaN</td>\n",
       "      <td>NaN</td>\n",
       "      <td>NaN</td>\n",
       "      <td>NaN</td>\n",
       "      <td>NaN</td>\n",
       "      <td>NaN</td>\n",
       "    </tr>\n",
       "    <tr>\n",
       "      <th>2021-12-30 23:00:00</th>\n",
       "      <td>NaN</td>\n",
       "      <td>NaN</td>\n",
       "      <td>NaN</td>\n",
       "      <td>NaN</td>\n",
       "      <td>NaN</td>\n",
       "      <td>NaN</td>\n",
       "      <td>NaN</td>\n",
       "      <td>NaN</td>\n",
       "      <td>NaN</td>\n",
       "      <td>NaN</td>\n",
       "    </tr>\n",
       "  </tbody>\n",
       "</table>\n",
       "<p>61040 rows × 10 columns</p>\n",
       "</div>"
      ],
      "text/plain": [
       "                     temp_Seville  pressure_Seville  humidity_Seville  \\\n",
       "2015-01-01 00:00:00       273.375            1039.0              75.0   \n",
       "2015-01-01 01:00:00       273.375            1039.0              75.0   \n",
       "2015-01-01 02:00:00       274.086            1039.0              71.0   \n",
       "2015-01-01 03:00:00       274.086            1039.0              71.0   \n",
       "2015-01-01 04:00:00       274.086            1039.0              71.0   \n",
       "...                           ...               ...               ...   \n",
       "2021-12-30 19:00:00           NaN               NaN               NaN   \n",
       "2021-12-30 20:00:00           NaN               NaN               NaN   \n",
       "2021-12-30 21:00:00           NaN               NaN               NaN   \n",
       "2021-12-30 22:00:00           NaN               NaN               NaN   \n",
       "2021-12-30 23:00:00           NaN               NaN               NaN   \n",
       "\n",
       "                     wind_speed_Seville  wind_deg_Seville  rain_1h_Seville  \\\n",
       "2015-01-01 00:00:00                 1.0              21.0              0.0   \n",
       "2015-01-01 01:00:00                 1.0              21.0              0.0   \n",
       "2015-01-01 02:00:00                 3.0              27.0              0.0   \n",
       "2015-01-01 03:00:00                 3.0              27.0              0.0   \n",
       "2015-01-01 04:00:00                 3.0              27.0              0.0   \n",
       "...                                 ...               ...              ...   \n",
       "2021-12-30 19:00:00                 NaN               NaN              NaN   \n",
       "2021-12-30 20:00:00                 NaN               NaN              NaN   \n",
       "2021-12-30 21:00:00                 NaN               NaN              NaN   \n",
       "2021-12-30 22:00:00                 NaN               NaN              NaN   \n",
       "2021-12-30 23:00:00                 NaN               NaN              NaN   \n",
       "\n",
       "                     rain_3h_Seville  snow_3h_Seville  clouds_all_Seville  \\\n",
       "2015-01-01 00:00:00              0.0              0.0                 0.0   \n",
       "2015-01-01 01:00:00              0.0              0.0                 0.0   \n",
       "2015-01-01 02:00:00              0.0              0.0                 0.0   \n",
       "2015-01-01 03:00:00              0.0              0.0                 0.0   \n",
       "2015-01-01 04:00:00              0.0              0.0                 0.0   \n",
       "...                              ...              ...                 ...   \n",
       "2021-12-30 19:00:00              NaN              NaN                 NaN   \n",
       "2021-12-30 20:00:00              NaN              NaN                 NaN   \n",
       "2021-12-30 21:00:00              NaN              NaN                 NaN   \n",
       "2021-12-30 22:00:00              NaN              NaN                 NaN   \n",
       "2021-12-30 23:00:00              NaN              NaN                 NaN   \n",
       "\n",
       "                     description_Seville  \n",
       "2015-01-01 00:00:00                299.0  \n",
       "2015-01-01 01:00:00                299.0  \n",
       "2015-01-01 02:00:00                299.0  \n",
       "2015-01-01 03:00:00                299.0  \n",
       "2015-01-01 04:00:00                299.0  \n",
       "...                                  ...  \n",
       "2021-12-30 19:00:00                  NaN  \n",
       "2021-12-30 20:00:00                  NaN  \n",
       "2021-12-30 21:00:00                  NaN  \n",
       "2021-12-30 22:00:00                  NaN  \n",
       "2021-12-30 23:00:00                  NaN  \n",
       "\n",
       "[61040 rows x 10 columns]"
      ]
     },
     "execution_count": 105,
     "metadata": {},
     "output_type": "execute_result"
    }
   ],
   "source": [
    "df[['temp_Seville',\n",
    "       'pressure_Seville', 'humidity_Seville', 'wind_speed_Seville',\n",
    "       'wind_deg_Seville', 'rain_1h_Seville', 'rain_3h_Seville',\n",
    "       'snow_3h_Seville', 'clouds_all_Seville', 'description_Seville']]"
   ]
  },
  {
   "cell_type": "code",
   "execution_count": 101,
   "metadata": {},
   "outputs": [
    {
     "ename": "TypeError",
     "evalue": "'NoneType' object is not callable",
     "output_type": "error",
     "traceback": [
      "\u001b[1;31m---------------------------------------------------------------------------\u001b[0m",
      "\u001b[1;31mTypeError\u001b[0m                                 Traceback (most recent call last)",
      "\u001b[1;32m<ipython-input-101-e546ea655931>\u001b[0m in \u001b[0;36m<module>\u001b[1;34m\u001b[0m\n\u001b[1;32m----> 1\u001b[1;33m \u001b[0mdf\u001b[0m\u001b[1;33m.\u001b[0m\u001b[0mindex\u001b[0m\u001b[1;33m[\u001b[0m\u001b[1;36m0\u001b[0m\u001b[1;33m]\u001b[0m\u001b[1;33m.\u001b[0m\u001b[0mtzinfo\u001b[0m\u001b[1;33m(\u001b[0m\u001b[1;33m)\u001b[0m\u001b[1;33m\u001b[0m\u001b[1;33m\u001b[0m\u001b[0m\n\u001b[0m",
      "\u001b[1;31mTypeError\u001b[0m: 'NoneType' object is not callable"
     ]
    }
   ],
   "source": [
    "df.index[0].tzinfo()"
   ]
  },
  {
   "cell_type": "code",
   "execution_count": null,
   "metadata": {},
   "outputs": [],
   "source": []
  },
  {
   "cell_type": "markdown",
   "metadata": {},
   "source": [
    "#### Why does splitting out the year 2018 do so poorly?"
   ]
  },
  {
   "cell_type": "code",
   "execution_count": null,
   "metadata": {},
   "outputs": [],
   "source": [
    "rf_4 = all cols, split 2018\n",
    "rf_5 = price day ahead only, split 2018\n",
    "rf_6 = all cols, random split\n",
    "rf_7 = price day ahead only, random split"
   ]
  },
  {
   "cell_type": "code",
   "execution_count": 58,
   "metadata": {},
   "outputs": [
    {
     "data": {
      "image/png": "[encoded data removed]",
      "text/plain": [
       "<Figure size 1080x360 with 1 Axes>"
      ]
     },
     "metadata": {
      "needs_background": "light"
     },
     "output_type": "display_data"
    }
   ],
   "source": [
    "X_train = df_weather.loc['2015':'2017'].drop(columns='price day ahead')\n",
    "X_test  = df_weather.loc['2018'].drop(columns='price day ahead')\n",
    "\n",
    "y_train = df_weather.loc['2015':'2017','price tomorrow']\n",
    "y_test = df_weather.loc['2018','price tomorrow']\n",
    "\n",
    "start = dt.datetime(2018, 1, 1)\n",
    "stop = dt.datetime(2018, 12, 31, 23)\n",
    "rf4_results = pd.DataFrame({'preds':rf_4.predict(X_test), \n",
    "                            'true':y_test}, \n",
    "                           index=pd.date_range(start, stop, freq='H')\n",
    "                           )\n",
    "rf4_results['residuals'] = rf4_results.true - rf4_results.preds\n",
    "rf4_results.plot(figsize=(15,5));"
   ]
  },
  {
   "cell_type": "code",
   "execution_count": 59,
   "metadata": {},
   "outputs": [
    {
     "data": {
      "image/png": "[encoded data removed]",
      "text/plain": [
       "<Figure size 1080x360 with 1 Axes>"
      ]
     },
     "metadata": {
      "needs_background": "light"
     },
     "output_type": "display_data"
    }
   ],
   "source": [
    "df_weather['price tomorrow'].loc['2015'].reset_index()['price tomorrow'].rolling(window=168).mean().plot(figsize=(15,5))\n",
    "df_weather['price tomorrow'].loc['2016'].reset_index()['price tomorrow'].rolling(window=168).mean().plot(figsize=(15,5))\n",
    "df_weather['price tomorrow'].loc['2017'].reset_index()['price tomorrow'].rolling(window=168).mean().plot(figsize=(15,5), legend=True)\n",
    "df_weather['price tomorrow'].loc['2018'].reset_index()['price tomorrow'].rolling(window=168).mean().plot(figsize=(15,5));"
   ]
  },
  {
   "cell_type": "code",
   "execution_count": 60,
   "metadata": {
    "scrolled": true
   },
   "outputs": [
    {
     "data": {
      "text/html": [
       "<div>\n",
       "<style scoped>\n",
       "    .dataframe tbody tr th:only-of-type {\n",
       "        vertical-align: middle;\n",
       "    }\n",
       "\n",
       "    .dataframe tbody tr th {\n",
       "        vertical-align: top;\n",
       "    }\n",
       "\n",
       "    .dataframe thead th {\n",
       "        text-align: right;\n",
       "    }\n",
       "</style>\n",
       "<table border=\"1\" class=\"dataframe\">\n",
       "  <thead>\n",
       "    <tr style=\"text-align: right;\">\n",
       "      <th></th>\n",
       "      <th>features</th>\n",
       "      <th>importance</th>\n",
       "    </tr>\n",
       "  </thead>\n",
       "  <tbody>\n",
       "    <tr>\n",
       "      <th>76</th>\n",
       "      <td>price tomorrow</td>\n",
       "      <td>9.999897e-01</td>\n",
       "    </tr>\n",
       "    <tr>\n",
       "      <th>19</th>\n",
       "      <td>diff</td>\n",
       "      <td>1.103654e-06</td>\n",
       "    </tr>\n",
       "    <tr>\n",
       "      <th>11</th>\n",
       "      <td>generation solar</td>\n",
       "      <td>9.665699e-07</td>\n",
       "    </tr>\n",
       "    <tr>\n",
       "      <th>15</th>\n",
       "      <td>forecast wind onshore day ahead</td>\n",
       "      <td>5.427651e-07</td>\n",
       "    </tr>\n",
       "    <tr>\n",
       "      <th>53</th>\n",
       "      <td>wind_speed_Madrid</td>\n",
       "      <td>4.098092e-07</td>\n",
       "    </tr>\n",
       "    <tr>\n",
       "      <th>9</th>\n",
       "      <td>generation other</td>\n",
       "      <td>3.987496e-07</td>\n",
       "    </tr>\n",
       "    <tr>\n",
       "      <th>70</th>\n",
       "      <td>generation_scheduled</td>\n",
       "      <td>3.797870e-07</td>\n",
       "    </tr>\n",
       "    <tr>\n",
       "      <th>4</th>\n",
       "      <td>generation fossil oil</td>\n",
       "      <td>3.694020e-07</td>\n",
       "    </tr>\n",
       "    <tr>\n",
       "      <th>75</th>\n",
       "      <td>transmission_sf</td>\n",
       "      <td>3.253684e-07</td>\n",
       "    </tr>\n",
       "    <tr>\n",
       "      <th>60</th>\n",
       "      <td>temp_Valencia</td>\n",
       "      <td>2.851397e-07</td>\n",
       "    </tr>\n",
       "    <tr>\n",
       "      <th>30</th>\n",
       "      <td>temp_ Barcelona</td>\n",
       "      <td>2.848043e-07</td>\n",
       "    </tr>\n",
       "    <tr>\n",
       "      <th>74</th>\n",
       "      <td>transmission_fs</td>\n",
       "      <td>2.841238e-07</td>\n",
       "    </tr>\n",
       "    <tr>\n",
       "      <th>1</th>\n",
       "      <td>generation fossil brown coal/lignite</td>\n",
       "      <td>2.553142e-07</td>\n",
       "    </tr>\n",
       "    <tr>\n",
       "      <th>33</th>\n",
       "      <td>wind_speed_ Barcelona</td>\n",
       "      <td>2.441414e-07</td>\n",
       "    </tr>\n",
       "    <tr>\n",
       "      <th>43</th>\n",
       "      <td>wind_speed_Bilbao</td>\n",
       "      <td>2.247271e-07</td>\n",
       "    </tr>\n",
       "    <tr>\n",
       "      <th>22</th>\n",
       "      <td>humidity_Seville</td>\n",
       "      <td>2.114852e-07</td>\n",
       "    </tr>\n",
       "    <tr>\n",
       "      <th>62</th>\n",
       "      <td>humidity_Valencia</td>\n",
       "      <td>1.886507e-07</td>\n",
       "    </tr>\n",
       "    <tr>\n",
       "      <th>2</th>\n",
       "      <td>generation fossil gas</td>\n",
       "      <td>1.854627e-07</td>\n",
       "    </tr>\n",
       "    <tr>\n",
       "      <th>51</th>\n",
       "      <td>pressure_Madrid</td>\n",
       "      <td>1.807281e-07</td>\n",
       "    </tr>\n",
       "    <tr>\n",
       "      <th>24</th>\n",
       "      <td>wind_deg_Seville</td>\n",
       "      <td>1.785443e-07</td>\n",
       "    </tr>\n",
       "  </tbody>\n",
       "</table>\n",
       "</div>"
      ],
      "text/plain": [
       "                                features    importance\n",
       "76                        price tomorrow  9.999897e-01\n",
       "19                                  diff  1.103654e-06\n",
       "11                      generation solar  9.665699e-07\n",
       "15       forecast wind onshore day ahead  5.427651e-07\n",
       "53                     wind_speed_Madrid  4.098092e-07\n",
       "9                       generation other  3.987496e-07\n",
       "70                  generation_scheduled  3.797870e-07\n",
       "4                  generation fossil oil  3.694020e-07\n",
       "75                       transmission_sf  3.253684e-07\n",
       "60                         temp_Valencia  2.851397e-07\n",
       "30                       temp_ Barcelona  2.848043e-07\n",
       "74                       transmission_fs  2.841238e-07\n",
       "1   generation fossil brown coal/lignite  2.553142e-07\n",
       "33                 wind_speed_ Barcelona  2.441414e-07\n",
       "43                     wind_speed_Bilbao  2.247271e-07\n",
       "22                      humidity_Seville  2.114852e-07\n",
       "62                     humidity_Valencia  1.886507e-07\n",
       "2                  generation fossil gas  1.854627e-07\n",
       "51                       pressure_Madrid  1.807281e-07\n",
       "24                      wind_deg_Seville  1.785443e-07"
      ]
     },
     "execution_count": 60,
     "metadata": {},
     "output_type": "execute_result"
    }
   ],
   "source": [
    "results = pd.DataFrame({'features':X_train.columns, 'importance':rf_4.feature_importances_})\n",
    "results.sort_values(by='importance', ascending=False).head(20)"
   ]
  },
  {
   "cell_type": "code",
   "execution_count": 61,
   "metadata": {},
   "outputs": [
    {
     "name": "stdout",
     "output_type": "stream",
     "text": [
      "-10.978213470319584\n",
      "-7.8245286885245875\n",
      "-6.9789440639269325\n",
      "-6.261739726027396\n"
     ]
    }
   ],
   "source": [
    "resid_2015 = df_weather.loc['2015', 'price day ahead'] - df_weather.loc['2015', 'price tomorrow']\n",
    "resid_2016 = df_weather.loc['2016', 'price day ahead'] - df_weather.loc['2016', 'price tomorrow']\n",
    "resid_2017 = df_weather.loc['2017', 'price day ahead'] - df_weather.loc['2017', 'price tomorrow']\n",
    "resid_2018 = df_weather.loc['2018', 'price day ahead'] - df_weather.loc['2018', 'price tomorrow']\n",
    "print(resid_2015.mean())\n",
    "print(resid_2016.mean())\n",
    "print(resid_2017.mean())\n",
    "print(resid_2018.mean())"
   ]
  },
  {
   "cell_type": "code",
   "execution_count": 63,
   "metadata": {},
   "outputs": [
    {
     "data": {
      "text/plain": [
       "generation fossil gas                   6\n",
       "total load forecast                     6\n",
       "temp_Seville                            5\n",
       "temp_ Barcelona                         5\n",
       "price day ahead                         5\n",
       "total load actual                       5\n",
       "temp_Valencia                           5\n",
       "temp_Madrid                             5\n",
       "temp_Bilbao                             5\n",
       "generation fossil brown coal/lignite    4\n",
       "generation fossil hard coal             4\n",
       "generation total                        4\n",
       "generation_scheduled                    4\n",
       "humidity_ Barcelona                     2\n",
       "generation biomass                      2\n",
       "humidity_Seville                        2\n",
       "humidity_Madrid                         2\n",
       "pressure_Valencia                       2\n",
       "humidity_Valencia                       2\n",
       "consumption_scheduled                   2\n",
       "dtype: int64"
      ]
     },
     "execution_count": 63,
     "metadata": {},
     "output_type": "execute_result"
    }
   ],
   "source": [
    "(df_weather.corr()>.5).sum().sort_values(ascending=False).head(20)"
   ]
  },
  {
   "cell_type": "code",
   "execution_count": 64,
   "metadata": {
    "scrolled": true
   },
   "outputs": [
    {
     "data": {
      "text/plain": [
       "generation fossil gas                   1.000000\n",
       "price day ahead                         0.640941\n",
       "total load actual                       0.549000\n",
       "total load forecast                     0.543792\n",
       "generation fossil hard coal             0.542379\n",
       "generation fossil brown coal/lignite    0.500410\n",
       "generation total                        0.454143\n",
       "generation_scheduled                    0.453185\n",
       "price tomorrow                          0.376294\n",
       "generation other renewable              0.336596\n",
       "Name: generation fossil gas, dtype: float64"
      ]
     },
     "execution_count": 64,
     "metadata": {},
     "output_type": "execute_result"
    }
   ],
   "source": [
    "df_weather.corr()['generation fossil gas'].sort_values(ascending=False).head(10)"
   ]
  },
  {
   "cell_type": "code",
   "execution_count": 65,
   "metadata": {},
   "outputs": [
    {
     "data": {
      "text/plain": [
       "temp_ Barcelona             1.000000\n",
       "temp_Valencia               0.917515\n",
       "temp_Madrid                 0.903999\n",
       "temp_Bilbao                 0.866736\n",
       "temp_Seville                0.841916\n",
       "forecast solar day ahead    0.391631\n",
       "generation solar            0.386561\n",
       "wind_deg_Seville            0.208402\n",
       "diff                        0.191430\n",
       "total load actual           0.167296\n",
       "Name: temp_ Barcelona, dtype: float64"
      ]
     },
     "execution_count": 65,
     "metadata": {},
     "output_type": "execute_result"
    }
   ],
   "source": [
    "df_weather.corr()['temp_ Barcelona'].sort_values(ascending=False).head(10)"
   ]
  },
  {
   "cell_type": "code",
   "execution_count": 66,
   "metadata": {},
   "outputs": [
    {
     "data": {
      "text/plain": [
       "price day ahead                         1.000000\n",
       "generation fossil hard coal             0.672286\n",
       "generation fossil gas                   0.640941\n",
       "price tomorrow                          0.623742\n",
       "generation fossil brown coal/lignite    0.568483\n",
       "total load forecast                     0.474786\n",
       "total load actual                       0.474458\n",
       "diff                                    0.434762\n",
       "generation other renewable              0.429283\n",
       "generation waste                        0.369069\n",
       "Name: price day ahead, dtype: float64"
      ]
     },
     "execution_count": 66,
     "metadata": {},
     "output_type": "execute_result"
    }
   ],
   "source": [
    "df_weather.corr()['price day ahead'].sort_values(ascending=False).head(10)"
   ]
  },
  {
   "cell_type": "markdown",
   "metadata": {},
   "source": [
    "#### Each year to predict the others 2015, 2016, 2017"
   ]
  },
  {
   "cell_type": "markdown",
   "metadata": {},
   "source": [
    "# Random Forrest without Weather"
   ]
  },
  {
   "cell_type": "code",
   "execution_count": 19,
   "metadata": {},
   "outputs": [],
   "source": [
    "X = df.loc[:,:'diff'].join(df.loc[:,'generation_scheduled':'transmission_sf'])\n",
    "y = df.loc[:,'price tomorrow']"
   ]
  },
  {
   "cell_type": "markdown",
   "metadata": {},
   "source": [
    "## Predict 2021"
   ]
  },
  {
   "cell_type": "code",
   "execution_count": 102,
   "metadata": {},
   "outputs": [
    {
     "name": "stdout",
     "output_type": "stream",
     "text": [
      "r2_train:  0.9853288966135381\n",
      "r2_test:  0.4983591917811668\n"
     ]
    }
   ],
   "source": [
    "# Split data and target\n",
    "X_train = X.loc[:'2020', :].drop(columns='price day ahead')\n",
    "X_test  = X.loc['2021', :].drop(columns='price day ahead')\n",
    "\n",
    "y_train = y.loc[:'2020']\n",
    "y_test = y.loc['2021']\n",
    "\n",
    "rf_10 = fit_train(X_train, X_test, y_train, y_test)"
   ]
  },
  {
   "cell_type": "code",
   "execution_count": 104,
   "metadata": {},
   "outputs": [
    {
     "name": "stdout",
     "output_type": "stream",
     "text": [
      "r2_train:  0.9853484739851249\n",
      "r2_test:  0.4942581451735512\n"
     ]
    }
   ],
   "source": [
    "# Split data and target\n",
    "X_train = X.loc[:'2020', :]\n",
    "X_test  = X.loc['2021', :]\n",
    "\n",
    "y_train = y.loc[:'2020']\n",
    "y_test = y.loc['2021']\n",
    "\n",
    "rf_11 = fit_train(X_train, X_test, y_train, y_test)"
   ]
  },
  {
   "cell_type": "markdown",
   "metadata": {},
   "source": [
    "## Predict 2020"
   ]
  },
  {
   "cell_type": "code",
   "execution_count": 24,
   "metadata": {},
   "outputs": [
    {
     "name": "stdout",
     "output_type": "stream",
     "text": [
      "r2_train:  0.9944753380447451\n",
      "r2_test:  0.9774720722609893\n"
     ]
    }
   ],
   "source": [
    "# Split data and target\n",
    "X_train = X.loc[:'2019' and '2021', :].drop(columns='price day ahead')\n",
    "X_test  = X.loc['2020', :].drop(columns='price day ahead')\n",
    "\n",
    "y_train = y.loc[:'2019' and '2021']\n",
    "y_test = y.loc['2020']\n",
    "\n",
    "rf_12 = fit_train(X_train, X_test, y_train, y_test)"
   ]
  },
  {
   "cell_type": "markdown",
   "metadata": {},
   "source": [
    "## Predict 2019"
   ]
  },
  {
   "cell_type": "code",
   "execution_count": 25,
   "metadata": {},
   "outputs": [
    {
     "name": "stdout",
     "output_type": "stream",
     "text": [
      "r2_train:  0.9853288966135381\n",
      "r2_test:  0.9749246631590144\n"
     ]
    }
   ],
   "source": [
    "# Split data and target\n",
    "X_train = X.loc[:'2018' and '2020':, :].drop(columns='price day ahead')\n",
    "X_test  = X.loc['2019', :].drop(columns='price day ahead')\n",
    "\n",
    "y_train = y.loc[:'2018' and '2020':]\n",
    "y_test = y.loc['2019']\n",
    "\n",
    "rf_13 = fit_train(X_train, X_test, y_train, y_test)"
   ]
  },
  {
   "cell_type": "markdown",
   "metadata": {},
   "source": [
    "## Predict 2018"
   ]
  },
  {
   "cell_type": "code",
   "execution_count": 26,
   "metadata": {},
   "outputs": [
    {
     "name": "stdout",
     "output_type": "stream",
     "text": [
      "r2_train:  0.9816302921703326\n",
      "r2_test:  0.9764677544021004\n"
     ]
    }
   ],
   "source": [
    "# Split data and target\n",
    "X_train = X.loc[:'2017' and '2019':, :].drop(columns='price day ahead')\n",
    "X_test  = X.loc['2018', :].drop(columns='price day ahead')\n",
    "\n",
    "y_train = y.loc[:'2017' and '2019':]\n",
    "y_test = y.loc['2018']\n",
    "\n",
    "rf_14 = fit_train(X_train, X_test, y_train, y_test)"
   ]
  },
  {
   "cell_type": "markdown",
   "metadata": {},
   "source": [
    "## Predict 2017"
   ]
  },
  {
   "cell_type": "code",
   "execution_count": 27,
   "metadata": {},
   "outputs": [
    {
     "name": "stdout",
     "output_type": "stream",
     "text": [
      "r2_train:  0.9809083973692719\n",
      "r2_test:  0.977967200467218\n"
     ]
    }
   ],
   "source": [
    "# Split data and target\n",
    "X_train = X.loc[:'2016' and '2018':, :].drop(columns='price day ahead')\n",
    "X_test  = X.loc['2017', :].drop(columns='price day ahead')\n",
    "\n",
    "y_train = y.loc[:'2016' and '2018':]\n",
    "y_test = y.loc['2017']\n",
    "\n",
    "rf_15 = fit_train(X_train, X_test, y_train, y_test)"
   ]
  },
  {
   "cell_type": "markdown",
   "metadata": {},
   "source": [
    "## Predict 2016"
   ]
  },
  {
   "cell_type": "code",
   "execution_count": 30,
   "metadata": {},
   "outputs": [
    {
     "name": "stdout",
     "output_type": "stream",
     "text": [
      "r2_train:  0.9945918744515214\n",
      "r2_test:  0.4045800039049617\n"
     ]
    }
   ],
   "source": [
    "# Split data and target\n",
    "X_train = X.loc['2015' and '2017':, :].drop(columns='price day ahead')\n",
    "X_test  = X.loc['2016', :].drop(columns='price day ahead')\n",
    "\n",
    "y_train = y.loc['2015' and '2017':]\n",
    "y_test = y.loc['2016']\n",
    "\n",
    "rf_16 = fit_train(X_train, X_test, y_train, y_test)"
   ]
  },
  {
   "cell_type": "markdown",
   "metadata": {},
   "source": [
    "## Predict 2015"
   ]
  },
  {
   "cell_type": "code",
   "execution_count": 31,
   "metadata": {},
   "outputs": [
    {
     "name": "stdout",
     "output_type": "stream",
     "text": [
      "r2_train:  0.9946828110723812\n",
      "r2_test:  0.4409270058229859\n"
     ]
    }
   ],
   "source": [
    "# Split data and target\n",
    "X_train = X.loc['2016':, :].drop(columns='price day ahead')\n",
    "X_test  = X.loc['2015', :].drop(columns='price day ahead')\n",
    "\n",
    "y_train = y.loc['2016':]\n",
    "y_test = y.loc['2015']\n",
    "\n",
    "rf_17 = fit_train(X_train, X_test, y_train, y_test)"
   ]
  }
 ],
 "metadata": {
  "kernelspec": {
   "display_name": "learn-env",
   "language": "python",
   "name": "learn-env"
  },
  "language_info": {
   "codemirror_mode": {
    "name": "ipython",
    "version": 3
   },
   "file_extension": ".py",
   "mimetype": "text/x-python",
   "name": "python",
   "nbconvert_exporter": "python",
   "pygments_lexer": "ipython3",
   "version": "3.8.5"
  }
 },
 "nbformat": 4,
 "nbformat_minor": 4
}
