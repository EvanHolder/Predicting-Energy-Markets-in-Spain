{
 "cells": [
  {
   "cell_type": "code",
   "execution_count": 2,
   "metadata": {},
   "outputs": [],
   "source": [
    "import requests\n",
    "import datetime as dt\n",
    "import pandas as pd\n",
    "\n",
    "# Initialize dictionary to hold info\n",
    "data = {'values':[], 'datetime':[]}\n",
    "\n",
    "# Initialize request parameters\n",
    "widget='precios-mercados-tiempo-real'\n",
    "lang='en'\n",
    "category='mercados'\n",
    "time_trunc = 'hour'\n",
    "\n",
    "# Request start and stop dates\n",
    "start = dt.datetime(2019,1,1)\n",
    "stop_pull = dt.datetime(2022,1,20)\n",
    "\n",
    "while start < stop_pull:\n",
    "    \n",
    "    # calculate the stop time\n",
    "    stop = start + dt.timedelta(hours=372)\n",
    "    \n",
    "    # if the stop time is at the end of the pull range, set it equal to last day\n",
    "    if stop >= stop_pull:\n",
    "        stop = stop_pull\n",
    "    \n",
    "    # Reformat date for api pull\n",
    "    start_date = f'{start}'.replace(' ', 'T')[:-3]\n",
    "    stop_date = f'{stop}'.replace(' ', 'T')[:-3]\n",
    "    \n",
    "    # Create get request\n",
    "    url = f'https://apidatos.ree.es/{lang}/datos/{category}/{widget}?start_date={start_date}&end_date={stop_date}&time_trunc={time_trunc}'\n",
    "    request = requests.get(url)\n",
    "    json = request.json()\n",
    "    \n",
    "    # store request in data dictionary\n",
    "    for val in json['included'][0]['attributes']['values']:\n",
    "        data['values'].append(val['value'])\n",
    "        data['datetime'].append(val['datetime'])\n",
    "    \n",
    "    # Go to the next hour\n",
    "    start = stop + dt.timedelta(hours=1)\n",
    "    \n",
    "# Convert data to df\n",
    "df = pd.DataFrame({'datetime':data['datetime'], 'price actual':data['values']})\n",
    "df['datetime'] = pd.to_datetime(df['datetime'].apply(lambda x: x[:-16]))\n",
    "df.set_index('datetime', inplace=True)\n",
    "df.to_csv('../data/prices.csv')"
   ]
  }
 ],
 "metadata": {
  "kernelspec": {
   "display_name": "learn-env",
   "language": "python",
   "name": "learn-env"
  },
  "language_info": {
   "codemirror_mode": {
    "name": "ipython",
    "version": 3
   },
   "file_extension": ".py",
   "mimetype": "text/x-python",
   "name": "python",
   "nbconvert_exporter": "python",
   "pygments_lexer": "ipython3",
   "version": "3.8.5"
  }
 },
 "nbformat": 4,
 "nbformat_minor": 4
}
