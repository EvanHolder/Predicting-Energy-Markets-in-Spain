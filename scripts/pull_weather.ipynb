{
 "cells": [
  {
   "cell_type": "code",
   "execution_count": 1,
   "metadata": {},
   "outputs": [],
   "source": [
    "import requests\n",
    "import datetime as dt\n",
    "import pandas as pd\n",
    "import datetime as dt"
   ]
  },
  {
   "cell_type": "code",
   "execution_count": 2,
   "metadata": {},
   "outputs": [],
   "source": [
    "import meteostat\n",
    "from meteostat import Hourly\n",
    "from meteostat import Point"
   ]
  },
  {
   "cell_type": "code",
   "execution_count": 21,
   "metadata": {},
   "outputs": [],
   "source": [
    "from bs4 import BeautifulSoup as BS\n",
    "from selenium import webdriver\n",
    "from functools import reduce\n",
    "import pandas as pd\n",
    "import time"
   ]
  },
  {
   "cell_type": "code",
   "execution_count": 22,
   "metadata": {},
   "outputs": [],
   "source": [
    "def render_page(url):\n",
    "    driver = webdriver.Chrome('C:/Users/holde/Downloads/chromedriver_win32/chromedriver')\n",
    "    driver.get(url)\n",
    "    time.sleep(3)\n",
    "    r = driver.page_source\n",
    "    driver.quit()\n",
    "    return r"
   ]
  },
  {
   "cell_type": "code",
   "execution_count": 23,
   "metadata": {},
   "outputs": [],
   "source": [
    "def scraper(page, dates):\n",
    "    output = pd.DataFrame()\n",
    "\n",
    "    for d in dates:\n",
    "\n",
    "        url = str(str(page) + str(d))\n",
    "\n",
    "        r = render_page(url)\n",
    "\n",
    "        soup = BS(r, \"html.parser\")\n",
    "        container = soup.find('lib-city-history-observation')\n",
    "        check = container.find('tbody')\n",
    "\n",
    "        data = []\n",
    "\n",
    "        for c in check.find_all('tr', class_='ng-star-inserted'):\n",
    "            for i in c.find_all('td', class_='ng-star-inserted'):\n",
    "                trial = i.text\n",
    "                trial = trial.strip('  ')\n",
    "                data.append(trial)\n",
    "\n",
    "        if round(len(data) / 17 - 1) == 31:\n",
    "            Temperature = pd.DataFrame([data[32:128][x:x + 3] for x in range(0, len(data[32:128]), 3)][1:],\n",
    "                                       columns=['Temp_max', 'Temp_avg', 'Temp_min'])\n",
    "            Dew_Point = pd.DataFrame([data[128:224][x:x + 3] for x in range(0, len(data[128:224]), 3)][1:],\n",
    "                                     columns=['Dew_max', 'Dew_avg', 'Dew_min'])\n",
    "            Humidity = pd.DataFrame([data[224:320][x:x + 3] for x in range(0, len(data[224:320]), 3)][1:],\n",
    "                                    columns=['Hum_max', 'Hum_avg', 'Hum_min'])\n",
    "            Wind = pd.DataFrame([data[320:416][x:x + 3] for x in range(0, len(data[320:416]), 3)][1:],\n",
    "                                columns=['Wind_max', 'Wind_avg', 'Wind_min'])\n",
    "            Pressure = pd.DataFrame([data[416:512][x:x + 3] for x in range(0, len(data[416:512]), 3)][1:],\n",
    "                                    columns=['Pres_max', 'Pres_avg', 'Pres_min'])\n",
    "            Date = pd.DataFrame(data[:32][1:], columns=data[:1])\n",
    "            Precipitation = pd.DataFrame(data[512:][1:], columns=['Precipitation'])\n",
    "            print(str(str(d) + ' finished!'))\n",
    "        elif round(len(data) / 17 - 1) == 28:\n",
    "            Temperature = pd.DataFrame([data[29:116][x:x + 3] for x in range(0, len(data[29:116]), 3)][1:],\n",
    "                                       columns=['Temp_max', 'Temp_avg', 'Temp_min'])\n",
    "            Dew_Point = pd.DataFrame([data[116:203][x:x + 3] for x in range(0, len(data[116:203]), 3)][1:],\n",
    "                                     columns=['Dew_max', 'Dew_avg', 'Dew_min'])\n",
    "            Humidity = pd.DataFrame([data[203:290][x:x + 3] for x in range(0, len(data[203:290]), 3)][1:],\n",
    "                                    columns=['Hum_max', 'Hum_avg', 'Hum_min'])\n",
    "            Wind = pd.DataFrame([data[290:377][x:x + 3] for x in range(0, len(data[290:377]), 3)][1:],\n",
    "                                columns=['Wind_max', 'Wind_avg', 'Wind_min'])\n",
    "            Pressure = pd.DataFrame([data[377:464][x:x + 3] for x in range(0, len(data[377:463]), 3)][1:],\n",
    "                                    columns=['Pres_max', 'Pres_avg', 'Pres_min'])\n",
    "            Date = pd.DataFrame(data[:29][1:], columns=data[:1])\n",
    "            Precipitation = pd.DataFrame(data[464:][1:], columns=['Precipitation'])\n",
    "            print(str(str(d) + ' finished!'))\n",
    "        elif round(len(data) / 17 - 1) == 29:\n",
    "            Temperature = pd.DataFrame([data[30:120][x:x + 3] for x in range(0, len(data[30:120]), 3)][1:],\n",
    "                                       columns=['Temp_max', 'Temp_avg', 'Temp_min'])\n",
    "            Dew_Point = pd.DataFrame([data[120:210][x:x + 3] for x in range(0, len(data[120:210]), 3)][1:],\n",
    "                                     columns=['Dew_max', 'Dew_avg', 'Dew_min'])\n",
    "            Humidity = pd.DataFrame([data[210:300][x:x + 3] for x in range(0, len(data[210:300]), 3)][1:],\n",
    "                                    columns=['Hum_max', 'Hum_avg', 'Hum_min'])\n",
    "            Wind = pd.DataFrame([data[300:390][x:x + 3] for x in range(0, len(data[300:390]), 3)][1:],\n",
    "                                columns=['Wind_max', 'Wind_avg', 'Wind_min'])\n",
    "            Pressure = pd.DataFrame([data[390:480][x:x + 3] for x in range(0, len(data[390:480]), 3)][1:],\n",
    "                                    columns=['Pres_max', 'Pres_avg', 'Pres_min'])\n",
    "            Date = pd.DataFrame(data[:30][1:], columns=data[:1])\n",
    "            Precipitation = pd.DataFrame(data[480:][1:], columns=['Precipitation'])\n",
    "            print(str(str(d) + ' finished!'))\n",
    "        elif round(len(data) / 17 - 1) == 30:\n",
    "            Temperature = pd.DataFrame([data[31:124][x:x + 3] for x in range(0, len(data[31:124]), 3)][1:],\n",
    "                                       columns=['Temp_max', 'Temp_avg', 'Temp_min'])\n",
    "            Dew_Point = pd.DataFrame([data[124:217][x:x + 3] for x in range(0, len(data[124:217]), 3)][1:],\n",
    "                                     columns=['Dew_max', 'Dew_avg', 'Dew_min'])\n",
    "            Humidity = pd.DataFrame([data[217:310][x:x + 3] for x in range(0, len(data[217:310]), 3)][1:],\n",
    "                                    columns=['Hum_max', 'Hum_avg', 'Hum_min'])\n",
    "            Wind = pd.DataFrame([data[310:403][x:x + 3] for x in range(0, len(data[310:403]), 3)][1:],\n",
    "                                columns=['Wind_max', 'Wind_avg', 'Wind_min'])\n",
    "            Pressure = pd.DataFrame([data[403:496][x:x + 3] for x in range(0, len(data[403:496]), 3)][1:],\n",
    "                                    columns=['Pres_max', 'Pres_avg', 'Pres_min'])\n",
    "            Date = pd.DataFrame(data[:31][1:], columns=data[:1])\n",
    "            Precipitation = pd.DataFrame(data[496:][1:], columns=['Precipitation'])\n",
    "            print(str(str(d) + ' finished!'))\n",
    "        else:\n",
    "            print('Data not in normal length')\n",
    "\n",
    "        dfs = [Date, Temperature, Dew_Point, Humidity, Wind, Pressure, Precipitation]\n",
    "\n",
    "        df_final = reduce(lambda left, right: pd.merge(left, right, left_index=True, right_index=True), dfs)\n",
    "\n",
    "        df_final['Date'] = str(d) + \"-\" + df_final.iloc[:, :1].astype(str)\n",
    "\n",
    "        output = output.append(df_final)\n",
    "\n",
    "    print('Scraper done!')\n",
    "\n",
    "    output = output[['Temp_avg', 'Temp_min', 'Dew_max', 'Dew_avg', 'Dew_min', 'Hum_max',\n",
    "                     'Hum_avg', 'Hum_min', 'Wind_max', 'Wind_avg', 'Wind_min', 'Pres_max',\n",
    "                     'Pres_avg', 'Pres_min', 'Precipitation', 'Date']]\n",
    "\n",
    "    return output"
   ]
  },
  {
   "cell_type": "code",
   "execution_count": 24,
   "metadata": {},
   "outputs": [
    {
     "name": "stderr",
     "output_type": "stream",
     "text": [
      "DeprecationWarning: executable_path has been deprecated, please pass in a Service object\n"
     ]
    },
    {
     "name": "stdout",
     "output_type": "stream",
     "text": [
      "Data not in normal length\n"
     ]
    },
    {
     "ename": "UnboundLocalError",
     "evalue": "local variable 'Date' referenced before assignment",
     "output_type": "error",
     "traceback": [
      "\u001b[1;31m---------------------------------------------------------------------------\u001b[0m",
      "\u001b[1;31mUnboundLocalError\u001b[0m                         Traceback (most recent call last)",
      "\u001b[1;32m<ipython-input-24-eb1e7b7daa6c>\u001b[0m in \u001b[0;36m<module>\u001b[1;34m\u001b[0m\n\u001b[0;32m      1\u001b[0m \u001b[0mdates\u001b[0m \u001b[1;33m=\u001b[0m \u001b[1;33m[\u001b[0m\u001b[1;34m'2015-1-1'\u001b[0m\u001b[1;33m,\u001b[0m\u001b[1;34m'2015-1-2'\u001b[0m\u001b[1;33m]\u001b[0m\u001b[1;33m\u001b[0m\u001b[1;33m\u001b[0m\u001b[0m\n\u001b[0;32m      2\u001b[0m \u001b[0mpage\u001b[0m \u001b[1;33m=\u001b[0m \u001b[1;34m'https://www.wunderground.com/history/daily/LEMD/date/'\u001b[0m\u001b[1;33m\u001b[0m\u001b[1;33m\u001b[0m\u001b[0m\n\u001b[1;32m----> 3\u001b[1;33m \u001b[0mdf_output\u001b[0m \u001b[1;33m=\u001b[0m \u001b[0mscraper\u001b[0m\u001b[1;33m(\u001b[0m\u001b[0mpage\u001b[0m\u001b[1;33m,\u001b[0m\u001b[0mdates\u001b[0m\u001b[1;33m)\u001b[0m\u001b[1;33m\u001b[0m\u001b[1;33m\u001b[0m\u001b[0m\n\u001b[0m",
      "\u001b[1;32m<ipython-input-23-37402be29d75>\u001b[0m in \u001b[0;36mscraper\u001b[1;34m(page, dates)\u001b[0m\n\u001b[0;32m     79\u001b[0m             \u001b[0mprint\u001b[0m\u001b[1;33m(\u001b[0m\u001b[1;34m'Data not in normal length'\u001b[0m\u001b[1;33m)\u001b[0m\u001b[1;33m\u001b[0m\u001b[1;33m\u001b[0m\u001b[0m\n\u001b[0;32m     80\u001b[0m \u001b[1;33m\u001b[0m\u001b[0m\n\u001b[1;32m---> 81\u001b[1;33m         \u001b[0mdfs\u001b[0m \u001b[1;33m=\u001b[0m \u001b[1;33m[\u001b[0m\u001b[0mDate\u001b[0m\u001b[1;33m,\u001b[0m \u001b[0mTemperature\u001b[0m\u001b[1;33m,\u001b[0m \u001b[0mDew_Point\u001b[0m\u001b[1;33m,\u001b[0m \u001b[0mHumidity\u001b[0m\u001b[1;33m,\u001b[0m \u001b[0mWind\u001b[0m\u001b[1;33m,\u001b[0m \u001b[0mPressure\u001b[0m\u001b[1;33m,\u001b[0m \u001b[0mPrecipitation\u001b[0m\u001b[1;33m]\u001b[0m\u001b[1;33m\u001b[0m\u001b[1;33m\u001b[0m\u001b[0m\n\u001b[0m\u001b[0;32m     82\u001b[0m \u001b[1;33m\u001b[0m\u001b[0m\n\u001b[0;32m     83\u001b[0m         \u001b[0mdf_final\u001b[0m \u001b[1;33m=\u001b[0m \u001b[0mreduce\u001b[0m\u001b[1;33m(\u001b[0m\u001b[1;32mlambda\u001b[0m \u001b[0mleft\u001b[0m\u001b[1;33m,\u001b[0m \u001b[0mright\u001b[0m\u001b[1;33m:\u001b[0m \u001b[0mpd\u001b[0m\u001b[1;33m.\u001b[0m\u001b[0mmerge\u001b[0m\u001b[1;33m(\u001b[0m\u001b[0mleft\u001b[0m\u001b[1;33m,\u001b[0m \u001b[0mright\u001b[0m\u001b[1;33m,\u001b[0m \u001b[0mleft_index\u001b[0m\u001b[1;33m=\u001b[0m\u001b[1;32mTrue\u001b[0m\u001b[1;33m,\u001b[0m \u001b[0mright_index\u001b[0m\u001b[1;33m=\u001b[0m\u001b[1;32mTrue\u001b[0m\u001b[1;33m)\u001b[0m\u001b[1;33m,\u001b[0m \u001b[0mdfs\u001b[0m\u001b[1;33m)\u001b[0m\u001b[1;33m\u001b[0m\u001b[1;33m\u001b[0m\u001b[0m\n",
      "\u001b[1;31mUnboundLocalError\u001b[0m: local variable 'Date' referenced before assignment"
     ]
    }
   ],
   "source": [
    "dates = ['2015-1-1','2015-1-2']\n",
    "page = 'https://www.wunderground.com/history/daily/LEMD/date/'\n",
    "df_output = scraper(page,dates)"
   ]
  },
  {
   "cell_type": "code",
   "execution_count": 3,
   "metadata": {},
   "outputs": [
    {
     "data": {
      "text/plain": [
       "<meteostat.interface.point.Point at 0x20016b99a90>"
      ]
     },
     "execution_count": 3,
     "metadata": {},
     "output_type": "execute_result"
    }
   ],
   "source": [
    "madrid = Point(40.4168, 3.7038, 70)\n",
    "madrid"
   ]
  },
  {
   "cell_type": "code",
   "execution_count": 11,
   "metadata": {},
   "outputs": [],
   "source": [
    "start = dt.datetime(2015,1,1)\n",
    "stop = dt.datetime(2015,1,2)"
   ]
  },
  {
   "cell_type": "code",
   "execution_count": 13,
   "metadata": {},
   "outputs": [
    {
     "name": "stderr",
     "output_type": "stream",
     "text": [
      "Warning: Cannot load hourly/full/2015/21230.csv.gz from https://bulk.meteostat.net/v2/\n"
     ]
    }
   ],
   "source": [
    "data = Hourly(21230, start = start, end=stop)"
   ]
  },
  {
   "cell_type": "code",
   "execution_count": 10,
   "metadata": {},
   "outputs": [
    {
     "data": {
      "text/html": [
       "<div>\n",
       "<style scoped>\n",
       "    .dataframe tbody tr th:only-of-type {\n",
       "        vertical-align: middle;\n",
       "    }\n",
       "\n",
       "    .dataframe tbody tr th {\n",
       "        vertical-align: top;\n",
       "    }\n",
       "\n",
       "    .dataframe thead th {\n",
       "        text-align: right;\n",
       "    }\n",
       "</style>\n",
       "<table border=\"1\" class=\"dataframe\">\n",
       "  <thead>\n",
       "    <tr style=\"text-align: right;\">\n",
       "      <th></th>\n",
       "      <th>temp</th>\n",
       "      <th>dwpt</th>\n",
       "      <th>rhum</th>\n",
       "      <th>prcp</th>\n",
       "      <th>snow</th>\n",
       "      <th>wdir</th>\n",
       "      <th>wspd</th>\n",
       "      <th>wpgt</th>\n",
       "      <th>pres</th>\n",
       "      <th>tsun</th>\n",
       "      <th>coco</th>\n",
       "    </tr>\n",
       "    <tr>\n",
       "      <th>time</th>\n",
       "      <th></th>\n",
       "      <th></th>\n",
       "      <th></th>\n",
       "      <th></th>\n",
       "      <th></th>\n",
       "      <th></th>\n",
       "      <th></th>\n",
       "      <th></th>\n",
       "      <th></th>\n",
       "      <th></th>\n",
       "      <th></th>\n",
       "    </tr>\n",
       "  </thead>\n",
       "  <tbody>\n",
       "  </tbody>\n",
       "</table>\n",
       "</div>"
      ],
      "text/plain": [
       "Empty DataFrame\n",
       "Columns: [temp, dwpt, rhum, prcp, snow, wdir, wspd, wpgt, pres, tsun, coco]\n",
       "Index: []"
      ]
     },
     "execution_count": 10,
     "metadata": {},
     "output_type": "execute_result"
    }
   ],
   "source": [
    "data.fetch()"
   ]
  },
  {
   "cell_type": "code",
   "execution_count": null,
   "metadata": {},
   "outputs": [],
   "source": [
    "endpoint = 'https://bulk.meteostat.net/v2/hourly/obs/{station}.csv.gz'"
   ]
  },
  {
   "cell_type": "code",
   "execution_count": null,
   "metadata": {},
   "outputs": [],
   "source": [
    "# Initialize dictionary to hold info\n",
    "data = {'values':[], 'datetime':[]}\n",
    "\n",
    "# Initialize request parameters\n",
    "widget='precios-mercados-tiempo-real'\n",
    "lang='en'\n",
    "category='mercados'\n",
    "time_trunc = 'hour'\n",
    "\n",
    "# Request start and stop dates\n",
    "start = dt.datetime(2019,1,1)\n",
    "stop_pull = dt.datetime(2022,1,20)\n",
    "\n",
    "while start < stop_pull:\n",
    "    \n",
    "    # calculate the stop time\n",
    "    stop = start + dt.timedelta(hours=372)\n",
    "    \n",
    "    # if the stop time is at the end of the pull range, set it equal to last day\n",
    "    if stop >= stop_pull:\n",
    "        stop = stop_pull\n",
    "    \n",
    "    # Reformat date for api pull\n",
    "    start_date = f'{start}'.replace(' ', 'T')[:-3]\n",
    "    stop_date = f'{stop}'.replace(' ', 'T')[:-3]\n",
    "    \n",
    "    # Create get request\n",
    "    url = f'https://apidatos.ree.es/{lang}/datos/{category}/{widget}?start_date={start_date}&end_date={stop_date}&time_trunc={time_trunc}'\n",
    "    request = requests.get(url)\n",
    "    json = request.json()\n",
    "    \n",
    "    # store request in data dictionary\n",
    "    for val in json['included'][0]['attributes']['values']:\n",
    "        data['values'].append(val['value'])\n",
    "        data['datetime'].append(val['datetime'])\n",
    "    \n",
    "    # Go to the next hour\n",
    "    start = stop + dt.timedelta(hours=1)\n",
    "    \n",
    "# Convert data to df\n",
    "df = pd.DataFrame({'datetime':data['datetime'], 'price actual':data['values']})\n",
    "df['datetime'] = pd.to_datetime(df['datetime'].apply(lambda x: x[:-16]))\n",
    "df.set_index('datetime', inplace=True)\n",
    "df.to_csv('../data/prices.csv')"
   ]
  }
 ],
 "metadata": {
  "kernelspec": {
   "display_name": "learn-env",
   "language": "python",
   "name": "learn-env"
  },
  "language_info": {
   "codemirror_mode": {
    "name": "ipython",
    "version": 3
   },
   "file_extension": ".py",
   "mimetype": "text/x-python",
   "name": "python",
   "nbconvert_exporter": "python",
   "pygments_lexer": "ipython3",
   "version": "3.8.5"
  }
 },
 "nbformat": 4,
 "nbformat_minor": 4
}
